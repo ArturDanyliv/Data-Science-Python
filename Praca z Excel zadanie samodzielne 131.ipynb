{
 "cells": [
  {
   "cell_type": "code",
   "execution_count": 1,
   "id": "14321b23",
   "metadata": {},
   "outputs": [],
   "source": [
    "# 1. Zaimportuj moduł pandas i numpy nadaj im standardowe aliasy\n",
    "# 2. Do zmiennej mcdonalds zaimportuj plik mcdonalds.csv, pobierz tylko kolumny Category, Item, Calories\n",
    "#i TotalFat\n",
    "# 3. Zadeklaruj zmienną excelWriter, która pozwoli na zapisywanie danych do skoroszytu mcdonalds-\n",
    "#excel.xls\n",
    "# 4. Zapisz zawartość zmiennej mcdonalds do excelWriter. Nowy arkusz ma się nazywać Menu. Indeks nie\n",
    "#powinien być zapisywany\n",
    "# 5. Zapisz excelWriter na dysku. (Dobry pomysł sprawdzić, jak wygląda teraz plik, ale po takim sprawdzeniu\n",
    "#pamiętaj aby zamknąć Excela, bo inaczej dostęp do pliku może być zablokowany)\n",
    "# 6. Do zmiennej imported1 zaimportuj ze skoroszytu mcdonalds-excel.xls arkusz Menu.\n",
    "# 7. Zaktualizuj w imported zawartość kolumny Calories dzieląc ją przez 2.\n",
    "# 8. Zapisz zawartość imported1 w excelWriter, dodając arkusz Menu Light\n",
    "# 9. Zaktualizuj w imported1 zawartość kolumny Calories dzieląc ją ponownie przez 2.\n",
    "# 10. Zapisz zawartość imported1 w excelWriter, dodając arkusz Menu Extra Light\n",
    "# 11. Zapisz excelWriter na dysku.\n",
    "# 12. Do zmiennej final wczytaj zawartość wszyskich arkuszy ze skoroszytu mcdonalds-excel.xls\n",
    "# 13. Sprawdź ile masz obiektów data frame w zmiennej final, wyświetlając jej długość\n",
    "# 14. Wyświetl nagłówek zerowego, pierwszego i drugiego arkusza. Czy widzisz zmniejszającą się ilość kalorii w\n",
    "#kolejnych arkuszach?"
   ]
  },
  {
   "cell_type": "code",
   "execution_count": 2,
   "id": "a0b24f16",
   "metadata": {},
   "outputs": [],
   "source": [
    "import pandas as pd \n",
    "import numpy as np"
   ]
  },
  {
   "cell_type": "code",
   "execution_count": 3,
   "id": "9a783c64",
   "metadata": {},
   "outputs": [
    {
     "data": {
      "text/html": [
       "<div>\n",
       "<style scoped>\n",
       "    .dataframe tbody tr th:only-of-type {\n",
       "        vertical-align: middle;\n",
       "    }\n",
       "\n",
       "    .dataframe tbody tr th {\n",
       "        vertical-align: top;\n",
       "    }\n",
       "\n",
       "    .dataframe thead th {\n",
       "        text-align: right;\n",
       "    }\n",
       "</style>\n",
       "<table border=\"1\" class=\"dataframe\">\n",
       "  <thead>\n",
       "    <tr style=\"text-align: right;\">\n",
       "      <th></th>\n",
       "      <th>Category</th>\n",
       "      <th>Item</th>\n",
       "      <th>Calories</th>\n",
       "      <th>TotalFat</th>\n",
       "    </tr>\n",
       "  </thead>\n",
       "  <tbody>\n",
       "    <tr>\n",
       "      <th>0</th>\n",
       "      <td>Breakfast</td>\n",
       "      <td>Egg McMuffin</td>\n",
       "      <td>300</td>\n",
       "      <td>13.0</td>\n",
       "    </tr>\n",
       "    <tr>\n",
       "      <th>1</th>\n",
       "      <td>Breakfast</td>\n",
       "      <td>Egg White Delight</td>\n",
       "      <td>250</td>\n",
       "      <td>8.0</td>\n",
       "    </tr>\n",
       "    <tr>\n",
       "      <th>2</th>\n",
       "      <td>Breakfast</td>\n",
       "      <td>Sausage McMuffin</td>\n",
       "      <td>370</td>\n",
       "      <td>23.0</td>\n",
       "    </tr>\n",
       "    <tr>\n",
       "      <th>3</th>\n",
       "      <td>Breakfast</td>\n",
       "      <td>Sausage McMuffin with Egg</td>\n",
       "      <td>450</td>\n",
       "      <td>28.0</td>\n",
       "    </tr>\n",
       "    <tr>\n",
       "      <th>4</th>\n",
       "      <td>Breakfast</td>\n",
       "      <td>Sausage McMuffin with Egg Whites</td>\n",
       "      <td>400</td>\n",
       "      <td>23.0</td>\n",
       "    </tr>\n",
       "  </tbody>\n",
       "</table>\n",
       "</div>"
      ],
      "text/plain": [
       "    Category                              Item  Calories  TotalFat\n",
       "0  Breakfast                      Egg McMuffin       300      13.0\n",
       "1  Breakfast                 Egg White Delight       250       8.0\n",
       "2  Breakfast                  Sausage McMuffin       370      23.0\n",
       "3  Breakfast         Sausage McMuffin with Egg       450      28.0\n",
       "4  Breakfast  Sausage McMuffin with Egg Whites       400      23.0"
      ]
     },
     "execution_count": 3,
     "metadata": {},
     "output_type": "execute_result"
    }
   ],
   "source": [
    "mcdonalds = pd.read_csv(\"/Users/arturdanyliv/Downloads/course-files/Mcdonalds.csv\", usecols=['Category','Item','Calories','TotalFat']) \n",
    "mcdonalds.head()"
   ]
  },
  {
   "cell_type": "code",
   "execution_count": 6,
   "id": "9907cb3d",
   "metadata": {},
   "outputs": [],
   "source": [
    "# excelWriter = pd.ExcelWriter(\"mcdonalds-excel.xls\")"
   ]
  },
  {
   "cell_type": "code",
   "execution_count": 7,
   "id": "0ac9f74b",
   "metadata": {},
   "outputs": [],
   "source": [
    "# mcdonalds.to_excel(excelWriter, sheet_name=\"Menu\",index=False)"
   ]
  },
  {
   "cell_type": "code",
   "execution_count": 8,
   "id": "5f4941d2",
   "metadata": {},
   "outputs": [],
   "source": [
    "# excelWriter.save()"
   ]
  },
  {
   "cell_type": "code",
   "execution_count": 9,
   "id": "39fb9666",
   "metadata": {},
   "outputs": [],
   "source": [
    "# imported1 = pd.read_excel(\"mcdonalds-excel.xls\", sheet_name=\"Menu\")"
   ]
  },
  {
   "cell_type": "code",
   "execution_count": 10,
   "id": "613a19f4",
   "metadata": {},
   "outputs": [],
   "source": [
    "# imported1 = pd.read_excel(\"mcdonalds-excel.xls\", sheet_name=\"Menu\")"
   ]
  },
  {
   "cell_type": "code",
   "execution_count": 11,
   "id": "64ca3a09",
   "metadata": {},
   "outputs": [],
   "source": [
    "# imported1.head()"
   ]
  },
  {
   "cell_type": "code",
   "execution_count": 12,
   "id": "5702e11d",
   "metadata": {},
   "outputs": [],
   "source": [
    "# imported1.to_excel(excelWriter, sheet_name=\"Menu Light\")"
   ]
  },
  {
   "cell_type": "code",
   "execution_count": 13,
   "id": "9addbf63",
   "metadata": {},
   "outputs": [],
   "source": [
    "# imported1[\"Calories\"] = imported1[\"Calories\"]/2"
   ]
  },
  {
   "cell_type": "code",
   "execution_count": 14,
   "id": "37e9c519",
   "metadata": {},
   "outputs": [],
   "source": [
    "# imported1.head()"
   ]
  },
  {
   "cell_type": "code",
   "execution_count": 15,
   "id": "18bc724e",
   "metadata": {},
   "outputs": [],
   "source": [
    "# imported1.to_excel(excelWriter, sheet_name=\"Menu Extra Light\")"
   ]
  },
  {
   "cell_type": "code",
   "execution_count": 16,
   "id": "7dc8e525",
   "metadata": {},
   "outputs": [],
   "source": [
    "# excelWriter.save()"
   ]
  },
  {
   "cell_type": "code",
   "execution_count": 17,
   "id": "21ca9244",
   "metadata": {},
   "outputs": [],
   "source": [
    "# final = pd.read_excel(\"mcdonalds-excel.xls\", sheet_name=[0,1,2])"
   ]
  },
  {
   "cell_type": "code",
   "execution_count": null,
   "id": "3cf4143c",
   "metadata": {},
   "outputs": [],
   "source": []
  }
 ],
 "metadata": {
  "kernelspec": {
   "display_name": "Python 3 (ipykernel)",
   "language": "python",
   "name": "python3"
  },
  "language_info": {
   "codemirror_mode": {
    "name": "ipython",
    "version": 3
   },
   "file_extension": ".py",
   "mimetype": "text/x-python",
   "name": "python",
   "nbconvert_exporter": "python",
   "pygments_lexer": "ipython3",
   "version": "3.10.9"
  }
 },
 "nbformat": 4,
 "nbformat_minor": 5
}
