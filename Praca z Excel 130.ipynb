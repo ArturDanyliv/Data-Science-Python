{
 "cells": [
  {
   "cell_type": "code",
   "execution_count": 1,
   "id": "bcda6ab7",
   "metadata": {},
   "outputs": [],
   "source": [
    "import pandas as pd \n",
    "import numpy as np "
   ]
  },
  {
   "cell_type": "code",
   "execution_count": 3,
   "id": "df4b3233",
   "metadata": {},
   "outputs": [],
   "source": [
    "# pd.read_excel('',shest_name='Old Europe')\n",
    "# ktory akrusz chcemy zaimportowac Old Europe\n",
    "# mozemy rowniez wpisac 1 (importujemy arkusz 1 a nie 0) jezeli chcemy na nowa Erupe to wpiszemy 2 \n",
    "# albo wpisac shest_name= ='New Europe'\n",
    "# shest_name= [1, 2, 3] stara eropa nowa europa i pozostale kraje Europejskie \n",
    "\n",
    "# sheets = pd.read_excel('PC_Vehicles-in-use.xlsx',sheet_name=[1,2,3])"
   ]
  },
  {
   "cell_type": "code",
   "execution_count": 4,
   "id": "98dc8d77",
   "metadata": {},
   "outputs": [],
   "source": [
    "# type(sheets) ---> collections.OrderedDict slownik "
   ]
  },
  {
   "cell_type": "code",
   "execution_count": 5,
   "id": "4a63fda5",
   "metadata": {},
   "outputs": [],
   "source": [
    "# sheets[1] ----> chcemy klucz z wartoscia 1 skorzystaly z nazw okreslonych arkuszy "
   ]
  },
  {
   "cell_type": "code",
   "execution_count": 6,
   "id": "e3be6dc2",
   "metadata": {},
   "outputs": [],
   "source": [
    "# sheets = pd.read_excel('PC_Vehicles-in-use.xlsx',sheet_name=['Old Europe','New Europe'])"
   ]
  },
  {
   "cell_type": "code",
   "execution_count": 7,
   "id": "0e6f1bf0",
   "metadata": {},
   "outputs": [],
   "source": [
    "# sheets['New Europe']"
   ]
  },
  {
   "cell_type": "code",
   "execution_count": 8,
   "id": "27800bfe",
   "metadata": {},
   "outputs": [],
   "source": [
    "# Kroki przygotowacze przed zapisaniem danych do Excel i jest to krok tylko 1\n",
    " \n",
    "# Trzeba otworzyc obiekt excelWriter ktory bedzie odpowidzialny za zapisanie danych do pliku Excel \n",
    "# nowy otwarty skoroszyt eXCEL "
   ]
  },
  {
   "cell_type": "code",
   "execution_count": 9,
   "id": "fa51be38",
   "metadata": {},
   "outputs": [],
   "source": [
    "excelWriter = pd.ExcelWriter('cars.xlsx')\n",
    "# Ogólny schemat zapisywania data frame do excela wyglada następująco:\n",
    "# -----> ExcelWriter"
   ]
  },
  {
   "cell_type": "code",
   "execution_count": 11,
   "id": "f46eba31",
   "metadata": {},
   "outputs": [],
   "source": [
    "# sheets['Old Europa'].to_excel(excelWriter, index=False, columns = ['REGIONS/COUNTRIES',2010],sheet_name='Old Europe 2010')\n",
    "# ZA 2010 ROK\n",
    "\n",
    "# wskazujemy na obiekt excelWriter \n",
    "# nie ma byc indexowany indeks \n",
    "# columny region i ilosc samochodow za 20210 rok \n",
    "# arkusz z nazwa Old Europe 2010 "
   ]
  },
  {
   "cell_type": "code",
   "execution_count": 12,
   "id": "76730e32",
   "metadata": {},
   "outputs": [],
   "source": [
    "# sheets['Old Europa'].to_excel(excelWriter, index=False, columns = ['REGIONS/COUNTRIES',2010],sheet_name='Old Europe 2011')\n",
    "# ZA 2011 ROK"
   ]
  },
  {
   "cell_type": "code",
   "execution_count": 13,
   "id": "05996da3",
   "metadata": {},
   "outputs": [],
   "source": [
    "# sheets['Old Europa'].to_excel(excelWriter, index=False, columns = ['REGIONS/COUNTRIES',2010],sheet_name='Old Europe 2012')\n",
    "# ZA 2012 ROK"
   ]
  },
  {
   "cell_type": "code",
   "execution_count": 14,
   "id": "94e8006c",
   "metadata": {},
   "outputs": [],
   "source": [
    "# 3 ARKUSZE ZNALAZLY SIE  w skoroszytu "
   ]
  },
  {
   "cell_type": "code",
   "execution_count": null,
   "id": "7584f79a",
   "metadata": {},
   "outputs": [],
   "source": [
    "# Polecenie ktore zapisuje dane to wszystko co zostalo zmienione jest zostalo zapisane na dysk \n",
    "# excelWriter.save()\n",
    "\n",
    "# skoroszytem excel mozna pracowac nawet jak nie ma excel na kompie "
   ]
  }
 ],
 "metadata": {
  "kernelspec": {
   "display_name": "Python 3 (ipykernel)",
   "language": "python",
   "name": "python3"
  },
  "language_info": {
   "codemirror_mode": {
    "name": "ipython",
    "version": 3
   },
   "file_extension": ".py",
   "mimetype": "text/x-python",
   "name": "python",
   "nbconvert_exporter": "python",
   "pygments_lexer": "ipython3",
   "version": "3.10.9"
  }
 },
 "nbformat": 4,
 "nbformat_minor": 5
}
