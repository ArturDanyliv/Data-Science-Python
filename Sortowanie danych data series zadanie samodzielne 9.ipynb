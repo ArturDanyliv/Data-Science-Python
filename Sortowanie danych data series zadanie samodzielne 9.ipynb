{
 "cells": [
  {
   "cell_type": "code",
   "execution_count": 1,
   "id": "6dd36640",
   "metadata": {},
   "outputs": [],
   "source": [
    "# 1. Zaimportuj moduły: pandas, numpy, matplotlib (tylko pyplot), math i nadaj im standardowe aliasy\n",
    "# 2. Z pliku StackOverflowDeveloperSurvey.csv wczytaj kolumnę Salary jako Data Series i zapisz ją w zmiennej salary. Wczytując elementy pomiń te ankiety, w których respondenci nie podali kwoty wynagrodzenia (użyj dropna()). Wyświetl 5 pierwszych elementów serii\n",
    "# 3. Posortuj dane wg wynagrodzenia malejąco (wyświetl tylko 5 pierwszych pozycji).\n",
    "# 4. Posortuj dane wg wynagrodzenia rosnąco (wyświetl tylko 5 pierwszych pozycji).\n",
    "# 5. Zmień parametry sortowania tak, aby lista została posortowana wewnętrznie na stałe wg\n",
    "#wynagrodzenia malejąco. Wyświetl kilka początkowych elementów, aby przekonać się że\n",
    "#obiekt jest teraz posortowany jak należy.\n",
    "# 6. Posortuj dane wg indeksu malejąco\n",
    "# 7. Zapisz w zmiennej maxSalaries 100 największych wynagrodzeń z serii Salary\n",
    "# 8. Zapisz w zmiennej minSalaries 100 najniższych wynagrodzeń z serii Salary\n",
    "# 9. Wyznacz średnią wartość z wynagrodzeń znajdujących się w serii maxSalaries\n",
    "# 10. Wyznacz średnią wartiść z wynagrodzeń znajdujących się w serii minSalaries"
   ]
  },
  {
   "cell_type": "code",
   "execution_count": 2,
   "id": "176b4abc",
   "metadata": {},
   "outputs": [],
   "source": [
    "import pandas as pd\n",
    "import numpy as np\n",
    "import matplotlib.pyplot as plt \n",
    "import math as math"
   ]
  },
  {
   "cell_type": "code",
   "execution_count": null,
   "id": "f5a3e51f",
   "metadata": {},
   "outputs": [],
   "source": [
    "salary = pd.read_csv(\"\", \n",
    "                     usecols=[\"Salary\"],squeeze=True).dropna()\n",
    "salary.head()"
   ]
  }
 ],
 "metadata": {
  "kernelspec": {
   "display_name": "Python 3 (ipykernel)",
   "language": "python",
   "name": "python3"
  },
  "language_info": {
   "codemirror_mode": {
    "name": "ipython",
    "version": 3
   },
   "file_extension": ".py",
   "mimetype": "text/x-python",
   "name": "python",
   "nbconvert_exporter": "python",
   "pygments_lexer": "ipython3",
   "version": "3.10.9"
  }
 },
 "nbformat": 4,
 "nbformat_minor": 5
}
