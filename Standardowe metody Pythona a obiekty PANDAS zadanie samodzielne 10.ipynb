{
 "cells": [
  {
   "cell_type": "code",
   "execution_count": 1,
   "id": "c69fb492",
   "metadata": {},
   "outputs": [],
   "source": [
    "# 1. Zaimportuj moduły: pandas, numpy, matplotlib (tylko pyplot), math i nadaj im standardowe aliasy\n",
    "# 2. Z pliku StackOverflowDeveloperSurvey.csv wczytaj kolumnę Salary jako Data Series i zapisz ją w zmiennej salary. Wczytując elementy pomiń te ankiety, w których respondenci nie podali kwoty wynagrodzenia (użyj dropna()). Wyświetl 5 pierwszych elementów serii\n",
    "# 3. Ile osób odpowiedziało w ankiecie na temat otrzymywanego wynagrodzenia?\n",
    "# 4. Jakie jest najmniejsze wynagrodzenie? A jakie jest największe wynagrodzenie?\n",
    "# 5. Pięć pierwszych elementów serii zamień na listę (nie zapisuj jej w zmiennej, po prostu\n",
    "#wyświetl)\n",
    "# 6. Pięć pierwszych elementów serii zamień na słownik (nie zapisuj go, po prostu wyświetl)\n",
    "# 7. W zmiennej listSalarySorted zapisz listę powstałą z posortowania serii salary malejąco\n",
    "# 8. Wyświetl pięć pierwszych elementów listy listSalarySorted. (Pamiętaj że to nie seria i\n",
    "#nie zadziała metoda head()\n",
    "# 9. Zmień nazwę atrybutu name dla serii salary na \"Salary of a person\"\n",
    "# 10. Wyświetl 5 pierwszych elementów serii salary"
   ]
  },
  {
   "cell_type": "code",
   "execution_count": 2,
   "id": "5a8ac621",
   "metadata": {},
   "outputs": [],
   "source": [
    "import pandas as pd \n",
    "import math as math \n",
    "import matplotlib.pyplot as plt \n",
    "import math as math "
   ]
  },
  {
   "cell_type": "code",
   "execution_count": 7,
   "id": "2a2d786e",
   "metadata": {},
   "outputs": [
    {
     "name": "stderr",
     "output_type": "stream",
     "text": [
      "/var/folders/9q/x17lv7hn4c76lb205vp38pt00000gn/T/ipykernel_91857/2771321506.py:1: FutureWarning: The squeeze argument has been deprecated and will be removed in a future version. Append .squeeze(\"columns\") to the call to squeeze.\n",
      "\n",
      "\n",
      "  salary = pd.read_csv(\"/Users/arturdanyliv/Downloads/course-files/StackOverflowDeveloperSurvey.csv\",\n"
     ]
    },
    {
     "data": {
      "text/plain": [
       "2     113750.0\n",
       "14    100000.0\n",
       "17    130000.0\n",
       "18     82500.0\n",
       "22    100764.0\n",
       "Name: Salary, dtype: float64"
      ]
     },
     "execution_count": 7,
     "metadata": {},
     "output_type": "execute_result"
    }
   ],
   "source": [
    "salary = pd.read_csv(\"/Users/arturdanyliv/Downloads/course-files/StackOverflowDeveloperSurvey.csv\", \n",
    "                     usecols=[\"Salary\"],squeeze=True).dropna()\n",
    "salary.head()"
   ]
  },
  {
   "cell_type": "code",
   "execution_count": 8,
   "id": "489b63db",
   "metadata": {},
   "outputs": [
    {
     "data": {
      "text/plain": [
       "12891"
      ]
     },
     "execution_count": 8,
     "metadata": {},
     "output_type": "execute_result"
    }
   ],
   "source": [
    "len(salary)"
   ]
  },
  {
   "cell_type": "code",
   "execution_count": 9,
   "id": "f01bbb89",
   "metadata": {},
   "outputs": [
    {
     "data": {
      "text/plain": [
       "0.0"
      ]
     },
     "execution_count": 9,
     "metadata": {},
     "output_type": "execute_result"
    }
   ],
   "source": [
    "min(salary)"
   ]
  },
  {
   "cell_type": "code",
   "execution_count": 10,
   "id": "0e49f7f9",
   "metadata": {},
   "outputs": [
    {
     "data": {
      "text/plain": [
       "197000.0"
      ]
     },
     "execution_count": 10,
     "metadata": {},
     "output_type": "execute_result"
    }
   ],
   "source": [
    "max(salary)"
   ]
  },
  {
   "cell_type": "code",
   "execution_count": 11,
   "id": "fcc3a538",
   "metadata": {},
   "outputs": [
    {
     "data": {
      "text/plain": [
       "[113750.0, 100000.0, 130000.0, 82500.0, 100764.0]"
      ]
     },
     "execution_count": 11,
     "metadata": {},
     "output_type": "execute_result"
    }
   ],
   "source": [
    "list(salary.head())"
   ]
  },
  {
   "cell_type": "code",
   "execution_count": 12,
   "id": "4a5c38a2",
   "metadata": {},
   "outputs": [
    {
     "data": {
      "text/plain": [
       "{2: 113750.0, 14: 100000.0, 17: 130000.0, 18: 82500.0, 22: 100764.0}"
      ]
     },
     "execution_count": 12,
     "metadata": {},
     "output_type": "execute_result"
    }
   ],
   "source": [
    "dict(salary.head())"
   ]
  },
  {
   "cell_type": "code",
   "execution_count": 13,
   "id": "355a9303",
   "metadata": {},
   "outputs": [],
   "source": [
    "listsalarySorted = sorted(salary,reverse=True)"
   ]
  },
  {
   "cell_type": "code",
   "execution_count": 16,
   "id": "a499ec81",
   "metadata": {},
   "outputs": [
    {
     "data": {
      "text/plain": [
       "[197000.0, 195000.0, 195000.0, 195000.0, 195000.0]"
      ]
     },
     "execution_count": 16,
     "metadata": {},
     "output_type": "execute_result"
    }
   ],
   "source": [
    "listsalarySorted[:5]"
   ]
  },
  {
   "cell_type": "code",
   "execution_count": 17,
   "id": "411b9731",
   "metadata": {},
   "outputs": [],
   "source": [
    "salary.name = 'Salary of name'"
   ]
  },
  {
   "cell_type": "code",
   "execution_count": 18,
   "id": "9c3364a8",
   "metadata": {},
   "outputs": [
    {
     "data": {
      "text/plain": [
       "2     113750.0\n",
       "14    100000.0\n",
       "17    130000.0\n",
       "18     82500.0\n",
       "22    100764.0\n",
       "Name: Salary of name, dtype: float64"
      ]
     },
     "execution_count": 18,
     "metadata": {},
     "output_type": "execute_result"
    }
   ],
   "source": [
    "salary.head()"
   ]
  },
  {
   "cell_type": "code",
   "execution_count": null,
   "id": "5f645b1c",
   "metadata": {},
   "outputs": [],
   "source": []
  }
 ],
 "metadata": {
  "kernelspec": {
   "display_name": "Python 3 (ipykernel)",
   "language": "python",
   "name": "python3"
  },
  "language_info": {
   "codemirror_mode": {
    "name": "ipython",
    "version": 3
   },
   "file_extension": ".py",
   "mimetype": "text/x-python",
   "name": "python",
   "nbconvert_exporter": "python",
   "pygments_lexer": "ipython3",
   "version": "3.10.9"
  }
 },
 "nbformat": 4,
 "nbformat_minor": 5
}
