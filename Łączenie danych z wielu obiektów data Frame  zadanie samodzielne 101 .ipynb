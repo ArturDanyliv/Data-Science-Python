{
 "cells": [
  {
   "cell_type": "code",
   "execution_count": 10,
   "id": "07d0ac08",
   "metadata": {},
   "outputs": [],
   "source": [
    "# LAB - S07-L001 - łączenie data frame - wprowadzenie\n",
    "# 1. Zaimportuj moduł pandas i numpy nadaj im standardowe aliasy\n",
    "# 2. Do zmiennej products zaimportuj zawartość pliku products.csv (znajduje się w podkatalogu northwind-\n",
    "#mongo-master, jeśli korzystasz z materiałów kursowych)\n",
    "# 3. Wyświetl informacje o produkcie, którego nazwa (kolumna ProductName) to 'Ravioli Angelo'\n",
    "# 4. Do zmiennej categories zaimportuj zawartość pliku categories1.csv\n",
    "# 5. Popatrz na wynik polecenia (3). Znaleziony produkt należy do pewnej kategorii, ale kategoria ta jest\n",
    "# oznaczona tylko liczbą. Wyświetl wiersz z categories, który w kolumnie CategoryID ma właśnie tą liczbę\n",
    "# 6. Do zmiennej suppliers zaimportuj zawartość pliku suppliers.csv\n",
    "# 7. Popatrz na wynik polecenia (3). Znaleziony produkt jest dostarczany przez pewnego dostawcę ale nie\n",
    "# wiemy kim jest ten dostawca, jaki ma nr telefonu itp. Znamy tylko liczbę, która jest identyfikatorem dostawcy w tabeli suppliers. Wyświetl wiersz z suppliers, który w kolumnie SupplierID ma właśnie tą liczbę\n"
   ]
  },
  {
   "cell_type": "code",
   "execution_count": 11,
   "id": "17ce18fb",
   "metadata": {},
   "outputs": [],
   "source": [
    "import pandas as pd\n",
    "import numpy as np"
   ]
  },
  {
   "cell_type": "code",
   "execution_count": 18,
   "id": "b8cf66a8",
   "metadata": {},
   "outputs": [],
   "source": [
    "products = ('/Users/arturdanyliv/Downloads/course-files/northwind-mongo-master/products.csv')"
   ]
  },
  {
   "cell_type": "code",
   "execution_count": 19,
   "id": "8cb39bd4",
   "metadata": {},
   "outputs": [
    {
     "ename": "AttributeError",
     "evalue": "'str' object has no attribute 'loc'",
     "output_type": "error",
     "traceback": [
      "\u001b[0;31m---------------------------------------------------------------------------\u001b[0m",
      "\u001b[0;31mAttributeError\u001b[0m                            Traceback (most recent call last)",
      "Cell \u001b[0;32mIn[19], line 1\u001b[0m\n\u001b[0;32m----> 1\u001b[0m \u001b[43mproducts\u001b[49m\u001b[38;5;241;43m.\u001b[39;49m\u001b[43mloc\u001b[49m[products[\u001b[38;5;124m'\u001b[39m\u001b[38;5;124mProductName\u001b[39m\u001b[38;5;124m'\u001b[39m] \u001b[38;5;241m==\u001b[39m \u001b[38;5;124m'\u001b[39m\u001b[38;5;124mRavioli Angelo\u001b[39m\u001b[38;5;124m'\u001b[39m]\n",
      "\u001b[0;31mAttributeError\u001b[0m: 'str' object has no attribute 'loc'"
     ]
    }
   ],
   "source": [
    "products.loc[products['ProductName'] == 'Ravioli Angelo']"
   ]
  },
  {
   "cell_type": "code",
   "execution_count": 15,
   "id": "bc2c3fe8",
   "metadata": {},
   "outputs": [],
   "source": [
    "categories = pd.read_csv('/Users/arturdanyliv/Downloads/course-files/northwind-mongo-master/categories1.csv')"
   ]
  },
  {
   "cell_type": "code",
   "execution_count": 20,
   "id": "c9d4d6ed",
   "metadata": {},
   "outputs": [
    {
     "data": {
      "text/html": [
       "<div>\n",
       "<style scoped>\n",
       "    .dataframe tbody tr th:only-of-type {\n",
       "        vertical-align: middle;\n",
       "    }\n",
       "\n",
       "    .dataframe tbody tr th {\n",
       "        vertical-align: top;\n",
       "    }\n",
       "\n",
       "    .dataframe thead th {\n",
       "        text-align: right;\n",
       "    }\n",
       "</style>\n",
       "<table border=\"1\" class=\"dataframe\">\n",
       "  <thead>\n",
       "    <tr style=\"text-align: right;\">\n",
       "      <th></th>\n",
       "      <th>CategoryID</th>\n",
       "      <th>CategoryName</th>\n",
       "      <th>Description</th>\n",
       "    </tr>\n",
       "  </thead>\n",
       "  <tbody>\n",
       "    <tr>\n",
       "      <th>4</th>\n",
       "      <td>5</td>\n",
       "      <td>Grains/Cereals</td>\n",
       "      <td>Breads</td>\n",
       "    </tr>\n",
       "  </tbody>\n",
       "</table>\n",
       "</div>"
      ],
      "text/plain": [
       "   CategoryID    CategoryName Description\n",
       "4           5  Grains/Cereals      Breads"
      ]
     },
     "execution_count": 20,
     "metadata": {},
     "output_type": "execute_result"
    }
   ],
   "source": [
    "categories.loc[categories['CategoryID'] == 5]"
   ]
  },
  {
   "cell_type": "code",
   "execution_count": 21,
   "id": "9c6e5566",
   "metadata": {},
   "outputs": [],
   "source": [
    "suppliers = pd.read_csv('/Users/arturdanyliv/Downloads/course-files/northwind-mongo-master/suppliers.csv')"
   ]
  },
  {
   "cell_type": "code",
   "execution_count": 22,
   "id": "06c26d62",
   "metadata": {},
   "outputs": [
    {
     "data": {
      "text/html": [
       "<div>\n",
       "<style scoped>\n",
       "    .dataframe tbody tr th:only-of-type {\n",
       "        vertical-align: middle;\n",
       "    }\n",
       "\n",
       "    .dataframe tbody tr th {\n",
       "        vertical-align: top;\n",
       "    }\n",
       "\n",
       "    .dataframe thead th {\n",
       "        text-align: right;\n",
       "    }\n",
       "</style>\n",
       "<table border=\"1\" class=\"dataframe\">\n",
       "  <thead>\n",
       "    <tr style=\"text-align: right;\">\n",
       "      <th></th>\n",
       "      <th>SupplierID</th>\n",
       "      <th>CompanyName</th>\n",
       "      <th>ContactName</th>\n",
       "      <th>ContactTitle</th>\n",
       "      <th>Address</th>\n",
       "      <th>City</th>\n",
       "      <th>Region</th>\n",
       "      <th>PostalCode</th>\n",
       "      <th>Country</th>\n",
       "      <th>Phone</th>\n",
       "      <th>Fax</th>\n",
       "      <th>HomePage</th>\n",
       "    </tr>\n",
       "  </thead>\n",
       "  <tbody>\n",
       "    <tr>\n",
       "      <th>25</th>\n",
       "      <td>26</td>\n",
       "      <td>Pasta Buttini s.r.l.</td>\n",
       "      <td>Giovanni Giudici</td>\n",
       "      <td>Order Administrator</td>\n",
       "      <td>Via dei Gelsomini 153</td>\n",
       "      <td>Salerno</td>\n",
       "      <td>NaN</td>\n",
       "      <td>84100</td>\n",
       "      <td>Italy</td>\n",
       "      <td>(089) 6547665</td>\n",
       "      <td>(089) 6547667</td>\n",
       "      <td>NaN</td>\n",
       "    </tr>\n",
       "  </tbody>\n",
       "</table>\n",
       "</div>"
      ],
      "text/plain": [
       "    SupplierID           CompanyName       ContactName         ContactTitle  \\\n",
       "25          26  Pasta Buttini s.r.l.  Giovanni Giudici  Order Administrator   \n",
       "\n",
       "                  Address     City Region PostalCode Country          Phone  \\\n",
       "25  Via dei Gelsomini 153  Salerno    NaN      84100   Italy  (089) 6547665   \n",
       "\n",
       "              Fax HomePage  \n",
       "25  (089) 6547667      NaN  "
      ]
     },
     "execution_count": 22,
     "metadata": {},
     "output_type": "execute_result"
    }
   ],
   "source": [
    "suppliers.loc[suppliers['SupplierID'] == 26]\n"
   ]
  },
  {
   "cell_type": "code",
   "execution_count": null,
   "id": "0f22bc5d",
   "metadata": {},
   "outputs": [],
   "source": []
  }
 ],
 "metadata": {
  "kernelspec": {
   "display_name": "Python 3 (ipykernel)",
   "language": "python",
   "name": "python3"
  },
  "language_info": {
   "codemirror_mode": {
    "name": "ipython",
    "version": 3
   },
   "file_extension": ".py",
   "mimetype": "text/x-python",
   "name": "python",
   "nbconvert_exporter": "python",
   "pygments_lexer": "ipython3",
   "version": "3.10.9"
  }
 },
 "nbformat": 4,
 "nbformat_minor": 5
}
