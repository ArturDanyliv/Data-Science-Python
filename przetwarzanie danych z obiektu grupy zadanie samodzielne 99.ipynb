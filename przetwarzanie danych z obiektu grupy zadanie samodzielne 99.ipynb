{
 "cells": [
  {
   "cell_type": "code",
   "execution_count": 1,
   "id": "fcd4c941",
   "metadata": {},
   "outputs": [],
   "source": [
    "# 1.. Zaimportuj moduł pandas i numpy nadaj im standardowe aliasy. Zaimportuj też datetime, timedelta i time, możesz skorzystać z poniższych poleceń:\n",
    "#         from datetime import datetime\n",
    "#         from datetime import timedelta\n",
    "#         import time\n",
    "# 2. Do wykonania zadań będziemy korzystać z danych dotyczących maratonów. Uruchom poniższy kod, który przygotuje zmienną df o odpowiedniej strukturze:\n",
    "#         df = pd.read_csv('./marathon_results_2016.csv', index_col='Bib',\n",
    "#         usecols=['Bib','40K','Half','Pace','Age','M/F',\n",
    "#                  'Country','State','City'])\n",
    "#         df = df[(df['40K'] != '-') & (df['Half'] != '-')]\n",
    "#         df['40K'] = df['40K'].apply(pd.to_timedelta)\n",
    "#         df['Half'] = df['Half'].apply(pd.to_timedelta)\n",
    "#         df['TotalSeconds'] = df['40K'].apply(lambda x: timedelta.total_seco\n",
    "#        nds(x))\n",
    "#         df['HalfSeconds'] = df['Half'].apply(lambda x: timedelta.total_seco\n",
    "#        nds(x))\n",
    "# df.head()\n",
    "# . W zmiennej group_city zapisz wynik grupowania data frame df ze względu na kolumnę City\n",
    "# *Uwaga! W rozwiązaniu poniżej ograniczam ilość pobranych wierszy do 10. Wszystko po to, aby\n",
    "# wyniki zajmowały rozsądną ilość stron w tym PDF;) *\n",
    "# 4. Napisz pętlę, która wyświetli nazwę miasta z każdego wiersza grupy group_city\n",
    "# 5. Napisz pętlę, która wyświetli nazwę miasta z każdego wiersza grupy group_city i obok ilość\n",
    "# uczestników maratonu pochodzących z tego miasta\n",
    "# 6. Jeśli jeszcze tego nie zrobiłeś wykonaj poprzednie polecenie korzystając z dwóch zmiennych\n",
    "# iterujących po obiekcie group_city\n",
    "# 7. Nadal korzystając z pętli wyświetl z obiektu grupy group_city nazwę miasta i dane\n",
    "# pochodzące z tego wiersza należącego do grupy, w którym czas TotalSeconds był najkrótszy.\n",
    "# 8. Zadeklaruj zmienną the_best_per_city jako pusty obiekt DataFrame. Korzystając z pętli for iterujacej po obiekcie grupy group_city skopiuj do the_best_per_city wiersze maratończyków, którzy osiagnęli najkrótszy czas biegu (kolumna TotalSeconds). Następnie wyświetl the_best_per_city"
   ]
  },
  {
   "cell_type": "code",
   "execution_count": 2,
   "id": "32e1246e",
   "metadata": {},
   "outputs": [],
   "source": [
    "import pandas as pd\n",
    "import numpy as np\n",
    "from datetime import datetime \n",
    "from datetime import timedelta \n",
    "import time"
   ]
  },
  {
   "cell_type": "code",
   "execution_count": 6,
   "id": "c69a860f",
   "metadata": {},
   "outputs": [
    {
     "data": {
      "text/html": [
       "<div>\n",
       "<style scoped>\n",
       "    .dataframe tbody tr th:only-of-type {\n",
       "        vertical-align: middle;\n",
       "    }\n",
       "\n",
       "    .dataframe tbody tr th {\n",
       "        vertical-align: top;\n",
       "    }\n",
       "\n",
       "    .dataframe thead th {\n",
       "        text-align: right;\n",
       "    }\n",
       "</style>\n",
       "<table border=\"1\" class=\"dataframe\">\n",
       "  <thead>\n",
       "    <tr style=\"text-align: right;\">\n",
       "      <th></th>\n",
       "      <th>Age</th>\n",
       "      <th>M/F</th>\n",
       "      <th>City</th>\n",
       "      <th>State</th>\n",
       "      <th>Country</th>\n",
       "      <th>Half</th>\n",
       "      <th>40K</th>\n",
       "      <th>Pace</th>\n",
       "      <th>TotalSeconds</th>\n",
       "      <th>HalfSeconds</th>\n",
       "    </tr>\n",
       "    <tr>\n",
       "      <th>Bib</th>\n",
       "      <th></th>\n",
       "      <th></th>\n",
       "      <th></th>\n",
       "      <th></th>\n",
       "      <th></th>\n",
       "      <th></th>\n",
       "      <th></th>\n",
       "      <th></th>\n",
       "      <th></th>\n",
       "      <th></th>\n",
       "    </tr>\n",
       "  </thead>\n",
       "  <tbody>\n",
       "    <tr>\n",
       "      <th>5</th>\n",
       "      <td>21</td>\n",
       "      <td>M</td>\n",
       "      <td>Addis Ababa</td>\n",
       "      <td>NaN</td>\n",
       "      <td>ETH</td>\n",
       "      <td>0 days 01:06:45</td>\n",
       "      <td>0 days 02:05:59</td>\n",
       "      <td>0:05:04</td>\n",
       "      <td>7559.0</td>\n",
       "      <td>4005.0</td>\n",
       "    </tr>\n",
       "    <tr>\n",
       "      <th>1</th>\n",
       "      <td>26</td>\n",
       "      <td>M</td>\n",
       "      <td>Ambo</td>\n",
       "      <td>NaN</td>\n",
       "      <td>ETH</td>\n",
       "      <td>0 days 01:06:46</td>\n",
       "      <td>0 days 02:05:59</td>\n",
       "      <td>0:05:06</td>\n",
       "      <td>7559.0</td>\n",
       "      <td>4006.0</td>\n",
       "    </tr>\n",
       "    <tr>\n",
       "      <th>6</th>\n",
       "      <td>31</td>\n",
       "      <td>M</td>\n",
       "      <td>Addis Ababa</td>\n",
       "      <td>NaN</td>\n",
       "      <td>ETH</td>\n",
       "      <td>0 days 01:06:44</td>\n",
       "      <td>0 days 02:06:47</td>\n",
       "      <td>0:05:07</td>\n",
       "      <td>7607.0</td>\n",
       "      <td>4004.0</td>\n",
       "    </tr>\n",
       "    <tr>\n",
       "      <th>11</th>\n",
       "      <td>33</td>\n",
       "      <td>M</td>\n",
       "      <td>Kitale</td>\n",
       "      <td>NaN</td>\n",
       "      <td>KEN</td>\n",
       "      <td>0 days 01:06:46</td>\n",
       "      <td>0 days 02:06:47</td>\n",
       "      <td>0:05:07</td>\n",
       "      <td>7607.0</td>\n",
       "      <td>4006.0</td>\n",
       "    </tr>\n",
       "    <tr>\n",
       "      <th>14</th>\n",
       "      <td>23</td>\n",
       "      <td>M</td>\n",
       "      <td>Eldoret</td>\n",
       "      <td>NaN</td>\n",
       "      <td>KEN</td>\n",
       "      <td>0 days 01:06:46</td>\n",
       "      <td>0 days 02:08:11</td>\n",
       "      <td>0:05:11</td>\n",
       "      <td>7691.0</td>\n",
       "      <td>4006.0</td>\n",
       "    </tr>\n",
       "  </tbody>\n",
       "</table>\n",
       "</div>"
      ],
      "text/plain": [
       "     Age M/F         City State Country            Half             40K  \\\n",
       "Bib                                                                       \n",
       "5     21   M  Addis Ababa   NaN     ETH 0 days 01:06:45 0 days 02:05:59   \n",
       "1     26   M         Ambo   NaN     ETH 0 days 01:06:46 0 days 02:05:59   \n",
       "6     31   M  Addis Ababa   NaN     ETH 0 days 01:06:44 0 days 02:06:47   \n",
       "11    33   M       Kitale   NaN     KEN 0 days 01:06:46 0 days 02:06:47   \n",
       "14    23   M      Eldoret   NaN     KEN 0 days 01:06:46 0 days 02:08:11   \n",
       "\n",
       "        Pace  TotalSeconds  HalfSeconds  \n",
       "Bib                                      \n",
       "5    0:05:04        7559.0       4005.0  \n",
       "1    0:05:06        7559.0       4006.0  \n",
       "6    0:05:07        7607.0       4004.0  \n",
       "11   0:05:07        7607.0       4006.0  \n",
       "14   0:05:11        7691.0       4006.0  "
      ]
     },
     "execution_count": 6,
     "metadata": {},
     "output_type": "execute_result"
    }
   ],
   "source": [
    "df = pd.read_csv('/Users/arturdanyliv/Downloads/course-files/marathon_results_2016.csv', index_col='Bib', usecols=['Bib','40K','Half','Pace','Age','M/F','Country','State','City']) \n",
    "df = df[(df['40K'] != '-') & (df['Half'] != '-')]\n",
    "df['40K'] = df['40K'].apply(pd.to_timedelta) \n",
    "df['Half'] = df['Half'].apply(pd.to_timedelta)\n",
    "df['TotalSeconds'] = df['40K'].apply(lambda x: timedelta.total_seconds(x)) \n",
    "df['HalfSeconds'] = df['Half'].apply(lambda x: timedelta.total_seconds(x))\n",
    "df.head()"
   ]
  },
  {
   "cell_type": "code",
   "execution_count": 7,
   "id": "a9f80fa9",
   "metadata": {},
   "outputs": [],
   "source": [
    "df = df.head(10)\n",
    "group_city = df.groupby(by=\"City\")"
   ]
  },
  {
   "cell_type": "code",
   "execution_count": 8,
   "id": "70302c98",
   "metadata": {},
   "outputs": [
    {
     "name": "stdout",
     "output_type": "stream",
     "text": [
      "Addis Ababa\n",
      "Ambo\n",
      "Dallas\n",
      "Eldoret\n",
      "Kitale\n",
      "Nijmegen\n"
     ]
    }
   ],
   "source": [
    "for city in group_city: \n",
    "    print(city[0])"
   ]
  },
  {
   "cell_type": "code",
   "execution_count": 9,
   "id": "ebc1ca86",
   "metadata": {},
   "outputs": [
    {
     "name": "stdout",
     "output_type": "stream",
     "text": [
      "Addis Ababa 3\n",
      "Ambo 1\n",
      "Dallas 1\n",
      "Eldoret 3\n",
      "Kitale 1\n",
      "Nijmegen 1\n"
     ]
    }
   ],
   "source": [
    "for city in group_city: \n",
    "    print(city[0], len(city[1]))"
   ]
  },
  {
   "cell_type": "code",
   "execution_count": 10,
   "id": "1a4e4f9d",
   "metadata": {},
   "outputs": [
    {
     "name": "stdout",
     "output_type": "stream",
     "text": [
      "Addis Ababa 3\n",
      "Ambo 1\n",
      "Dallas 1\n",
      "Eldoret 3\n",
      "Kitale 1\n",
      "Nijmegen 1\n"
     ]
    }
   ],
   "source": [
    "for city, city_data in group_city: \n",
    "    print(city, len(city_data))"
   ]
  },
  {
   "cell_type": "code",
   "execution_count": 11,
   "id": "4e5baef8",
   "metadata": {},
   "outputs": [
    {
     "name": "stdout",
     "output_type": "stream",
     "text": [
      "Addis Ababa      Age M/F         City State Country            Half             40K  \\\n",
      "Bib                                                                       \n",
      "5     21   M  Addis Ababa   NaN     ETH 0 days 01:06:45 0 days 02:05:59   \n",
      "\n",
      "        Pace  TotalSeconds  HalfSeconds  \n",
      "Bib                                      \n",
      "5    0:05:04        7559.0       4005.0  \n",
      "Ambo      Age M/F  City State Country            Half             40K     Pace  \\\n",
      "Bib                                                                         \n",
      "1     26   M  Ambo   NaN     ETH 0 days 01:06:46 0 days 02:05:59  0:05:06   \n",
      "\n",
      "     TotalSeconds  HalfSeconds  \n",
      "Bib                             \n",
      "1          7559.0       4006.0  \n",
      "Dallas      Age M/F    City State Country            Half             40K     Pace  \\\n",
      "Bib                                                                           \n",
      "43    28   M  Dallas    TX     USA 0 days 01:07:57 0 days 02:12:47  0:05:25   \n",
      "\n",
      "     TotalSeconds  HalfSeconds  \n",
      "Bib                             \n",
      "43         7967.0       4077.0  \n",
      "Eldoret      Age M/F     City State Country            Half             40K     Pace  \\\n",
      "Bib                                                                            \n",
      "14    23   M  Eldoret   NaN     KEN 0 days 01:06:46 0 days 02:08:11  0:05:11   \n",
      "\n",
      "     TotalSeconds  HalfSeconds  \n",
      "Bib                             \n",
      "14         7691.0       4006.0  \n",
      "Kitale      Age M/F    City State Country            Half             40K     Pace  \\\n",
      "Bib                                                                           \n",
      "11    33   M  Kitale   NaN     KEN 0 days 01:06:46 0 days 02:06:47  0:05:07   \n",
      "\n",
      "     TotalSeconds  HalfSeconds  \n",
      "Bib                             \n",
      "11         7607.0       4006.0  \n",
      "Nijmegen      Age M/F      City State Country            Half             40K     Pace  \\\n",
      "Bib                                                                             \n",
      "17    27   M  Nijmegen   NaN     NED 0 days 01:06:47 0 days 02:08:38  0:05:16   \n",
      "\n",
      "     TotalSeconds  HalfSeconds  \n",
      "Bib                             \n",
      "17         7718.0       4007.0  \n"
     ]
    }
   ],
   "source": [
    "for city, city_data in group_city:\n",
    "    print(city, city_data.nsmallest(1,\"TotalSeconds\"))"
   ]
  },
  {
   "cell_type": "code",
   "execution_count": null,
   "id": "8b9894ce",
   "metadata": {},
   "outputs": [],
   "source": [
    "the_best_per_city = pd.DataFrame()\n",
    "    for city, city_data in group_city:\n",
    "    # append is depreciated, we use pd.concat instead\n",
    "    # the_best_per_city = the_best_per_city.append(\n",
    "                                    # city_data.nsmallest(1,\"TotalSeconds\")) \n",
    "    the_best_per_city = pd.concat([the_best_per_city, city_data.nsmallest(1,\"TotalSeconds\")])\n",
    "the_best_per_city.head(5)"
   ]
  }
 ],
 "metadata": {
  "kernelspec": {
   "display_name": "Python 3 (ipykernel)",
   "language": "python",
   "name": "python3"
  },
  "language_info": {
   "codemirror_mode": {
    "name": "ipython",
    "version": 3
   },
   "file_extension": ".py",
   "mimetype": "text/x-python",
   "name": "python",
   "nbconvert_exporter": "python",
   "pygments_lexer": "ipython3",
   "version": "3.10.9"
  }
 },
 "nbformat": 4,
 "nbformat_minor": 5
}
