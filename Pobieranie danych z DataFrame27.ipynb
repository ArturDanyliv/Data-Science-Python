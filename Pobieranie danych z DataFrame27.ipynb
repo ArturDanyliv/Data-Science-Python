{
 "cells": [
  {
   "cell_type": "code",
   "execution_count": 1,
   "id": "ccb0310f",
   "metadata": {},
   "outputs": [],
   "source": [
    "import pandas as pd \n",
    "import numpy as np \n",
    "import matplotlib.pyplot as plt \n",
    "import math as math "
   ]
  },
  {
   "cell_type": "code",
   "execution_count": 3,
   "id": "2bc61a4d",
   "metadata": {},
   "outputs": [],
   "source": [
    "frame = pd.read_csv(\"/Users/arturdanyliv/Downloads/course-files/Mcdonalds.csv\")"
   ]
  },
  {
   "cell_type": "code",
   "execution_count": 8,
   "id": "13de7204",
   "metadata": {},
   "outputs": [],
   "source": [
    "series = pd.read_csv(\"/Users/arturdanyliv/Downloads/course-files/Mcdonalds.csv\", usecols=[\"Item\",\"Calories\"],index_col=\"Item\").squeeze()"
   ]
  },
  {
   "cell_type": "code",
   "execution_count": 9,
   "id": "d0871cc4",
   "metadata": {},
   "outputs": [
    {
     "data": {
      "text/plain": [
       "pandas.core.frame.DataFrame"
      ]
     },
     "execution_count": 9,
     "metadata": {},
     "output_type": "execute_result"
    }
   ],
   "source": [
    "type(frame)"
   ]
  },
  {
   "cell_type": "code",
   "execution_count": 10,
   "id": "917c8e00",
   "metadata": {},
   "outputs": [
    {
     "data": {
      "text/plain": [
       "pandas.core.series.Series"
      ]
     },
     "execution_count": 10,
     "metadata": {},
     "output_type": "execute_result"
    }
   ],
   "source": [
    "type(series)"
   ]
  },
  {
   "cell_type": "code",
   "execution_count": 11,
   "id": "fc870eaf",
   "metadata": {},
   "outputs": [
    {
     "data": {
      "text/plain": [
       "0      300\n",
       "1      250\n",
       "2      370\n",
       "3      450\n",
       "4      400\n",
       "      ... \n",
       "255    510\n",
       "256    690\n",
       "257    340\n",
       "258    810\n",
       "259    410\n",
       "Name: Calories, Length: 260, dtype: int64"
      ]
     },
     "execution_count": 11,
     "metadata": {},
     "output_type": "execute_result"
    }
   ],
   "source": [
    "frame.Calories"
   ]
  },
  {
   "cell_type": "code",
   "execution_count": 12,
   "id": "606a05af",
   "metadata": {},
   "outputs": [
    {
     "data": {
      "text/plain": [
       "pandas.core.series.Series"
      ]
     },
     "execution_count": 12,
     "metadata": {},
     "output_type": "execute_result"
    }
   ],
   "source": [
    "type(frame.Calories)"
   ]
  },
  {
   "cell_type": "code",
   "execution_count": 13,
   "id": "4aff7fac",
   "metadata": {},
   "outputs": [
    {
     "data": {
      "text/plain": [
       "368.2692307692308"
      ]
     },
     "execution_count": 13,
     "metadata": {},
     "output_type": "execute_result"
    }
   ],
   "source": [
    "frame.Calories.mean()"
   ]
  },
  {
   "cell_type": "code",
   "execution_count": 14,
   "id": "09993614",
   "metadata": {
    "scrolled": true
   },
   "outputs": [
    {
     "data": {
      "text/plain": [
       "340.0"
      ]
     },
     "execution_count": 14,
     "metadata": {},
     "output_type": "execute_result"
    }
   ],
   "source": [
    "frame.Calories.median()"
   ]
  },
  {
   "cell_type": "code",
   "execution_count": 15,
   "id": "f74f738e",
   "metadata": {
    "scrolled": true
   },
   "outputs": [
    {
     "data": {
      "text/plain": [
       "1880"
      ]
     },
     "execution_count": 15,
     "metadata": {},
     "output_type": "execute_result"
    }
   ],
   "source": [
    "frame.Calories.max()"
   ]
  },
  {
   "cell_type": "code",
   "execution_count": 16,
   "id": "dfe50e0c",
   "metadata": {},
   "outputs": [
    {
     "data": {
      "text/plain": [
       "82"
      ]
     },
     "execution_count": 16,
     "metadata": {},
     "output_type": "execute_result"
    }
   ],
   "source": [
    "frame.Calories.idxmax()"
   ]
  },
  {
   "cell_type": "code",
   "execution_count": 17,
   "id": "e8921548",
   "metadata": {},
   "outputs": [
    {
     "data": {
      "text/plain": [
       "'Chicken McNuggets (40 piece)'"
      ]
     },
     "execution_count": 17,
     "metadata": {},
     "output_type": "execute_result"
    }
   ],
   "source": [
    "frame.Item[82]"
   ]
  },
  {
   "cell_type": "code",
   "execution_count": 18,
   "id": "87055380",
   "metadata": {},
   "outputs": [
    {
     "data": {
      "text/plain": [
       "'Chicken McNuggets (40 piece)'"
      ]
     },
     "execution_count": 18,
     "metadata": {},
     "output_type": "execute_result"
    }
   ],
   "source": [
    "frame.Item[frame.Calories.idxmax()]"
   ]
  },
  {
   "cell_type": "code",
   "execution_count": 19,
   "id": "0255bdf0",
   "metadata": {},
   "outputs": [
    {
     "data": {
      "text/plain": [
       "0    300\n",
       "1    250\n",
       "2    370\n",
       "3    450\n",
       "4    400\n",
       "Name: Calories, dtype: int64"
      ]
     },
     "execution_count": 19,
     "metadata": {},
     "output_type": "execute_result"
    }
   ],
   "source": [
    "frame[\"Calories\"].head()"
   ]
  },
  {
   "cell_type": "code",
   "execution_count": 20,
   "id": "616104ca",
   "metadata": {},
   "outputs": [],
   "source": [
    "s = frame[\"Item\"]"
   ]
  },
  {
   "cell_type": "code",
   "execution_count": 21,
   "id": "5011ba1b",
   "metadata": {},
   "outputs": [
    {
     "data": {
      "text/plain": [
       "pandas.core.series.Series"
      ]
     },
     "execution_count": 21,
     "metadata": {},
     "output_type": "execute_result"
    }
   ],
   "source": [
    "type(s)"
   ]
  },
  {
   "cell_type": "code",
   "execution_count": 22,
   "id": "dd47ba47",
   "metadata": {},
   "outputs": [
    {
     "data": {
      "text/plain": [
       "'Vanilla Shake (Medium)'"
      ]
     },
     "execution_count": 22,
     "metadata": {},
     "output_type": "execute_result"
    }
   ],
   "source": [
    "s[242]"
   ]
  },
  {
   "cell_type": "code",
   "execution_count": 23,
   "id": "e4e17af0",
   "metadata": {},
   "outputs": [
    {
     "data": {
      "text/plain": [
       "'Vanilla Shake (Medium)'"
      ]
     },
     "execution_count": 23,
     "metadata": {},
     "output_type": "execute_result"
    }
   ],
   "source": [
    "s.loc[242]"
   ]
  },
  {
   "cell_type": "code",
   "execution_count": 24,
   "id": "3fb03094",
   "metadata": {},
   "outputs": [
    {
     "data": {
      "text/plain": [
       "'Vanilla Shake (Medium)'"
      ]
     },
     "execution_count": 24,
     "metadata": {},
     "output_type": "execute_result"
    }
   ],
   "source": [
    "frame[\"Item\"][242]"
   ]
  },
  {
   "cell_type": "code",
   "execution_count": 25,
   "id": "6918c9fc",
   "metadata": {},
   "outputs": [
    {
     "data": {
      "text/plain": [
       "Category                             Smoothies & Shakes\n",
       "Item                             Vanilla Shake (Medium)\n",
       "Serving Size                               16 fl oz cup\n",
       "Calories                                            660\n",
       "Calories from Fat                                   170\n",
       "TotalFat                                           19.0\n",
       "Total Fat (% Daily Value)                            29\n",
       "Saturated Fat                                      12.0\n",
       "Saturated Fat (% Daily Value)                        61\n",
       "Trans Fat                                           1.0\n",
       "Cholesterol                                          75\n",
       "Cholesterol (% Daily Value)                          24\n",
       "Sodium                                              200\n",
       "Sodium (% Daily Value)                                9\n",
       "Carbohydrates                                       109\n",
       "Carbohydrates (% Daily Value)                        36\n",
       "Dietary Fiber                                         0\n",
       "Dietary Fiber (% Daily Value)                         0\n",
       "Sugars                                               81\n",
       "Protein                                              14\n",
       "Vitamin A (% Daily Value)                            25\n",
       "Vitamin C (% Daily Value)                             0\n",
       "Calcium (% Daily Value)                              50\n",
       "Iron (% Daily Value)                                  0\n",
       "Name: 242, dtype: object"
      ]
     },
     "execution_count": 25,
     "metadata": {},
     "output_type": "execute_result"
    }
   ],
   "source": [
    "frame.loc[242]"
   ]
  },
  {
   "cell_type": "code",
   "execution_count": 26,
   "id": "fba14495",
   "metadata": {},
   "outputs": [
    {
     "data": {
      "text/plain": [
       "pandas.core.series.Series"
      ]
     },
     "execution_count": 26,
     "metadata": {},
     "output_type": "execute_result"
    }
   ],
   "source": [
    "type(frame.loc[242])"
   ]
  },
  {
   "cell_type": "code",
   "execution_count": 27,
   "id": "e3cc2bb7",
   "metadata": {},
   "outputs": [
    {
     "data": {
      "text/plain": [
       "'Vanilla Shake (Medium)'"
      ]
     },
     "execution_count": 27,
     "metadata": {},
     "output_type": "execute_result"
    }
   ],
   "source": [
    "frame.loc[242].loc[\"Item\"]"
   ]
  },
  {
   "cell_type": "code",
   "execution_count": 28,
   "id": "923ce883",
   "metadata": {},
   "outputs": [
    {
     "data": {
      "text/plain": [
       "'Vanilla Shake (Medium)'"
      ]
     },
     "execution_count": 28,
     "metadata": {},
     "output_type": "execute_result"
    }
   ],
   "source": [
    "# frame[242,\"Item\"] # ---> Blad\n",
    "frame.loc[242,\"Item\"]"
   ]
  },
  {
   "cell_type": "code",
   "execution_count": 29,
   "id": "b487445e",
   "metadata": {},
   "outputs": [
    {
     "data": {
      "text/plain": [
       "0      300\n",
       "1      250\n",
       "2      370\n",
       "3      450\n",
       "4      400\n",
       "      ... \n",
       "255    510\n",
       "256    690\n",
       "257    340\n",
       "258    810\n",
       "259    410\n",
       "Name: Calories, Length: 260, dtype: int64"
      ]
     },
     "execution_count": 29,
     "metadata": {},
     "output_type": "execute_result"
    }
   ],
   "source": [
    "frame[\"Calories\"]"
   ]
  },
  {
   "cell_type": "code",
   "execution_count": 30,
   "id": "a746f778",
   "metadata": {},
   "outputs": [
    {
     "data": {
      "text/plain": [
       "0    300\n",
       "1    250\n",
       "2    370\n",
       "3    450\n",
       "4    400\n",
       "Name: Calories, dtype: int64"
      ]
     },
     "execution_count": 30,
     "metadata": {},
     "output_type": "execute_result"
    }
   ],
   "source": [
    "frame[\"Calories\"].head()"
   ]
  },
  {
   "cell_type": "code",
   "execution_count": 31,
   "id": "63c83202",
   "metadata": {},
   "outputs": [
    {
     "data": {
      "text/html": [
       "<div>\n",
       "<style scoped>\n",
       "    .dataframe tbody tr th:only-of-type {\n",
       "        vertical-align: middle;\n",
       "    }\n",
       "\n",
       "    .dataframe tbody tr th {\n",
       "        vertical-align: top;\n",
       "    }\n",
       "\n",
       "    .dataframe thead th {\n",
       "        text-align: right;\n",
       "    }\n",
       "</style>\n",
       "<table border=\"1\" class=\"dataframe\">\n",
       "  <thead>\n",
       "    <tr style=\"text-align: right;\">\n",
       "      <th></th>\n",
       "      <th>Calories</th>\n",
       "      <th>TotalFat</th>\n",
       "    </tr>\n",
       "  </thead>\n",
       "  <tbody>\n",
       "    <tr>\n",
       "      <th>0</th>\n",
       "      <td>300</td>\n",
       "      <td>13.0</td>\n",
       "    </tr>\n",
       "    <tr>\n",
       "      <th>1</th>\n",
       "      <td>250</td>\n",
       "      <td>8.0</td>\n",
       "    </tr>\n",
       "    <tr>\n",
       "      <th>2</th>\n",
       "      <td>370</td>\n",
       "      <td>23.0</td>\n",
       "    </tr>\n",
       "    <tr>\n",
       "      <th>3</th>\n",
       "      <td>450</td>\n",
       "      <td>28.0</td>\n",
       "    </tr>\n",
       "    <tr>\n",
       "      <th>4</th>\n",
       "      <td>400</td>\n",
       "      <td>23.0</td>\n",
       "    </tr>\n",
       "  </tbody>\n",
       "</table>\n",
       "</div>"
      ],
      "text/plain": [
       "   Calories  TotalFat\n",
       "0       300      13.0\n",
       "1       250       8.0\n",
       "2       370      23.0\n",
       "3       450      28.0\n",
       "4       400      23.0"
      ]
     },
     "execution_count": 31,
     "metadata": {},
     "output_type": "execute_result"
    }
   ],
   "source": [
    "frame[[\"Calories\",\"TotalFat\"]].head()"
   ]
  },
  {
   "cell_type": "code",
   "execution_count": 33,
   "id": "1162ea43",
   "metadata": {},
   "outputs": [
    {
     "data": {
      "text/html": [
       "<div>\n",
       "<style scoped>\n",
       "    .dataframe tbody tr th:only-of-type {\n",
       "        vertical-align: middle;\n",
       "    }\n",
       "\n",
       "    .dataframe tbody tr th {\n",
       "        vertical-align: top;\n",
       "    }\n",
       "\n",
       "    .dataframe thead th {\n",
       "        text-align: right;\n",
       "    }\n",
       "</style>\n",
       "<table border=\"1\" class=\"dataframe\">\n",
       "  <thead>\n",
       "    <tr style=\"text-align: right;\">\n",
       "      <th></th>\n",
       "      <th>Calories</th>\n",
       "      <th>TotalFat</th>\n",
       "      <th>Sugars</th>\n",
       "    </tr>\n",
       "  </thead>\n",
       "  <tbody>\n",
       "    <tr>\n",
       "      <th>0</th>\n",
       "      <td>300</td>\n",
       "      <td>13.0</td>\n",
       "      <td>3</td>\n",
       "    </tr>\n",
       "    <tr>\n",
       "      <th>1</th>\n",
       "      <td>250</td>\n",
       "      <td>8.0</td>\n",
       "      <td>3</td>\n",
       "    </tr>\n",
       "    <tr>\n",
       "      <th>2</th>\n",
       "      <td>370</td>\n",
       "      <td>23.0</td>\n",
       "      <td>2</td>\n",
       "    </tr>\n",
       "    <tr>\n",
       "      <th>3</th>\n",
       "      <td>450</td>\n",
       "      <td>28.0</td>\n",
       "      <td>2</td>\n",
       "    </tr>\n",
       "    <tr>\n",
       "      <th>4</th>\n",
       "      <td>400</td>\n",
       "      <td>23.0</td>\n",
       "      <td>2</td>\n",
       "    </tr>\n",
       "  </tbody>\n",
       "</table>\n",
       "</div>"
      ],
      "text/plain": [
       "   Calories  TotalFat  Sugars\n",
       "0       300      13.0       3\n",
       "1       250       8.0       3\n",
       "2       370      23.0       2\n",
       "3       450      28.0       2\n",
       "4       400      23.0       2"
      ]
     },
     "execution_count": 33,
     "metadata": {},
     "output_type": "execute_result"
    }
   ],
   "source": [
    "frame[[\"Calories\",\"TotalFat\",\"Sugars\"]].head()"
   ]
  },
  {
   "cell_type": "code",
   "execution_count": 34,
   "id": "a1f93146",
   "metadata": {},
   "outputs": [
    {
     "data": {
      "text/html": [
       "<div>\n",
       "<style scoped>\n",
       "    .dataframe tbody tr th:only-of-type {\n",
       "        vertical-align: middle;\n",
       "    }\n",
       "\n",
       "    .dataframe tbody tr th {\n",
       "        vertical-align: top;\n",
       "    }\n",
       "\n",
       "    .dataframe thead th {\n",
       "        text-align: right;\n",
       "    }\n",
       "</style>\n",
       "<table border=\"1\" class=\"dataframe\">\n",
       "  <thead>\n",
       "    <tr style=\"text-align: right;\">\n",
       "      <th></th>\n",
       "      <th>Item</th>\n",
       "      <th>Calories</th>\n",
       "      <th>TotalFat</th>\n",
       "      <th>Sugars</th>\n",
       "    </tr>\n",
       "  </thead>\n",
       "  <tbody>\n",
       "    <tr>\n",
       "      <th>0</th>\n",
       "      <td>Egg McMuffin</td>\n",
       "      <td>300</td>\n",
       "      <td>13.0</td>\n",
       "      <td>3</td>\n",
       "    </tr>\n",
       "    <tr>\n",
       "      <th>1</th>\n",
       "      <td>Egg White Delight</td>\n",
       "      <td>250</td>\n",
       "      <td>8.0</td>\n",
       "      <td>3</td>\n",
       "    </tr>\n",
       "    <tr>\n",
       "      <th>2</th>\n",
       "      <td>Sausage McMuffin</td>\n",
       "      <td>370</td>\n",
       "      <td>23.0</td>\n",
       "      <td>2</td>\n",
       "    </tr>\n",
       "    <tr>\n",
       "      <th>3</th>\n",
       "      <td>Sausage McMuffin with Egg</td>\n",
       "      <td>450</td>\n",
       "      <td>28.0</td>\n",
       "      <td>2</td>\n",
       "    </tr>\n",
       "    <tr>\n",
       "      <th>4</th>\n",
       "      <td>Sausage McMuffin with Egg Whites</td>\n",
       "      <td>400</td>\n",
       "      <td>23.0</td>\n",
       "      <td>2</td>\n",
       "    </tr>\n",
       "  </tbody>\n",
       "</table>\n",
       "</div>"
      ],
      "text/plain": [
       "                               Item  Calories  TotalFat  Sugars\n",
       "0                      Egg McMuffin       300      13.0       3\n",
       "1                 Egg White Delight       250       8.0       3\n",
       "2                  Sausage McMuffin       370      23.0       2\n",
       "3         Sausage McMuffin with Egg       450      28.0       2\n",
       "4  Sausage McMuffin with Egg Whites       400      23.0       2"
      ]
     },
     "execution_count": 34,
     "metadata": {},
     "output_type": "execute_result"
    }
   ],
   "source": [
    "frame[[\"Item\",\"Calories\",\"TotalFat\",\"Sugars\"]].head()\n",
    "# [[]]"
   ]
  },
  {
   "cell_type": "code",
   "execution_count": null,
   "id": "816f46ef",
   "metadata": {},
   "outputs": [],
   "source": []
  }
 ],
 "metadata": {
  "kernelspec": {
   "display_name": "Python 3 (ipykernel)",
   "language": "python",
   "name": "python3"
  },
  "language_info": {
   "codemirror_mode": {
    "name": "ipython",
    "version": 3
   },
   "file_extension": ".py",
   "mimetype": "text/x-python",
   "name": "python",
   "nbconvert_exporter": "python",
   "pygments_lexer": "ipython3",
   "version": "3.10.9"
  }
 },
 "nbformat": 4,
 "nbformat_minor": 5
}
