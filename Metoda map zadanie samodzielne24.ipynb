{
 "cells": [
  {
   "cell_type": "code",
   "execution_count": 1,
   "id": "2d630560",
   "metadata": {},
   "outputs": [],
   "source": [
    "import pandas as pd \n",
    "import random as rd "
   ]
  },
  {
   "cell_type": "code",
   "execution_count": 2,
   "id": "071a60be",
   "metadata": {},
   "outputs": [],
   "source": [
    "aircraftsDict = {'PYT001':'Airbus 320', \n",
    "                 'PYT002':'Boeing 737', \n",
    "                 'PYT003':'Airbus 321'} "
   ]
  },
  {
   "cell_type": "code",
   "execution_count": 3,
   "id": "5bb2113a",
   "metadata": {},
   "outputs": [
    {
     "data": {
      "text/plain": [
       "PYT001    Airbus 320\n",
       "PYT002    Boeing 737\n",
       "PYT003    Airbus 321\n",
       "dtype: object"
      ]
     },
     "execution_count": 3,
     "metadata": {},
     "output_type": "execute_result"
    }
   ],
   "source": [
    "aircrafts = pd.Series(aircraftsDict)\n",
    "aircrafts"
   ]
  },
  {
   "cell_type": "code",
   "execution_count": 4,
   "id": "41d2fe95",
   "metadata": {},
   "outputs": [
    {
     "data": {
      "text/plain": [
       "['PYT003', 'PYT001', 'PYT003', 'PYT003', 'PYT003']"
      ]
     },
     "execution_count": 4,
     "metadata": {},
     "output_type": "execute_result"
    }
   ],
   "source": [
    "flightsList = []\n",
    "for i in range(100):\n",
    "    flightsList.append( rd.choice(aircrafts.index))\n",
    "flightsList[:5]"
   ]
  },
  {
   "cell_type": "code",
   "execution_count": null,
   "id": "ae591199",
   "metadata": {},
   "outputs": [],
   "source": []
  }
 ],
 "metadata": {
  "kernelspec": {
   "display_name": "Python 3 (ipykernel)",
   "language": "python",
   "name": "python3"
  },
  "language_info": {
   "codemirror_mode": {
    "name": "ipython",
    "version": 3
   },
   "file_extension": ".py",
   "mimetype": "text/x-python",
   "name": "python",
   "nbconvert_exporter": "python",
   "pygments_lexer": "ipython3",
   "version": "3.10.9"
  }
 },
 "nbformat": 4,
 "nbformat_minor": 5
}
