{
 "cells": [
  {
   "cell_type": "code",
   "execution_count": 1,
   "id": "29e7c877",
   "metadata": {},
   "outputs": [],
   "source": [
    "# 1. Zaimportuj moduły: pandas, numpy, matplotlib (tylko pyplot), math i nadaj im standardowe aliasy\n",
    "# 2. Na stronie https://en.wikipedia.org/wiki/European_countries_by_electricity_consumption_per_person\n",
    "#(https://en.wikipedia.org/wiki/European_countries_by_electricity_consumption_per_person) znajduje się informacja o zużyciu energii elektrycznej na osobę w Europie. Utwórz następujące zmienne:\n",
    "#namesList (nazwy krajów) o wartościach: ['Albania','Austria','Belarus', 'Belgium','Bulgaria','Croatia','Cyprus','Czech Republic','Denmark','Estonia', 'Finland','France','Germany','Greece','Hungary','Iceland','Ireland','Italy', 'Latvia','Lithuania','Luxembourg','Macedonia','Malta','Montenegro','Netherlands', 'Norway','Poland','Portugal','Romania','Russia','Serbia','Slovenia','Spain', 'Sweden','Switzerland','United Kingdom','Turkey','Ukraine']\n",
    "#energy2010List (zużycie energii na osobę w 2010 roku) o wartościach: [1947,8347,3564,8369,4560,3814,4623,6348,6328,6506,16483,7736,7264,5318,3876, 51440,5911,5494,3230,3471,16830,3521,4171,5420,7010,24891,3797,4959,2551, 6410,4359,6521,5707,14934,8175,2498,3550,5701]\n",
    "#energy2012List (zużycie energii na osobę w 2012 roku) o wartościach: [2118,8507,3698,7987,4762,3819,4057,6305,6039,6689,15687,7344,7270,5511,3919, 53203,5665,5398,3588,3608,14696,3626,4761,5416,6871,23658,3899,4736,2604, 6617,4387,6778,5573,14290,7886,2794,3641,5452]\n",
    "# 3. Dla każdej z tych zmiennych utwórz obiekt serii o nazwach jak niżej, a potem wyświetl je:\n",
    "#namesSeries energy2010Series energy2012Series\n",
    "# 4. W zmiennej mean2010 zapisz średnią wartość zużycia prądu w całej Europie w 2010 roku. Wyświetl tą wartość\n",
    "# 5. W zmiennej mean2012 zapisz średnią wartość zużycia prądu w całej Europie w 2012 roku. Wyświetl tą wartość\n",
    "# 6. W zmiennej filterAboveMean2010 zapisz wynik porównania wartości serii energy2010Series z wartością średnią mean2010. W porównaniu badaj, czy wartość zużycia prądu w danym kraju jest większa od wartości średniej za rok 2010\n",
    "# 7. W zmiennej filterAboveMean2012 zapisz wynik porównania wartości serii energy2012Series z wartością średnią mean2012. W wyniku porównania badaj, czy wartość zużycia prądu w danym kraju jest większa od wartości średniej za rok 2012\n",
    "# 8. Wyświetl kraje z serii namesSeries, które w roku 2010 i w roku 2012 zużywały prąd w ilości powyżej średniej za dany rok\n",
    "# 9. W zmiennej filterBelowMean2010 zapisz wynik porównania wartości serii energy2010Series z wartością średnią mean2010. W porównaniu badaj, czy wartość zużycia prądu w danym kraju jest mniejsza od wartości średniej za rok 2010\n",
    "# 10. Sprawdź czy są kraje, które w 2010 roku zużywały mniej prądu niż średnia za 2010, ale w 2012 znalazły się powyżej tej średniej\n",
    "# 11. Czy z tej analizy można wyciągnąć jakieś wnioski (nawet dość oczywiste)?"
   ]
  },
  {
   "cell_type": "code",
   "execution_count": 10,
   "id": "49cc601c",
   "metadata": {},
   "outputs": [],
   "source": [
    "import pandas as pd\n",
    "import numpy as np\n",
    "import matplotlib.pyplot as plt \n",
    "import math as math"
   ]
  },
  {
   "cell_type": "code",
   "execution_count": 11,
   "id": "d345e0ce",
   "metadata": {},
   "outputs": [
    {
     "data": {
      "text/plain": [
       "0            Albania\n",
       "1            Austria\n",
       "2            Belarus\n",
       "3            Belgium\n",
       "4           Bulgaria\n",
       "5            Croatia\n",
       "6             Cyprus\n",
       "7     Czech Republic\n",
       "8            Denmark\n",
       "9            Estonia\n",
       "10           Finland\n",
       "11            France\n",
       "12           Germany\n",
       "13           Greece \n",
       "14           Hungary\n",
       "15           Iceland\n",
       "16           Ireland\n",
       "17             Italy\n",
       "18            Latvia\n",
       "19         Lithuania\n",
       "20        Luxembourg\n",
       "21         Macedonia\n",
       "22             Malta\n",
       "23        Montenegro\n",
       "24       Netherlands\n",
       "25            Norway\n",
       "26            Poland\n",
       "27           Portuga\n",
       "28           Romania\n",
       "29            Russia\n",
       "30            Serbia\n",
       "31          Slovenia\n",
       "32             Spain\n",
       "33            Sweden\n",
       "34       Switzerland\n",
       "35    United Kingdom\n",
       "36            Turkey\n",
       "37           Ukraine\n",
       "dtype: object"
      ]
     },
     "execution_count": 11,
     "metadata": {},
     "output_type": "execute_result"
    }
   ],
   "source": [
    "namesList =['Albania','Austria','Belarus','Belgium','Bulgaria','Croatia','Cyprus', 'Czech Republic','Denmark','Estonia','Finland','France','Germany','Greece ','Hungary','Iceland','Ireland','Italy','Latvia','Lithuania','Luxembourg', 'Macedonia','Malta','Montenegro','Netherlands','Norway','Poland','Portuga', 'Romania','Russia','Serbia','Slovenia','Spain','Sweden','Switzerland', 'United Kingdom','Turkey','Ukraine']\n",
    "namesSeries = pd.Series(namesList) \n",
    "namesSeries"
   ]
  },
  {
   "cell_type": "code",
   "execution_count": 12,
   "id": "0e2d61ea",
   "metadata": {},
   "outputs": [
    {
     "data": {
      "text/plain": [
       "0      1947\n",
       "1      8347\n",
       "2      3564\n",
       "3      8369\n",
       "4      4560\n",
       "5      3814\n",
       "6      4623\n",
       "7      6348\n",
       "8      6328\n",
       "9      6506\n",
       "10    16483\n",
       "11     7736\n",
       "12     7264\n",
       "13     5318\n",
       "14     3876\n",
       "15    51440\n",
       "16     5911\n",
       "17     5494\n",
       "18     3230\n",
       "19     3471\n",
       "20    16830\n",
       "21     3521\n",
       "22     4171\n",
       "23     5420\n",
       "24     7010\n",
       "25    24891\n",
       "26     3797\n",
       "27     4959\n",
       "28     2551\n",
       "29     6410\n",
       "30     4359\n",
       "31     6521\n",
       "32     5707\n",
       "33    14934\n",
       "34     8175\n",
       "35     2498\n",
       "36     3550\n",
       "37     5701\n",
       "dtype: int64"
      ]
     },
     "execution_count": 12,
     "metadata": {},
     "output_type": "execute_result"
    }
   ],
   "source": [
    "energy2010List = [1947,8347,3564,8369,4560,3814,4623,6348,6328,6506,16483,7736, 7264,5318,3876,51440,5911,5494,3230,3471,16830,3521,4171,5420, 7010,24891,3797,4959,2551,6410,4359,6521,5707,14934,8175,2498,3550,5701] \n",
    "energy2010Series = pd.Series(energy2010List)\n",
    "energy2010Series"
   ]
  },
  {
   "cell_type": "code",
   "execution_count": 13,
   "id": "ef58e090",
   "metadata": {},
   "outputs": [
    {
     "data": {
      "text/plain": [
       "0      2118\n",
       "1      8507\n",
       "2      3698\n",
       "3      7987\n",
       "4      4762\n",
       "5      3819\n",
       "6      4057\n",
       "7      6305\n",
       "8      6039\n",
       "9      6689\n",
       "10    15687\n",
       "11     7344\n",
       "12     7270\n",
       "13     5511\n",
       "14     3919\n",
       "15    53203\n",
       "16     5665\n",
       "17     5398\n",
       "18     3588\n",
       "19     3608\n",
       "20    14696\n",
       "21     3626\n",
       "22     4761\n",
       "23     5416\n",
       "24     6871\n",
       "25    23658\n",
       "26     3899\n",
       "27     4736\n",
       "28     2604\n",
       "29     6617\n",
       "30     4387\n",
       "31     6778\n",
       "32     5573\n",
       "33    14290\n",
       "34     7886\n",
       "35     2794\n",
       "36     3641\n",
       "37     5452\n",
       "dtype: int64"
      ]
     },
     "execution_count": 13,
     "metadata": {},
     "output_type": "execute_result"
    }
   ],
   "source": [
    "energy2012List = [2118,8507,3698,7987,4762,3819,4057,6305,6039,6689,15687,7344, 7270,5511,3919,53203,5665,5398,3588,3608,14696,3626,4761,5416, 6871,23658,3899,4736,2604,6617,4387,6778,5573,14290,7886,2794,3641,5452] \n",
    "energy2012Series = pd.Series(energy2012List)\n",
    "energy2012Series"
   ]
  },
  {
   "cell_type": "code",
   "execution_count": 14,
   "id": "8bfa1b14",
   "metadata": {},
   "outputs": [
    {
     "data": {
      "text/plain": [
       "7779.8421052631575"
      ]
     },
     "execution_count": 14,
     "metadata": {},
     "output_type": "execute_result"
    }
   ],
   "source": [
    "mean2010 = energy2010Series.mean() \n",
    "mean2010"
   ]
  },
  {
   "cell_type": "code",
   "execution_count": 15,
   "id": "9e282bf1",
   "metadata": {},
   "outputs": [
    {
     "data": {
      "text/plain": [
       "7706.815789473684"
      ]
     },
     "execution_count": 15,
     "metadata": {},
     "output_type": "execute_result"
    }
   ],
   "source": [
    "mean2012 = energy2012Series.mean()\n",
    "mean2012"
   ]
  },
  {
   "cell_type": "code",
   "execution_count": null,
   "id": "6ee5512f",
   "metadata": {},
   "outputs": [],
   "source": []
  }
 ],
 "metadata": {
  "kernelspec": {
   "display_name": "Python 3 (ipykernel)",
   "language": "python",
   "name": "python3"
  },
  "language_info": {
   "codemirror_mode": {
    "name": "ipython",
    "version": 3
   },
   "file_extension": ".py",
   "mimetype": "text/x-python",
   "name": "python",
   "nbconvert_exporter": "python",
   "pygments_lexer": "ipython3",
   "version": "3.10.9"
  }
 },
 "nbformat": 4,
 "nbformat_minor": 5
}
