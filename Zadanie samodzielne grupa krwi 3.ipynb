{
 "cells": [
  {
   "cell_type": "code",
   "execution_count": 1,
   "id": "210fae9c",
   "metadata": {},
   "outputs": [],
   "source": [
    "import matplotlib.pyplot as plt\n",
    "import math as math \n",
    "import pandas as pd\n",
    "import numpy as np "
   ]
  },
  {
   "cell_type": "code",
   "execution_count": 2,
   "id": "e96ad9fb",
   "metadata": {},
   "outputs": [],
   "source": [
    "%matplotlib inline"
   ]
  },
  {
   "cell_type": "code",
   "execution_count": 3,
   "id": "2e3572f5",
   "metadata": {
    "collapsed": true
   },
   "outputs": [
    {
     "data": {
      "text/html": [
       "<div>\n",
       "<style scoped>\n",
       "    .dataframe tbody tr th:only-of-type {\n",
       "        vertical-align: middle;\n",
       "    }\n",
       "\n",
       "    .dataframe tbody tr th {\n",
       "        vertical-align: top;\n",
       "    }\n",
       "\n",
       "    .dataframe thead th {\n",
       "        text-align: right;\n",
       "    }\n",
       "</style>\n",
       "<table border=\"1\" class=\"dataframe\">\n",
       "  <thead>\n",
       "    <tr style=\"text-align: right;\">\n",
       "      <th></th>\n",
       "      <th>filename</th>\n",
       "      <th>cell_type</th>\n",
       "      <th>xmin</th>\n",
       "      <th>xmax</th>\n",
       "      <th>ymin</th>\n",
       "      <th>ymax</th>\n",
       "    </tr>\n",
       "  </thead>\n",
       "  <tbody>\n",
       "    <tr>\n",
       "      <th>0</th>\n",
       "      <td>BloodImage_00000.jpg</td>\n",
       "      <td>WBC</td>\n",
       "      <td>260</td>\n",
       "      <td>491</td>\n",
       "      <td>177</td>\n",
       "      <td>376</td>\n",
       "    </tr>\n",
       "    <tr>\n",
       "      <th>1</th>\n",
       "      <td>BloodImage_00000.jpg</td>\n",
       "      <td>RBC</td>\n",
       "      <td>78</td>\n",
       "      <td>184</td>\n",
       "      <td>336</td>\n",
       "      <td>435</td>\n",
       "    </tr>\n",
       "    <tr>\n",
       "      <th>2</th>\n",
       "      <td>BloodImage_00000.jpg</td>\n",
       "      <td>RBC</td>\n",
       "      <td>63</td>\n",
       "      <td>169</td>\n",
       "      <td>237</td>\n",
       "      <td>336</td>\n",
       "    </tr>\n",
       "    <tr>\n",
       "      <th>3</th>\n",
       "      <td>BloodImage_00000.jpg</td>\n",
       "      <td>RBC</td>\n",
       "      <td>214</td>\n",
       "      <td>320</td>\n",
       "      <td>362</td>\n",
       "      <td>461</td>\n",
       "    </tr>\n",
       "    <tr>\n",
       "      <th>4</th>\n",
       "      <td>BloodImage_00000.jpg</td>\n",
       "      <td>RBC</td>\n",
       "      <td>414</td>\n",
       "      <td>506</td>\n",
       "      <td>352</td>\n",
       "      <td>445</td>\n",
       "    </tr>\n",
       "    <tr>\n",
       "      <th>...</th>\n",
       "      <td>...</td>\n",
       "      <td>...</td>\n",
       "      <td>...</td>\n",
       "      <td>...</td>\n",
       "      <td>...</td>\n",
       "      <td>...</td>\n",
       "    </tr>\n",
       "    <tr>\n",
       "      <th>4883</th>\n",
       "      <td>BloodImage_00410.jpg</td>\n",
       "      <td>Platelets</td>\n",
       "      <td>239</td>\n",
       "      <td>291</td>\n",
       "      <td>275</td>\n",
       "      <td>321</td>\n",
       "    </tr>\n",
       "    <tr>\n",
       "      <th>4884</th>\n",
       "      <td>BloodImage_00410.jpg</td>\n",
       "      <td>Platelets</td>\n",
       "      <td>121</td>\n",
       "      <td>189</td>\n",
       "      <td>260</td>\n",
       "      <td>320</td>\n",
       "    </tr>\n",
       "    <tr>\n",
       "      <th>4885</th>\n",
       "      <td>BloodImage_00410.jpg</td>\n",
       "      <td>Platelets</td>\n",
       "      <td>57</td>\n",
       "      <td>104</td>\n",
       "      <td>119</td>\n",
       "      <td>167</td>\n",
       "    </tr>\n",
       "    <tr>\n",
       "      <th>4886</th>\n",
       "      <td>BloodImage_00410.jpg</td>\n",
       "      <td>Platelets</td>\n",
       "      <td>1</td>\n",
       "      <td>29</td>\n",
       "      <td>286</td>\n",
       "      <td>327</td>\n",
       "    </tr>\n",
       "    <tr>\n",
       "      <th>4887</th>\n",
       "      <td>BloodImage_00410.jpg</td>\n",
       "      <td>WBC</td>\n",
       "      <td>367</td>\n",
       "      <td>611</td>\n",
       "      <td>166</td>\n",
       "      <td>394</td>\n",
       "    </tr>\n",
       "  </tbody>\n",
       "</table>\n",
       "<p>4888 rows × 6 columns</p>\n",
       "</div>"
      ],
      "text/plain": [
       "                  filename  cell_type  xmin  xmax  ymin  ymax\n",
       "0     BloodImage_00000.jpg        WBC   260   491   177   376\n",
       "1     BloodImage_00000.jpg        RBC    78   184   336   435\n",
       "2     BloodImage_00000.jpg        RBC    63   169   237   336\n",
       "3     BloodImage_00000.jpg        RBC   214   320   362   461\n",
       "4     BloodImage_00000.jpg        RBC   414   506   352   445\n",
       "...                    ...        ...   ...   ...   ...   ...\n",
       "4883  BloodImage_00410.jpg  Platelets   239   291   275   321\n",
       "4884  BloodImage_00410.jpg  Platelets   121   189   260   320\n",
       "4885  BloodImage_00410.jpg  Platelets    57   104   119   167\n",
       "4886  BloodImage_00410.jpg  Platelets     1    29   286   327\n",
       "4887  BloodImage_00410.jpg        WBC   367   611   166   394\n",
       "\n",
       "[4888 rows x 6 columns]"
      ]
     },
     "execution_count": 3,
     "metadata": {},
     "output_type": "execute_result"
    }
   ],
   "source": [
    "pd.read_csv('/Users/arturdanyliv/Downloads/BCCD_Dataset-master/test.csv')"
   ]
  },
  {
   "cell_type": "code",
   "execution_count": 4,
   "id": "111292c7",
   "metadata": {
    "collapsed": true
   },
   "outputs": [
    {
     "data": {
      "text/plain": [
       "[<matplotlib.lines.Line2D at 0x14b46f250>]"
      ]
     },
     "execution_count": 4,
     "metadata": {},
     "output_type": "execute_result"
    },
    {
     "data": {
      "image/png": "[encoded data removed]",
      "text/plain": [
       "<Figure size 640x480 with 1 Axes>"
      ]
     },
     "metadata": {},
     "output_type": "display_data"
    }
   ],
   "source": [
    "plt.plot§('/Users/arturdanyliv/Downloads/BCCD_Dataset-master/test.csv')"
   ]
  },
  {
   "cell_type": "code",
   "execution_count": null,
   "id": "62708850",
   "metadata": {},
   "outputs": [],
   "source": []
  }
 ],
 "metadata": {
  "kernelspec": {
   "display_name": "Python 3 (ipykernel)",
   "language": "python",
   "name": "python3"
  },
  "language_info": {
   "codemirror_mode": {
    "name": "ipython",
    "version": 3
   },
   "file_extension": ".py",
   "mimetype": "text/x-python",
   "name": "python",
   "nbconvert_exporter": "python",
   "pygments_lexer": "ipython3",
   "version": "3.10.9"
  }
 },
 "nbformat": 4,
 "nbformat_minor": 5
}
