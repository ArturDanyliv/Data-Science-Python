{
 "cells": [
  {
   "cell_type": "code",
   "execution_count": null,
   "id": "366c6143",
   "metadata": {},
   "outputs": [],
   "source": [
    "# 1. Zaimportuj moduł pandas i numpy nadaj im standardowe aliasy. Zaimportuj też datetime, timedelta i time, możesz skorzystać z poniższych poleceń:\n",
    "#         from datetime import datetime\n",
    "#         from datetime import timedelta\n",
    "#         import time\n",
    "\n",
    "# 2. Do wykonania zadań z wykorzystaniem polecenia melt będziemy korzystać z danych w postaci tabeli przestawnej. Uruchom poniższy kod, który przygotuje zmienną df o odpowiedniej strukturze:\n",
    "#         df = pd.read_csv('./marathon_results_2016.csv', index_col='Bib',\n",
    "#         usecols=['Bib','40K','Half','Pace','Age','M/F','Country','State','City'])\n",
    "#         df['40K'] = df['40K'].apply(pd.to_timedelta, errors='coerce')\n",
    "#         df['Half'] = df['Half'].apply(pd.to_timedelta, errors='coerce')\n",
    "#         df = df[df['40K'].notna() & df['Half'].notna()]\n",
    "#         df['TotalSeconds'] = df['40K'].apply(lambda x: timedelta.total_seconds(x))\n",
    "#         df['HalfSeconds'] = df['Half'].apply(lambda x: timedelta.total_seconds(x))\n",
    "#         df = df.pivot_table(index=\"Age\",columns=\"M/F\",values=\"TotalSeconds\").head\n",
    "#        ()\n",
    "# df.head()\n",
    "\n",
    "# 3. Usuń indeks z obiektu df\n",
    "\n",
    "# 4. Zamień dane do postaci tabeli korzystając z polecenia melt definiując kolumnę Age jako kolumnę\n",
    "# indeksu\n",
    "\n",
    "# 5. Dodaj do poprzedniego polecenia parametr, który spowoduje, że kolumna z wartościami będzie\n",
    "# nazwana TotalSeconds\n",
    "\n",
    "# 6. Dodaj do poprzedniego polecenia parametr, który spowoduje, że nowo utworzona kolumna będzie\n",
    "# miała nagłówek Sex\n",
    "\n",
    "# 7. Podobnie jak w punkcie drugim wykonaj następujący kod, który spowoduje utworzenie nieco innego\n",
    "# obiektu w postaci pivot table:\n",
    "#         df = pd.read_csv('./marathon_results_2016.csv', index_col='Bib',\n",
    "#                         usecols=['Bib','40K','Half','Pace','Age','M/F','Countr\n",
    "#        y','State','City'])\n",
    "#         df['40K'] = df['40K'].apply(pd.to_timedelta, errors='coerce')\n",
    "#         df['Half'] = df['Half'].apply(pd.to_timedelta, errors='coerce')\n",
    "#         df = df[df['40K'].notna() & df['Half'].notna()]\n",
    "#         df['TotalSeconds'] = df['40K'].apply(lambda x: timedelta.total_seconds(x))\n",
    "#         df['HalfSeconds'] = df['Half'].apply(lambda x: timedelta.total_seconds(x))\n",
    "#         df = df.pivot_table(index=\"Age\",columns=\"M/F\",values=[\"HalfSeconds\",\"TotalS\n",
    "#     econds\"]).head()\n",
    "# df.head()\n",
    "\n",
    "# 8. Usuń indeks z obiektu df\n",
    "\n",
    "# 9. Zamień dane do postaci tabeli korzystając z polecenia melt definiując kolumnę Age jako kolumnę\n",
    "# indeksu"
   ]
  },
  {
   "cell_type": "code",
   "execution_count": null,
   "id": "8cab7f88",
   "metadata": {},
   "outputs": [],
   "source": [
    "import pandas as pd\n",
    "import numpy as np\n",
    "from datetime import datetime \n",
    "from datetime import timedelta \n",
    "import time"
   ]
  },
  {
   "cell_type": "code",
   "execution_count": null,
   "id": "95029387",
   "metadata": {},
   "outputs": [],
   "source": [
    "df = pd.read_csv('/Users/arturdanyliv/Downloads/course-files/marathon_results_2016.csv', index_col='Bib', usecols=['Bib','40K','Half','Pace','Age','M/F','Country','State','City'])\n",
    "\n",
    "df['40K'] = df['40K'].apply(pd.to_timedelta, errors='coerce') \n",
    "df['Half'] = df['Half'].apply(pd.to_timedelta, errors='coerce') \n",
    "df = df[df['40K'].notna() & df['Half'].notna()]\n",
    "df['TotalSeconds'] = df['40K'].apply(lambda x: timedelta.total_seconds(x)) \n",
    "df['HalfSeconds'] = df['Half'].apply(lambda x: timedelta.total_seconds(x))\n",
    "df = df.pivot_table(index=\"Age\",columns=\"M/F\",values=\"TotalSeconds\").head() \n",
    "df.head()"
   ]
  },
  {
   "cell_type": "code",
   "execution_count": null,
   "id": "aa79c015",
   "metadata": {},
   "outputs": [],
   "source": [
    "df.reset_index(inplace=True) \n",
    "df.head()"
   ]
  },
  {
   "cell_type": "code",
   "execution_count": null,
   "id": "ee05c19d",
   "metadata": {},
   "outputs": [],
   "source": [
    "df.melt(id_vars=\"Age\").head()"
   ]
  },
  {
   "cell_type": "code",
   "execution_count": null,
   "id": "09586ca4",
   "metadata": {},
   "outputs": [],
   "source": [
    "df.melt(id_vars=\"Age\",value_name=\"TotalSeconds\").head()"
   ]
  },
  {
   "cell_type": "code",
   "execution_count": null,
   "id": "cb214cc7",
   "metadata": {},
   "outputs": [],
   "source": [
    "df.melt(id_vars=\"Age\",value_name=\"TotalSeconds\",var_name=\"Sex\").head()"
   ]
  },
  {
   "cell_type": "code",
   "execution_count": null,
   "id": "ce34122e",
   "metadata": {},
   "outputs": [],
   "source": [
    "df = pd.read_csv('./marathon_results_2016.csv', index_col='Bib', usecols=['Bib','40K','Half','Pace','Age','M/F','Country','State','City'\n",
    "df['40K'] = df['40K'].apply(pd.to_timedelta, errors='coerce') \n",
    "df['Half'] = df['Half'].apply(pd.to_timedelta, errors='coerce') \n",
    "df = df[df['40K'].notna() & df['Half'].notna()]\n",
    "df['TotalSeconds'] = df['40K'].apply(lambda x: timedelta.total_seconds(x)) \n",
    "df['HalfSeconds'] = df['Half'].apply(lambda x: timedelta.total_seconds(x))\n",
    "df = df.pivot_table(index=\"Age\",columns=\"M/F\",values=[\"HalfSeconds\",\"TotalSeconds\"]).head()\n",
    "df.head()"
   ]
  },
  {
   "cell_type": "code",
   "execution_count": null,
   "id": "6af2f667",
   "metadata": {},
   "outputs": [],
   "source": [
    "df.reset_index(inplace=True) \n",
    "df.head()"
   ]
  },
  {
   "cell_type": "code",
   "execution_count": null,
   "id": "8b7fb2a6",
   "metadata": {},
   "outputs": [],
   "source": [
    "df.melt(id_vars=\"Age\").head()"
   ]
  },
  {
   "cell_type": "code",
   "execution_count": null,
   "id": "528ee3a2",
   "metadata": {},
   "outputs": [],
   "source": [
    "df.melt(id_vars=\"Age\", value_name='Time').head()"
   ]
  },
  {
   "cell_type": "code",
   "execution_count": null,
   "id": "8e6f5e2f",
   "metadata": {},
   "outputs": [],
   "source": []
  }
 ],
 "metadata": {
  "kernelspec": {
   "display_name": "Python 3 (ipykernel)",
   "language": "python",
   "name": "python3"
  },
  "language_info": {
   "codemirror_mode": {
    "name": "ipython",
    "version": 3
   },
   "file_extension": ".py",
   "mimetype": "text/x-python",
   "name": "python",
   "nbconvert_exporter": "python",
   "pygments_lexer": "ipython3",
   "version": "3.10.9"
  }
 },
 "nbformat": 4,
 "nbformat_minor": 5
}
