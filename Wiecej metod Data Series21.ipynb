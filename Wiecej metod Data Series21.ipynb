{
 "cells": [
  {
   "cell_type": "code",
   "execution_count": 1,
   "id": "5784d03a",
   "metadata": {},
   "outputs": [],
   "source": [
    "import pandas as pd \n",
    "import numpy as np \n",
    "import matplotlib.pyplot as plt \n",
    "import math as math "
   ]
  },
  {
   "cell_type": "code",
   "execution_count": 2,
   "id": "7a59a9ad",
   "metadata": {},
   "outputs": [],
   "source": [
    "pok = pd.read_csv(\"/Users/arturdanyliv/Downloads/course-files/pokemon.csv\",usecols=['Name','Attack'],index_col='Name').squeeze()"
   ]
  },
  {
   "cell_type": "code",
   "execution_count": 3,
   "id": "9e7948e9",
   "metadata": {},
   "outputs": [
    {
     "data": {
      "text/plain": [
       "Name\n",
       "Bulbasaur                 49\n",
       "Ivysaur                   62\n",
       "Venusaur                  82\n",
       "VenusaurMega Venusaur    100\n",
       "Charmander                52\n",
       "Name: Attack, dtype: int64"
      ]
     },
     "execution_count": 3,
     "metadata": {},
     "output_type": "execute_result"
    }
   ],
   "source": [
    "pok.head() #"
   ]
  },
  {
   "cell_type": "code",
   "execution_count": 5,
   "id": "05bbbd69",
   "metadata": {},
   "outputs": [],
   "source": [
    "pokType = pd.read_csv(\"/Users/arturdanyliv/Downloads/course-files/pokemon.csv\",usecols=['Name','Type 2'],index_col='Name').squeeze()"
   ]
  },
  {
   "cell_type": "code",
   "execution_count": 6,
   "id": "4e4a1bb6",
   "metadata": {},
   "outputs": [
    {
     "data": {
      "text/plain": [
       "<bound method NDFrame.head of Name\n",
       "Bulbasaur                Poison\n",
       "Ivysaur                  Poison\n",
       "Venusaur                 Poison\n",
       "VenusaurMega Venusaur    Poison\n",
       "Charmander                  NaN\n",
       "                          ...  \n",
       "Diancie                   Fairy\n",
       "DiancieMega Diancie       Fairy\n",
       "HoopaHoopa Confined       Ghost\n",
       "HoopaHoopa Unbound         Dark\n",
       "Volcanion                 Water\n",
       "Name: Type 2, Length: 800, dtype: object>"
      ]
     },
     "execution_count": 6,
     "metadata": {},
     "output_type": "execute_result"
    }
   ],
   "source": [
    "pokType.head\n",
    "# podzielone na typy"
   ]
  },
  {
   "cell_type": "code",
   "execution_count": 7,
   "id": "8ebbd3b5",
   "metadata": {},
   "outputs": [
    {
     "data": {
      "text/plain": [
       "Flying      97\n",
       "Ground      35\n",
       "Poison      34\n",
       "Psychic     33\n",
       "Fighting    26\n",
       "Grass       25\n",
       "Fairy       23\n",
       "Steel       22\n",
       "Dark        20\n",
       "Dragon      18\n",
       "Water       14\n",
       "Ghost       14\n",
       "Ice         14\n",
       "Rock        14\n",
       "Fire        12\n",
       "Electric     6\n",
       "Normal       4\n",
       "Bug          3\n",
       "Name: Type 2, dtype: int64"
      ]
     },
     "execution_count": 7,
     "metadata": {},
     "output_type": "execute_result"
    }
   ],
   "source": [
    "pokType.value_counts()\n",
    "# z jakimi typami mam doczenienie \n",
    "# czy te wartosci sa duze czy sa male "
   ]
  },
  {
   "cell_type": "code",
   "execution_count": 8,
   "id": "09e90c45",
   "metadata": {},
   "outputs": [
    {
     "data": {
      "text/plain": [
       "Flying      97\n",
       "Ground      35\n",
       "Poison      34\n",
       "Psychic     33\n",
       "Fighting    26\n",
       "Name: Type 2, dtype: int64"
      ]
     },
     "execution_count": 8,
     "metadata": {},
     "output_type": "execute_result"
    }
   ],
   "source": [
    "pokType.value_counts().head()"
   ]
  },
  {
   "cell_type": "code",
   "execution_count": 9,
   "id": "03b4b268",
   "metadata": {},
   "outputs": [
    {
     "data": {
      "text/plain": [
       "5"
      ]
     },
     "execution_count": 9,
     "metadata": {},
     "output_type": "execute_result"
    }
   ],
   "source": [
    "pok.min()"
   ]
  },
  {
   "cell_type": "code",
   "execution_count": 10,
   "id": "776d0c1f",
   "metadata": {},
   "outputs": [
    {
     "data": {
      "text/plain": [
       "190"
      ]
     },
     "execution_count": 10,
     "metadata": {},
     "output_type": "execute_result"
    }
   ],
   "source": [
    "pok.max()"
   ]
  },
  {
   "cell_type": "code",
   "execution_count": 11,
   "id": "4e265df2",
   "metadata": {},
   "outputs": [
    {
     "data": {
      "text/plain": [
       "'Chansey'"
      ]
     },
     "execution_count": 11,
     "metadata": {},
     "output_type": "execute_result"
    }
   ],
   "source": [
    "pok.idxmin()"
   ]
  },
  {
   "cell_type": "code",
   "execution_count": 12,
   "id": "cdbeaf6d",
   "metadata": {},
   "outputs": [
    {
     "data": {
      "text/plain": [
       "5"
      ]
     },
     "execution_count": 12,
     "metadata": {},
     "output_type": "execute_result"
    }
   ],
   "source": [
    "pok.loc[pok.idxmin()]"
   ]
  },
  {
   "cell_type": "code",
   "execution_count": 13,
   "id": "f1fbeb27",
   "metadata": {},
   "outputs": [
    {
     "data": {
      "text/plain": [
       "79.00125"
      ]
     },
     "execution_count": 13,
     "metadata": {},
     "output_type": "execute_result"
    }
   ],
   "source": [
    "pok.mean()\n",
    "# srednia "
   ]
  },
  {
   "cell_type": "code",
   "execution_count": 15,
   "id": "575c99fe",
   "metadata": {},
   "outputs": [
    {
     "data": {
      "text/plain": [
       "75.0"
      ]
     },
     "execution_count": 15,
     "metadata": {},
     "output_type": "execute_result"
    }
   ],
   "source": [
    "pok.median()\n",
    "# mediana "
   ]
  },
  {
   "cell_type": "code",
   "execution_count": 17,
   "id": "e645ea5e",
   "metadata": {},
   "outputs": [
    {
     "data": {
      "text/plain": [
       "32.45736586949843"
      ]
     },
     "execution_count": 17,
     "metadata": {},
     "output_type": "execute_result"
    }
   ],
   "source": [
    "pok.std()"
   ]
  },
  {
   "cell_type": "code",
   "execution_count": null,
   "id": "8f91d005",
   "metadata": {},
   "outputs": [],
   "source": [
    "#######################################################"
   ]
  },
  {
   "cell_type": "code",
   "execution_count": 22,
   "id": "aca17e68",
   "metadata": {},
   "outputs": [
    {
     "data": {
      "text/plain": [
       "0     1\n",
       "1     1\n",
       "2     1\n",
       "3     2\n",
       "4     3\n",
       "5     5\n",
       "6    29\n",
       "dtype: int64"
      ]
     },
     "execution_count": 22,
     "metadata": {},
     "output_type": "execute_result"
    }
   ],
   "source": [
    "import pandas as pd \n",
    "listA = [1,1,1,2,3,5,29]\n",
    "seriesA = pd.Series(listA)\n",
    "seriesA"
   ]
  },
  {
   "cell_type": "code",
   "execution_count": 23,
   "id": "f9bb0e11",
   "metadata": {},
   "outputs": [
    {
     "data": {
      "text/plain": [
       "0     1\n",
       "1     1\n",
       "2     1\n",
       "3     6\n",
       "4     9\n",
       "5    11\n",
       "6    13\n",
       "dtype: int64"
      ]
     },
     "execution_count": 23,
     "metadata": {},
     "output_type": "execute_result"
    }
   ],
   "source": [
    "listB = [4,4,4,6,6,8,10]\n",
    "seriesB = pd.Series(listC)\n",
    "seriesC"
   ]
  },
  {
   "cell_type": "code",
   "execution_count": 24,
   "id": "55567d66",
   "metadata": {},
   "outputs": [
    {
     "data": {
      "text/plain": [
       "0     1\n",
       "1     1\n",
       "2     1\n",
       "3     6\n",
       "4     9\n",
       "5    11\n",
       "6    13\n",
       "dtype: int64"
      ]
     },
     "execution_count": 24,
     "metadata": {},
     "output_type": "execute_result"
    }
   ],
   "source": [
    "listC = [1,1,1,6,9,11,13]\n",
    "seriesC = pd.Series(listC)\n",
    "seriesC"
   ]
  },
  {
   "cell_type": "code",
   "execution_count": 26,
   "id": "6179ece4",
   "metadata": {},
   "outputs": [
    {
     "name": "stdout",
     "output_type": "stream",
     "text": [
      "[1, 1, 1, 2, 3, 5, 29]\n",
      "[4, 4, 4, 6, 6, 8, 10]\n",
      "[1, 1, 1, 6, 9, 11, 13]\n"
     ]
    }
   ],
   "source": [
    "print(listA)\n",
    "print(listB)\n",
    "print(listC)"
   ]
  },
  {
   "cell_type": "code",
   "execution_count": 27,
   "id": "aa04a0f0",
   "metadata": {},
   "outputs": [
    {
     "data": {
      "text/plain": [
       "6.0"
      ]
     },
     "execution_count": 27,
     "metadata": {},
     "output_type": "execute_result"
    }
   ],
   "source": [
    "seriesA.mean()"
   ]
  },
  {
   "cell_type": "code",
   "execution_count": 28,
   "id": "07ee75dd",
   "metadata": {},
   "outputs": [
    {
     "data": {
      "text/plain": [
       "6.0"
      ]
     },
     "execution_count": 28,
     "metadata": {},
     "output_type": "execute_result"
    }
   ],
   "source": [
    "seriesB.mean()"
   ]
  },
  {
   "cell_type": "code",
   "execution_count": 29,
   "id": "a30b285f",
   "metadata": {},
   "outputs": [
    {
     "data": {
      "text/plain": [
       "6.0"
      ]
     },
     "execution_count": 29,
     "metadata": {},
     "output_type": "execute_result"
    }
   ],
   "source": [
    "seriesC.mean()"
   ]
  },
  {
   "cell_type": "code",
   "execution_count": 30,
   "id": "7a16cead",
   "metadata": {},
   "outputs": [
    {
     "name": "stdout",
     "output_type": "stream",
     "text": [
      "[1, 1, 1, 2, 3, 5, 29]\n",
      "[4, 4, 4, 6, 6, 8, 10]\n",
      "[1, 1, 1, 6, 9, 11, 13]\n"
     ]
    }
   ],
   "source": [
    "print(listA)\n",
    "print(listB)\n",
    "print(listC)"
   ]
  },
  {
   "cell_type": "code",
   "execution_count": 31,
   "id": "e9745806",
   "metadata": {},
   "outputs": [
    {
     "data": {
      "text/plain": [
       "10.246950765959598"
      ]
     },
     "execution_count": 31,
     "metadata": {},
     "output_type": "execute_result"
    }
   ],
   "source": [
    "seriesA.std()\n",
    "# odchylenie standardowe "
   ]
  },
  {
   "cell_type": "code",
   "execution_count": 35,
   "id": "2542a5e7",
   "metadata": {
    "scrolled": false
   },
   "outputs": [
    {
     "data": {
      "text/plain": [
       "5.131601439446884"
      ]
     },
     "execution_count": 35,
     "metadata": {},
     "output_type": "execute_result"
    }
   ],
   "source": [
    "seriesB.std()\n",
    "# jego paczki sa bardziej do siebie podobne "
   ]
  },
  {
   "cell_type": "code",
   "execution_count": 36,
   "id": "220a5186",
   "metadata": {},
   "outputs": [
    {
     "data": {
      "text/plain": [
       "5.131601439446884"
      ]
     },
     "execution_count": 36,
     "metadata": {},
     "output_type": "execute_result"
    }
   ],
   "source": [
    "seriesC.std()"
   ]
  },
  {
   "cell_type": "code",
   "execution_count": null,
   "id": "6b2f5894",
   "metadata": {},
   "outputs": [],
   "source": []
  },
  {
   "cell_type": "code",
   "execution_count": 37,
   "id": "b3083906",
   "metadata": {},
   "outputs": [
    {
     "data": {
      "text/plain": [
       "79.00125"
      ]
     },
     "execution_count": 37,
     "metadata": {},
     "output_type": "execute_result"
    }
   ],
   "source": [
    "pok.sum() / pok.count()\n",
    "# srednia sila ataku pokemona \n",
    "# suma dzielaca przez ilosc "
   ]
  },
  {
   "cell_type": "code",
   "execution_count": 38,
   "id": "f316c744",
   "metadata": {},
   "outputs": [
    {
     "data": {
      "text/plain": [
       "75.0"
      ]
     },
     "execution_count": 38,
     "metadata": {},
     "output_type": "execute_result"
    }
   ],
   "source": [
    "pok.median()\n",
    "# np jak sila jest 80 to dal by rade pokonac ponad polowe pokemonow \n",
    "# bo wiemy ze polowa z nich jest mniejsza od 75"
   ]
  },
  {
   "cell_type": "code",
   "execution_count": 39,
   "id": "01df9222",
   "metadata": {},
   "outputs": [
    {
     "data": {
      "text/plain": [
       "32.45736586949843"
      ]
     },
     "execution_count": 39,
     "metadata": {},
     "output_type": "execute_result"
    }
   ],
   "source": [
    "pok.std()\n",
    "# odcylenie standardowe \n",
    "# roznica w sile ataku pomiedzy pokemonami osceluje w granicach 32 punktow \n",
    "# jestesmy w okolicach 79 + 32"
   ]
  },
  {
   "cell_type": "code",
   "execution_count": null,
   "id": "2f6c85cd",
   "metadata": {},
   "outputs": [],
   "source": [
    "# series.cout \n",
    "# series.values_counts()\n",
    "# series.idxmin()\n",
    "# series.idxmax()\n",
    "# series.mean() srednia \n",
    "# series.median() mediana \n",
    "# series.std() odchylenie standardowe "
   ]
  }
 ],
 "metadata": {
  "kernelspec": {
   "display_name": "Python 3 (ipykernel)",
   "language": "python",
   "name": "python3"
  },
  "language_info": {
   "codemirror_mode": {
    "name": "ipython",
    "version": 3
   },
   "file_extension": ".py",
   "mimetype": "text/x-python",
   "name": "python",
   "nbconvert_exporter": "python",
   "pygments_lexer": "ipython3",
   "version": "3.10.9"
  }
 },
 "nbformat": 4,
 "nbformat_minor": 5
}
