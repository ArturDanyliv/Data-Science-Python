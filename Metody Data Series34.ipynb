{
 "cells": [
  {
   "cell_type": "code",
   "execution_count": 2,
   "id": "507471e9",
   "metadata": {},
   "outputs": [],
   "source": [
    "import pandas as pd\n",
    "import numpy as np\n",
    "import matplotlib.pyplot as plt\n",
    "import math as math "
   ]
  },
  {
   "cell_type": "code",
   "execution_count": 3,
   "id": "d14a8518",
   "metadata": {},
   "outputs": [
    {
     "data": {
      "text/plain": [
       "0     1\n",
       "1     2\n",
       "2     4\n",
       "3    67\n",
       "4    99\n",
       "dtype: int64"
      ]
     },
     "execution_count": 3,
     "metadata": {},
     "output_type": "execute_result"
    }
   ],
   "source": [
    "monotoniclist = (1,2,4,67,99)\n",
    "monotonicSeries = pd.Series(monotoniclist)\n",
    "monotonicSeries"
   ]
  },
  {
   "cell_type": "code",
   "execution_count": 4,
   "id": "c956024a",
   "metadata": {},
   "outputs": [
    {
     "data": {
      "text/plain": [
       "173"
      ]
     },
     "execution_count": 4,
     "metadata": {},
     "output_type": "execute_result"
    }
   ],
   "source": [
    "monotonicSeries.sum()"
   ]
  },
  {
   "cell_type": "code",
   "execution_count": 5,
   "id": "edd7fe5c",
   "metadata": {},
   "outputs": [
    {
     "data": {
      "text/plain": [
       "1"
      ]
     },
     "execution_count": 5,
     "metadata": {},
     "output_type": "execute_result"
    }
   ],
   "source": [
    "monotonicSeries.min()"
   ]
  },
  {
   "cell_type": "code",
   "execution_count": 6,
   "id": "8f9c2416",
   "metadata": {},
   "outputs": [
    {
     "data": {
      "text/plain": [
       "99"
      ]
     },
     "execution_count": 6,
     "metadata": {},
     "output_type": "execute_result"
    }
   ],
   "source": [
    "monotonicSeries.max()"
   ]
  },
  {
   "cell_type": "code",
   "execution_count": 7,
   "id": "ee4c138c",
   "metadata": {},
   "outputs": [
    {
     "data": {
      "text/plain": [
       "34.6"
      ]
     },
     "execution_count": 7,
     "metadata": {},
     "output_type": "execute_result"
    }
   ],
   "source": [
    "monotonicSeries.mean()\n",
    "# srednia"
   ]
  },
  {
   "cell_type": "code",
   "execution_count": 8,
   "id": "d6d9edcd",
   "metadata": {},
   "outputs": [
    {
     "data": {
      "text/plain": [
       "5"
      ]
     },
     "execution_count": 8,
     "metadata": {},
     "output_type": "execute_result"
    }
   ],
   "source": [
    "monotonicSeries.count()\n",
    "# ile jest elementow w data series "
   ]
  },
  {
   "cell_type": "code",
   "execution_count": 9,
   "id": "124be063",
   "metadata": {},
   "outputs": [
    {
     "data": {
      "text/plain": [
       "5"
      ]
     },
     "execution_count": 9,
     "metadata": {},
     "output_type": "execute_result"
    }
   ],
   "source": [
    "monotonicSeries.size"
   ]
  },
  {
   "cell_type": "code",
   "execution_count": 10,
   "id": "ec9b1b5f",
   "metadata": {},
   "outputs": [
    {
     "data": {
      "text/plain": [
       "53064"
      ]
     },
     "execution_count": 10,
     "metadata": {},
     "output_type": "execute_result"
    }
   ],
   "source": [
    "monotonicSeries.product()\n",
    "# wszystko wymnaza przez siebie po kolei "
   ]
  },
  {
   "cell_type": "code",
   "execution_count": 13,
   "id": "4889cd99",
   "metadata": {},
   "outputs": [
    {
     "data": {
      "text/plain": [
       "RangeIndex(start=0, stop=5, step=1)"
      ]
     },
     "execution_count": 13,
     "metadata": {},
     "output_type": "execute_result"
    }
   ],
   "source": [
    "monotonicSeries.index\n",
    "# jak zostal zbudowany index"
   ]
  },
  {
   "cell_type": "code",
   "execution_count": 14,
   "id": "71518af8",
   "metadata": {},
   "outputs": [
    {
     "data": {
      "text/plain": [
       "RangeIndex(start=0, stop=5, step=1)"
      ]
     },
     "execution_count": 14,
     "metadata": {},
     "output_type": "execute_result"
    }
   ],
   "source": [
    "monotonicSeries.keys()"
   ]
  },
  {
   "cell_type": "code",
   "execution_count": 15,
   "id": "aa18d944",
   "metadata": {},
   "outputs": [
    {
     "data": {
      "text/plain": [
       "array([ 1,  2,  4, 67, 99])"
      ]
     },
     "execution_count": 15,
     "metadata": {},
     "output_type": "execute_result"
    }
   ],
   "source": [
    "monotonicSeries.values\n",
    "#atrybut"
   ]
  },
  {
   "cell_type": "code",
   "execution_count": 19,
   "id": "b019c75c",
   "metadata": {
    "collapsed": true
   },
   "outputs": [
    {
     "ename": "AttributeError",
     "evalue": "'Series' object has no attribute 'get_values'",
     "output_type": "error",
     "traceback": [
      "\u001b[0;31m---------------------------------------------------------------------------\u001b[0m",
      "\u001b[0;31mAttributeError\u001b[0m                            Traceback (most recent call last)",
      "Cell \u001b[0;32mIn[19], line 1\u001b[0m\n\u001b[0;32m----> 1\u001b[0m \u001b[43mmonotonicSeries\u001b[49m\u001b[38;5;241;43m.\u001b[39;49m\u001b[43mget_values\u001b[49m()\n",
      "File \u001b[0;32m~/anaconda3/lib/python3.10/site-packages/pandas/core/generic.py:5902\u001b[0m, in \u001b[0;36mNDFrame.__getattr__\u001b[0;34m(self, name)\u001b[0m\n\u001b[1;32m   5895\u001b[0m \u001b[38;5;28;01mif\u001b[39;00m (\n\u001b[1;32m   5896\u001b[0m     name \u001b[38;5;129;01mnot\u001b[39;00m \u001b[38;5;129;01min\u001b[39;00m \u001b[38;5;28mself\u001b[39m\u001b[38;5;241m.\u001b[39m_internal_names_set\n\u001b[1;32m   5897\u001b[0m     \u001b[38;5;129;01mand\u001b[39;00m name \u001b[38;5;129;01mnot\u001b[39;00m \u001b[38;5;129;01min\u001b[39;00m \u001b[38;5;28mself\u001b[39m\u001b[38;5;241m.\u001b[39m_metadata\n\u001b[1;32m   5898\u001b[0m     \u001b[38;5;129;01mand\u001b[39;00m name \u001b[38;5;129;01mnot\u001b[39;00m \u001b[38;5;129;01min\u001b[39;00m \u001b[38;5;28mself\u001b[39m\u001b[38;5;241m.\u001b[39m_accessors\n\u001b[1;32m   5899\u001b[0m     \u001b[38;5;129;01mand\u001b[39;00m \u001b[38;5;28mself\u001b[39m\u001b[38;5;241m.\u001b[39m_info_axis\u001b[38;5;241m.\u001b[39m_can_hold_identifiers_and_holds_name(name)\n\u001b[1;32m   5900\u001b[0m ):\n\u001b[1;32m   5901\u001b[0m     \u001b[38;5;28;01mreturn\u001b[39;00m \u001b[38;5;28mself\u001b[39m[name]\n\u001b[0;32m-> 5902\u001b[0m \u001b[38;5;28;01mreturn\u001b[39;00m \u001b[38;5;28;43mobject\u001b[39;49m\u001b[38;5;241;43m.\u001b[39;49m\u001b[38;5;21;43m__getattribute__\u001b[39;49m\u001b[43m(\u001b[49m\u001b[38;5;28;43mself\u001b[39;49m\u001b[43m,\u001b[49m\u001b[43m \u001b[49m\u001b[43mname\u001b[49m\u001b[43m)\u001b[49m\n",
      "\u001b[0;31mAttributeError\u001b[0m: 'Series' object has no attribute 'get_values'"
     ]
    }
   ],
   "source": [
    " monotonicSeries.get_values()\n",
    "    # metoda "
   ]
  },
  {
   "cell_type": "code",
   "execution_count": 20,
   "id": "2f8cb46f",
   "metadata": {},
   "outputs": [
    {
     "data": {
      "text/plain": [
       "[1, 2, 4, 67, 99]"
      ]
     },
     "execution_count": 20,
     "metadata": {},
     "output_type": "execute_result"
    }
   ],
   "source": [
    "monotonicSeries.to_list()\n",
    "# robi nam liste "
   ]
  },
  {
   "cell_type": "code",
   "execution_count": 22,
   "id": "10f08242",
   "metadata": {},
   "outputs": [
    {
     "data": {
      "text/plain": [
       "0     11\n",
       "1     12\n",
       "2     14\n",
       "3     77\n",
       "4    109\n",
       "dtype: int64"
      ]
     },
     "execution_count": 22,
     "metadata": {},
     "output_type": "execute_result"
    }
   ],
   "source": [
    "monotonicSeries.add(10)\n",
    "# do kazdej danej dodaje 10 "
   ]
  },
  {
   "cell_type": "code",
   "execution_count": 24,
   "id": "3476ee1e",
   "metadata": {},
   "outputs": [
    {
     "data": {
      "text/plain": [
       "0     1\n",
       "1     2\n",
       "2     4\n",
       "3    67\n",
       "4    99\n",
       "dtype: int64"
      ]
     },
     "execution_count": 24,
     "metadata": {},
     "output_type": "execute_result"
    }
   ],
   "source": [
    "monotonicSeries\n",
    "# stare dane bo w pandas ciezko modyfikowac dane bardziej tworzy kopie "
   ]
  },
  {
   "cell_type": "code",
   "execution_count": 25,
   "id": "8872b2b6",
   "metadata": {},
   "outputs": [],
   "source": [
    "# zeby zapisac wynik operacji add 10 \n",
    "newSeries = monotonicSeries.add(10)"
   ]
  },
  {
   "cell_type": "code",
   "execution_count": 26,
   "id": "8aed504e",
   "metadata": {},
   "outputs": [
    {
     "data": {
      "text/plain": [
       "0     11\n",
       "1     12\n",
       "2     14\n",
       "3     77\n",
       "4    109\n",
       "dtype: int64"
      ]
     },
     "execution_count": 26,
     "metadata": {},
     "output_type": "execute_result"
    }
   ],
   "source": [
    "newSeries"
   ]
  },
  {
   "cell_type": "code",
   "execution_count": 27,
   "id": "f79c436b",
   "metadata": {},
   "outputs": [],
   "source": [
    "    ### Jak przekazywac parametry "
   ]
  },
  {
   "cell_type": "code",
   "execution_count": 28,
   "id": "a1cfc9f6",
   "metadata": {},
   "outputs": [],
   "source": [
    "currencies = ['USD','EUR','PLN','EUR','EUR']\n",
    "countries = ['USA','Spain','Poland','Portugal','Italy']"
   ]
  },
  {
   "cell_type": "code",
   "execution_count": 31,
   "id": "8d04ffa8",
   "metadata": {
    "scrolled": true
   },
   "outputs": [
    {
     "data": {
      "text/plain": [
       "USA         USD\n",
       "Spain       EUR\n",
       "Poland      PLN\n",
       "Portugal    EUR\n",
       "Italy       EUR\n",
       "dtype: object"
      ]
     },
     "execution_count": 31,
     "metadata": {},
     "output_type": "execute_result"
    }
   ],
   "source": [
    "cunSeries = pd.Series(currencies, countries)\n",
    "# utworzyc serie ktorej indexem ma byc symwol waluty a wartos nazwa kraju \n",
    "cunSeries"
   ]
  },
  {
   "cell_type": "code",
   "execution_count": 34,
   "id": "e03ba325",
   "metadata": {},
   "outputs": [
    {
     "data": {
      "text/plain": [
       "USD         USA\n",
       "EUR       Spain\n",
       "PLN      Poland\n",
       "EUR    Portugal\n",
       "EUR       Italy\n",
       "dtype: object"
      ]
     },
     "execution_count": 34,
     "metadata": {},
     "output_type": "execute_result"
    }
   ],
   "source": [
    "cunSeries = pd.Series(countries, currencies)\n",
    "cunSeries\n",
    "# zmienilismy miejscami ale to juz jest upewnie inny obiekt "
   ]
  },
  {
   "cell_type": "code",
   "execution_count": 40,
   "id": "18963b04",
   "metadata": {},
   "outputs": [
    {
     "data": {
      "text/plain": [
       "USD         USA\n",
       "EUR       Spain\n",
       "PLN      Poland\n",
       "EUR    Portugal\n",
       "EUR       Italy\n",
       "dtype: object"
      ]
     },
     "execution_count": 40,
     "metadata": {},
     "output_type": "execute_result"
    }
   ],
   "source": [
    "# w jakie kolejnosci to robic \n",
    "cunSeries = pd.Series(data = countries, index = currencies)\n",
    "# dane maja byc pobierane z tego a index z tego \n",
    "cunSeries"
   ]
  },
  {
   "cell_type": "code",
   "execution_count": 41,
   "id": "2ab365a9",
   "metadata": {},
   "outputs": [
    {
     "data": {
      "text/plain": [
       "USD         USA\n",
       "EUR       Spain\n",
       "PLN      Poland\n",
       "EUR    Portugal\n",
       "EUR       Italy\n",
       "dtype: object"
      ]
     },
     "execution_count": 41,
     "metadata": {},
     "output_type": "execute_result"
    }
   ],
   "source": [
    "cunSeries = pd.Series( index = currencies,data = countries)\n",
    "cunSeries"
   ]
  },
  {
   "cell_type": "code",
   "execution_count": 42,
   "id": "e0056e06",
   "metadata": {},
   "outputs": [],
   "source": [
    "# to bedzie blad bo trzeba sie zdecydowac \n",
    "# cunSeries = pd.Series(index = currencies, countries)"
   ]
  },
  {
   "cell_type": "code",
   "execution_count": 44,
   "id": "866fb925",
   "metadata": {},
   "outputs": [
    {
     "data": {
      "text/plain": [
       "USD         USA\n",
       "EUR       Spain\n",
       "PLN      Poland\n",
       "EUR    Portugal\n",
       "EUR       Italy\n",
       "dtype: object"
      ]
     },
     "execution_count": 44,
     "metadata": {},
     "output_type": "execute_result"
    }
   ],
   "source": [
    "cunSeries = pd.Series(index = currencies, data = countries)\n",
    "# Shift Tab * 2(tan) * 3\n",
    "cunSeries"
   ]
  },
  {
   "cell_type": "code",
   "execution_count": 48,
   "id": "504ebc49",
   "metadata": {},
   "outputs": [],
   "source": [
    "dictCountry = {'USD': 'USA' ,'USD': 'USA'}\n"
   ]
  },
  {
   "cell_type": "code",
   "execution_count": 49,
   "id": "23d1a47d",
   "metadata": {},
   "outputs": [
    {
     "ename": "NameError",
     "evalue": "name 'dictCoutnry' is not defined",
     "output_type": "error",
     "traceback": [
      "\u001b[0;31m---------------------------------------------------------------------------\u001b[0m",
      "\u001b[0;31mNameError\u001b[0m                                 Traceback (most recent call last)",
      "Cell \u001b[0;32mIn[49], line 1\u001b[0m\n\u001b[0;32m----> 1\u001b[0m \u001b[43mdictCoutnry\u001b[49m\n",
      "\u001b[0;31mNameError\u001b[0m: name 'dictCoutnry' is not defined"
     ]
    }
   ],
   "source": [
    "dictCoutnry"
   ]
  },
  {
   "cell_type": "code",
   "execution_count": 50,
   "id": "19213dce",
   "metadata": {},
   "outputs": [],
   "source": [
    "dictCountry = {'USD': 'USA' ,'USD': 'Ecuador'}\n",
    "# Bedzie widac ttylko ostatnia zapisana wartosc to znaczy ze dolary obiawiazuje w Eccuador"
   ]
  },
  {
   "cell_type": "code",
   "execution_count": 51,
   "id": "12c9006d",
   "metadata": {},
   "outputs": [
    {
     "data": {
      "text/plain": [
       "{'USD': 'Ecuador'}"
      ]
     },
     "execution_count": 51,
     "metadata": {},
     "output_type": "execute_result"
    }
   ],
   "source": [
    "dictCountry"
   ]
  },
  {
   "cell_type": "code",
   "execution_count": null,
   "id": "4555fc2a",
   "metadata": {},
   "outputs": [],
   "source": []
  }
 ],
 "metadata": {
  "kernelspec": {
   "display_name": "Python 3 (ipykernel)",
   "language": "python",
   "name": "python3"
  },
  "language_info": {
   "codemirror_mode": {
    "name": "ipython",
    "version": 3
   },
   "file_extension": ".py",
   "mimetype": "text/x-python",
   "name": "python",
   "nbconvert_exporter": "python",
   "pygments_lexer": "ipython3",
   "version": "3.10.9"
  }
 },
 "nbformat": 4,
 "nbformat_minor": 5
}
