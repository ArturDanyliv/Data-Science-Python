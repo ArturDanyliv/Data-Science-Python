{
 "cells": [
  {
   "cell_type": "code",
   "execution_count": 1,
   "id": "d9a5abb9",
   "metadata": {},
   "outputs": [],
   "source": [
    "import pandas as pd \n",
    "import numpy as np \n",
    "import matplotlib.pyplot as plt \n",
    "import math as math "
   ]
  },
  {
   "cell_type": "code",
   "execution_count": 2,
   "id": "fadc5464",
   "metadata": {},
   "outputs": [],
   "source": [
    "frame = pd.read_csv(\"/Users/arturdanyliv/Downloads/course-files/Mcdonalds.csv\")"
   ]
  },
  {
   "cell_type": "code",
   "execution_count": 6,
   "id": "4028cfc0",
   "metadata": {},
   "outputs": [],
   "source": [
    "series = pd.read_csv(\"/Users/arturdanyliv/Downloads/course-files/Mcdonalds.csv\", usecols=[\"Item\",\"Calories\"],index_col=\"Item\").squeeze()"
   ]
  },
  {
   "cell_type": "code",
   "execution_count": 7,
   "id": "93d8f5f2",
   "metadata": {},
   "outputs": [
    {
     "data": {
      "text/html": [
       "<div>\n",
       "<style scoped>\n",
       "    .dataframe tbody tr th:only-of-type {\n",
       "        vertical-align: middle;\n",
       "    }\n",
       "\n",
       "    .dataframe tbody tr th {\n",
       "        vertical-align: top;\n",
       "    }\n",
       "\n",
       "    .dataframe thead th {\n",
       "        text-align: right;\n",
       "    }\n",
       "</style>\n",
       "<table border=\"1\" class=\"dataframe\">\n",
       "  <thead>\n",
       "    <tr style=\"text-align: right;\">\n",
       "      <th></th>\n",
       "      <th>Category</th>\n",
       "      <th>Item</th>\n",
       "      <th>Serving Size</th>\n",
       "      <th>Calories</th>\n",
       "      <th>Calories from Fat</th>\n",
       "      <th>TotalFat</th>\n",
       "      <th>Total Fat (% Daily Value)</th>\n",
       "      <th>Saturated Fat</th>\n",
       "      <th>Saturated Fat (% Daily Value)</th>\n",
       "      <th>Trans Fat</th>\n",
       "      <th>...</th>\n",
       "      <th>Carbohydrates</th>\n",
       "      <th>Carbohydrates (% Daily Value)</th>\n",
       "      <th>Dietary Fiber</th>\n",
       "      <th>Dietary Fiber (% Daily Value)</th>\n",
       "      <th>Sugars</th>\n",
       "      <th>Protein</th>\n",
       "      <th>Vitamin A (% Daily Value)</th>\n",
       "      <th>Vitamin C (% Daily Value)</th>\n",
       "      <th>Calcium (% Daily Value)</th>\n",
       "      <th>Iron (% Daily Value)</th>\n",
       "    </tr>\n",
       "  </thead>\n",
       "  <tbody>\n",
       "    <tr>\n",
       "      <th>0</th>\n",
       "      <td>Breakfast</td>\n",
       "      <td>Egg McMuffin</td>\n",
       "      <td>4.8 oz (136 g)</td>\n",
       "      <td>300</td>\n",
       "      <td>120</td>\n",
       "      <td>13.0</td>\n",
       "      <td>20</td>\n",
       "      <td>5.0</td>\n",
       "      <td>25</td>\n",
       "      <td>0.0</td>\n",
       "      <td>...</td>\n",
       "      <td>31</td>\n",
       "      <td>10</td>\n",
       "      <td>4</td>\n",
       "      <td>17</td>\n",
       "      <td>3</td>\n",
       "      <td>17</td>\n",
       "      <td>10</td>\n",
       "      <td>0</td>\n",
       "      <td>25</td>\n",
       "      <td>15</td>\n",
       "    </tr>\n",
       "    <tr>\n",
       "      <th>1</th>\n",
       "      <td>Breakfast</td>\n",
       "      <td>Egg White Delight</td>\n",
       "      <td>4.8 oz (135 g)</td>\n",
       "      <td>250</td>\n",
       "      <td>70</td>\n",
       "      <td>8.0</td>\n",
       "      <td>12</td>\n",
       "      <td>3.0</td>\n",
       "      <td>15</td>\n",
       "      <td>0.0</td>\n",
       "      <td>...</td>\n",
       "      <td>30</td>\n",
       "      <td>10</td>\n",
       "      <td>4</td>\n",
       "      <td>17</td>\n",
       "      <td>3</td>\n",
       "      <td>18</td>\n",
       "      <td>6</td>\n",
       "      <td>0</td>\n",
       "      <td>25</td>\n",
       "      <td>8</td>\n",
       "    </tr>\n",
       "    <tr>\n",
       "      <th>2</th>\n",
       "      <td>Breakfast</td>\n",
       "      <td>Sausage McMuffin</td>\n",
       "      <td>3.9 oz (111 g)</td>\n",
       "      <td>370</td>\n",
       "      <td>200</td>\n",
       "      <td>23.0</td>\n",
       "      <td>35</td>\n",
       "      <td>8.0</td>\n",
       "      <td>42</td>\n",
       "      <td>0.0</td>\n",
       "      <td>...</td>\n",
       "      <td>29</td>\n",
       "      <td>10</td>\n",
       "      <td>4</td>\n",
       "      <td>17</td>\n",
       "      <td>2</td>\n",
       "      <td>14</td>\n",
       "      <td>8</td>\n",
       "      <td>0</td>\n",
       "      <td>25</td>\n",
       "      <td>10</td>\n",
       "    </tr>\n",
       "    <tr>\n",
       "      <th>3</th>\n",
       "      <td>Breakfast</td>\n",
       "      <td>Sausage McMuffin with Egg</td>\n",
       "      <td>5.7 oz (161 g)</td>\n",
       "      <td>450</td>\n",
       "      <td>250</td>\n",
       "      <td>28.0</td>\n",
       "      <td>43</td>\n",
       "      <td>10.0</td>\n",
       "      <td>52</td>\n",
       "      <td>0.0</td>\n",
       "      <td>...</td>\n",
       "      <td>30</td>\n",
       "      <td>10</td>\n",
       "      <td>4</td>\n",
       "      <td>17</td>\n",
       "      <td>2</td>\n",
       "      <td>21</td>\n",
       "      <td>15</td>\n",
       "      <td>0</td>\n",
       "      <td>30</td>\n",
       "      <td>15</td>\n",
       "    </tr>\n",
       "    <tr>\n",
       "      <th>4</th>\n",
       "      <td>Breakfast</td>\n",
       "      <td>Sausage McMuffin with Egg Whites</td>\n",
       "      <td>5.7 oz (161 g)</td>\n",
       "      <td>400</td>\n",
       "      <td>210</td>\n",
       "      <td>23.0</td>\n",
       "      <td>35</td>\n",
       "      <td>8.0</td>\n",
       "      <td>42</td>\n",
       "      <td>0.0</td>\n",
       "      <td>...</td>\n",
       "      <td>30</td>\n",
       "      <td>10</td>\n",
       "      <td>4</td>\n",
       "      <td>17</td>\n",
       "      <td>2</td>\n",
       "      <td>21</td>\n",
       "      <td>6</td>\n",
       "      <td>0</td>\n",
       "      <td>25</td>\n",
       "      <td>10</td>\n",
       "    </tr>\n",
       "  </tbody>\n",
       "</table>\n",
       "<p>5 rows × 24 columns</p>\n",
       "</div>"
      ],
      "text/plain": [
       "    Category                              Item    Serving Size  Calories  \\\n",
       "0  Breakfast                      Egg McMuffin  4.8 oz (136 g)       300   \n",
       "1  Breakfast                 Egg White Delight  4.8 oz (135 g)       250   \n",
       "2  Breakfast                  Sausage McMuffin  3.9 oz (111 g)       370   \n",
       "3  Breakfast         Sausage McMuffin with Egg  5.7 oz (161 g)       450   \n",
       "4  Breakfast  Sausage McMuffin with Egg Whites  5.7 oz (161 g)       400   \n",
       "\n",
       "   Calories from Fat  TotalFat  Total Fat (% Daily Value)  Saturated Fat  \\\n",
       "0                120      13.0                         20            5.0   \n",
       "1                 70       8.0                         12            3.0   \n",
       "2                200      23.0                         35            8.0   \n",
       "3                250      28.0                         43           10.0   \n",
       "4                210      23.0                         35            8.0   \n",
       "\n",
       "   Saturated Fat (% Daily Value)  Trans Fat  ...  Carbohydrates  \\\n",
       "0                             25        0.0  ...             31   \n",
       "1                             15        0.0  ...             30   \n",
       "2                             42        0.0  ...             29   \n",
       "3                             52        0.0  ...             30   \n",
       "4                             42        0.0  ...             30   \n",
       "\n",
       "   Carbohydrates (% Daily Value)  Dietary Fiber  \\\n",
       "0                             10              4   \n",
       "1                             10              4   \n",
       "2                             10              4   \n",
       "3                             10              4   \n",
       "4                             10              4   \n",
       "\n",
       "   Dietary Fiber (% Daily Value)  Sugars  Protein  Vitamin A (% Daily Value)  \\\n",
       "0                             17       3       17                         10   \n",
       "1                             17       3       18                          6   \n",
       "2                             17       2       14                          8   \n",
       "3                             17       2       21                         15   \n",
       "4                             17       2       21                          6   \n",
       "\n",
       "   Vitamin C (% Daily Value)  Calcium (% Daily Value)  Iron (% Daily Value)  \n",
       "0                          0                       25                    15  \n",
       "1                          0                       25                     8  \n",
       "2                          0                       25                    10  \n",
       "3                          0                       30                    15  \n",
       "4                          0                       25                    10  \n",
       "\n",
       "[5 rows x 24 columns]"
      ]
     },
     "execution_count": 7,
     "metadata": {},
     "output_type": "execute_result"
    }
   ],
   "source": [
    "frame.head()"
   ]
  },
  {
   "cell_type": "code",
   "execution_count": 8,
   "id": "f73e2b37",
   "metadata": {},
   "outputs": [
    {
     "data": {
      "text/plain": [
       "260"
      ]
     },
     "execution_count": 8,
     "metadata": {},
     "output_type": "execute_result"
    }
   ],
   "source": [
    "series.count()\n",
    "# pozwala ustalic ile elemetnow znajduje sie w canej serii ile wierszy "
   ]
  },
  {
   "cell_type": "code",
   "execution_count": 9,
   "id": "684d0e27",
   "metadata": {},
   "outputs": [
    {
     "data": {
      "text/plain": [
       "Category                         260\n",
       "Item                             260\n",
       "Serving Size                     260\n",
       "Calories                         260\n",
       "Calories from Fat                260\n",
       "TotalFat                         260\n",
       "Total Fat (% Daily Value)        260\n",
       "Saturated Fat                    260\n",
       "Saturated Fat (% Daily Value)    260\n",
       "Trans Fat                        260\n",
       "Cholesterol                      260\n",
       "Cholesterol (% Daily Value)      260\n",
       "Sodium                           260\n",
       "Sodium (% Daily Value)           260\n",
       "Carbohydrates                    260\n",
       "Carbohydrates (% Daily Value)    260\n",
       "Dietary Fiber                    260\n",
       "Dietary Fiber (% Daily Value)    260\n",
       "Sugars                           260\n",
       "Protein                          260\n",
       "Vitamin A (% Daily Value)        260\n",
       "Vitamin C (% Daily Value)        260\n",
       "Calcium (% Daily Value)          260\n",
       "Iron (% Daily Value)             260\n",
       "dtype: int64"
      ]
     },
     "execution_count": 9,
     "metadata": {},
     "output_type": "execute_result"
    }
   ],
   "source": [
    "frame.count()\n",
    "# zostala urochomiona dla kazdej kolumny nie zaleznie \n",
    "# ile jest znanych elementuw w tej kolumnie znanych to znaczy innych niz NaN\n",
    "# NaN nie zostaja uzwglednione "
   ]
  },
  {
   "cell_type": "code",
   "execution_count": 10,
   "id": "0eeb9eaf",
   "metadata": {},
   "outputs": [
    {
     "data": {
      "text/plain": [
       "260"
      ]
     },
     "execution_count": 10,
     "metadata": {},
     "output_type": "execute_result"
    }
   ],
   "source": [
    "len(series)"
   ]
  },
  {
   "cell_type": "code",
   "execution_count": 11,
   "id": "f4a2ab86",
   "metadata": {},
   "outputs": [
    {
     "data": {
      "text/plain": [
       "260"
      ]
     },
     "execution_count": 11,
     "metadata": {},
     "output_type": "execute_result"
    }
   ],
   "source": [
    "len(frame)"
   ]
  },
  {
   "cell_type": "code",
   "execution_count": 12,
   "id": "b3db1630",
   "metadata": {},
   "outputs": [
    {
     "data": {
      "text/plain": [
       "dtype('int64')"
      ]
     },
     "execution_count": 12,
     "metadata": {},
     "output_type": "execute_result"
    }
   ],
   "source": [
    "series.dtypes\n",
    "# z jaim rodzajem typu mamy obiekt "
   ]
  },
  {
   "cell_type": "code",
   "execution_count": 13,
   "id": "c3668aa7",
   "metadata": {},
   "outputs": [
    {
     "data": {
      "text/plain": [
       "Category                          object\n",
       "Item                              object\n",
       "Serving Size                      object\n",
       "Calories                           int64\n",
       "Calories from Fat                  int64\n",
       "TotalFat                         float64\n",
       "Total Fat (% Daily Value)          int64\n",
       "Saturated Fat                    float64\n",
       "Saturated Fat (% Daily Value)      int64\n",
       "Trans Fat                        float64\n",
       "Cholesterol                        int64\n",
       "Cholesterol (% Daily Value)        int64\n",
       "Sodium                             int64\n",
       "Sodium (% Daily Value)             int64\n",
       "Carbohydrates                      int64\n",
       "Carbohydrates (% Daily Value)      int64\n",
       "Dietary Fiber                      int64\n",
       "Dietary Fiber (% Daily Value)      int64\n",
       "Sugars                             int64\n",
       "Protein                            int64\n",
       "Vitamin A (% Daily Value)          int64\n",
       "Vitamin C (% Daily Value)          int64\n",
       "Calcium (% Daily Value)            int64\n",
       "Iron (% Daily Value)               int64\n",
       "dtype: object"
      ]
     },
     "execution_count": 13,
     "metadata": {},
     "output_type": "execute_result"
    }
   ],
   "source": [
    "frame.dtypes\n",
    "# wartosc zostaly wygenerowane dla kazdej kolumny oddzielnie \n",
    "# int liczby \n",
    "# float wartosc z przecinkiem "
   ]
  },
  {
   "cell_type": "code",
   "execution_count": 26,
   "id": "64e57549",
   "metadata": {},
   "outputs": [
    {
     "data": {
      "text/plain": [
       "0      16\n",
       "340    10\n",
       "430    10\n",
       "280     9\n",
       "250     8\n",
       "       ..\n",
       "640     1\n",
       "800     1\n",
       "740     1\n",
       "620     1\n",
       "810     1\n",
       "Name: Calories, Length: 78, dtype: int64"
      ]
     },
     "execution_count": 26,
     "metadata": {},
     "output_type": "execute_result"
    }
   ],
   "source": [
    "series.value_counts()\n",
    "# series.get_dtype_counts() ----> starsza wersja \n",
    "# funkcja w przypadku serii to jeden jedyny typ dla jednej jedynej kolumny ktory wystepuje w obiekcie serii to int "
   ]
  },
  {
   "cell_type": "code",
   "execution_count": 45,
   "id": "559c4638",
   "metadata": {},
   "outputs": [
    {
     "ename": "AttributeError",
     "evalue": "'numpy.dtype[int64]' object has no attribute 'value_counts'",
     "output_type": "error",
     "traceback": [
      "\u001b[0;31m---------------------------------------------------------------------------\u001b[0m",
      "\u001b[0;31mAttributeError\u001b[0m                            Traceback (most recent call last)",
      "Cell \u001b[0;32mIn[45], line 1\u001b[0m\n\u001b[0;32m----> 1\u001b[0m \u001b[43mseries\u001b[49m\u001b[38;5;241;43m.\u001b[39;49m\u001b[43mdtypes\u001b[49m\u001b[38;5;241;43m.\u001b[39;49m\u001b[43mvalue_counts\u001b[49m(normalize\u001b[38;5;241m=\u001b[39m\u001b[38;5;28;01mTrue\u001b[39;00m)\n",
      "\u001b[0;31mAttributeError\u001b[0m: 'numpy.dtype[int64]' object has no attribute 'value_counts'"
     ]
    }
   ],
   "source": [
    "series.dtypes.value_counts()\n",
    "# series.dtypes.value_counts()   NIEWIEN CZEMU TO NIE DZIALA \n",
    "# result = Series(series.get_dtype_counts())\n",
    "# series.get_dtype_counts()\n",
    "# result = series(DataFrame(series)._data.get_dtype_counts())\n",
    "# series.dtypes.value_counts().index\n",
    "# series_dtype.counts().index\n",
    "# series.dtype.value_counts().index"
   ]
  },
  {
   "cell_type": "code",
   "execution_count": 48,
   "id": "7dc8fe7c",
   "metadata": {},
   "outputs": [
    {
     "data": {
      "text/plain": [
       "(260,)"
      ]
     },
     "execution_count": 48,
     "metadata": {},
     "output_type": "execute_result"
    }
   ],
   "source": [
    "series.shape\n",
    "# jaki jest kratalt danych ile wymariowe sa te dane \n",
    "# jaki jest krztalt \n",
    "# tylko jeden wymiar dla tego jedna liczba "
   ]
  },
  {
   "cell_type": "code",
   "execution_count": 50,
   "id": "f151dc11",
   "metadata": {},
   "outputs": [
    {
     "data": {
      "text/plain": [
       "(260, 24)"
      ]
     },
     "execution_count": 50,
     "metadata": {},
     "output_type": "execute_result"
    }
   ],
   "source": [
    "frame.shape\n",
    "# opwie nie tylko ile jest wierszy ale rowniez ile jest kolumn "
   ]
  },
  {
   "cell_type": "code",
   "execution_count": 52,
   "id": "783ab91d",
   "metadata": {},
   "outputs": [
    {
     "data": {
      "text/plain": [
       "[Index(['Egg McMuffin', 'Egg White Delight', 'Sausage McMuffin',\n",
       "        'Sausage McMuffin with Egg', 'Sausage McMuffin with Egg Whites',\n",
       "        'Steak & Egg McMuffin', 'Bacon, Egg & Cheese Biscuit (Regular Biscuit)',\n",
       "        'Bacon, Egg & Cheese Biscuit (Large Biscuit)',\n",
       "        'Bacon, Egg & Cheese Biscuit with Egg Whites (Regular Biscuit)',\n",
       "        'Bacon, Egg & Cheese Biscuit with Egg Whites (Large Biscuit)',\n",
       "        ...\n",
       "        'Shamrock Shake (Medium)', 'Shamrock Shake (Large)',\n",
       "        'McFlurry with M&M’s Candies (Small)',\n",
       "        'McFlurry with M&M’s Candies (Medium)',\n",
       "        'McFlurry with M&M’s Candies (Snack)',\n",
       "        'McFlurry with Oreo Cookies (Small)',\n",
       "        'McFlurry with Oreo Cookies (Medium)',\n",
       "        'McFlurry with Oreo Cookies (Snack)',\n",
       "        'McFlurry with Reese's Peanut Butter Cups (Medium)',\n",
       "        'McFlurry with Reese's Peanut Butter Cups (Snack)'],\n",
       "       dtype='object', name='Item', length=260)]"
      ]
     },
     "execution_count": 52,
     "metadata": {},
     "output_type": "execute_result"
    }
   ],
   "source": [
    "series.axes\n",
    "# axes mozna pobrac tylko to co nam potrzebne \n",
    "# zwraca na temat wszytko z index \n",
    "# Index ----> item\n",
    "# Ilosc elementow ile tam sie znajduje ich to ---> 260\n",
    "# "
   ]
  },
  {
   "cell_type": "code",
   "execution_count": 53,
   "id": "9b0a8295",
   "metadata": {},
   "outputs": [
    {
     "data": {
      "text/plain": [
       "[RangeIndex(start=0, stop=260, step=1),\n",
       " Index(['Category', 'Item', 'Serving Size', 'Calories', 'Calories from Fat',\n",
       "        'TotalFat', 'Total Fat (% Daily Value)', 'Saturated Fat',\n",
       "        'Saturated Fat (% Daily Value)', 'Trans Fat', 'Cholesterol',\n",
       "        'Cholesterol (% Daily Value)', 'Sodium', 'Sodium (% Daily Value)',\n",
       "        'Carbohydrates', 'Carbohydrates (% Daily Value)', 'Dietary Fiber',\n",
       "        'Dietary Fiber (% Daily Value)', 'Sugars', 'Protein',\n",
       "        'Vitamin A (% Daily Value)', 'Vitamin C (% Daily Value)',\n",
       "        'Calcium (% Daily Value)', 'Iron (% Daily Value)'],\n",
       "       dtype='object')]"
      ]
     },
     "execution_count": 53,
     "metadata": {},
     "output_type": "execute_result"
    }
   ],
   "source": [
    "frame.axes\n",
    "# mam doczenienie nie tylko z jedna osia wspolrzedna ale juz z dwiema \n",
    "# 1 ---> to index numery poszegolnych elementow \n",
    "# 2 ---> wykaz kolumn lista skladajaca sie z opisu jak ponumerowane poszczegolne elementy  2 liste opisujaca kolumne \n",
    "# pod czas importy zdecydowalismy ze index zostanie utworzony automatycznie od nowa \n",
    "#  liczba rozpoczynajaca od 0 \n",
    "#  kazda kolejna liczba musi byc wieksza o 1 \n",
    "#  ma sie zatrzymac na wartosci 260 \n",
    "# kolumny trzaba"
   ]
  },
  {
   "cell_type": "code",
   "execution_count": 54,
   "id": "4dea6fe3",
   "metadata": {},
   "outputs": [
    {
     "data": {
      "text/plain": [
       "Index(['Egg McMuffin', 'Egg White Delight', 'Sausage McMuffin',\n",
       "       'Sausage McMuffin with Egg', 'Sausage McMuffin with Egg Whites',\n",
       "       'Steak & Egg McMuffin', 'Bacon, Egg & Cheese Biscuit (Regular Biscuit)',\n",
       "       'Bacon, Egg & Cheese Biscuit (Large Biscuit)',\n",
       "       'Bacon, Egg & Cheese Biscuit with Egg Whites (Regular Biscuit)',\n",
       "       'Bacon, Egg & Cheese Biscuit with Egg Whites (Large Biscuit)',\n",
       "       ...\n",
       "       'Shamrock Shake (Medium)', 'Shamrock Shake (Large)',\n",
       "       'McFlurry with M&M’s Candies (Small)',\n",
       "       'McFlurry with M&M’s Candies (Medium)',\n",
       "       'McFlurry with M&M’s Candies (Snack)',\n",
       "       'McFlurry with Oreo Cookies (Small)',\n",
       "       'McFlurry with Oreo Cookies (Medium)',\n",
       "       'McFlurry with Oreo Cookies (Snack)',\n",
       "       'McFlurry with Reese's Peanut Butter Cups (Medium)',\n",
       "       'McFlurry with Reese's Peanut Butter Cups (Snack)'],\n",
       "      dtype='object', name='Item', length=260)"
      ]
     },
     "execution_count": 54,
     "metadata": {},
     "output_type": "execute_result"
    }
   ],
   "source": [
    "series.index \n",
    "# jedna z osi wspolrzednyhc ktora sluzy do opisania obiektu frame \n",
    "# wyswietlenie wszystkich wartosci ktore sie znajduja w item "
   ]
  },
  {
   "cell_type": "code",
   "execution_count": 55,
   "id": "2ece80f7",
   "metadata": {},
   "outputs": [
    {
     "data": {
      "text/plain": [
       "RangeIndex(start=0, stop=260, step=1)"
      ]
     },
     "execution_count": 55,
     "metadata": {},
     "output_type": "execute_result"
    }
   ],
   "source": [
    "frame.index"
   ]
  },
  {
   "cell_type": "code",
   "execution_count": 56,
   "id": "bfc6ad78",
   "metadata": {},
   "outputs": [],
   "source": [
    "# kiedy probujemy odlowac sie do osi wspolrzednej o nazwie columns \n",
    "# series.columns -----> bedzie blad \n"
   ]
  },
  {
   "cell_type": "code",
   "execution_count": 58,
   "id": "5397a7bd",
   "metadata": {},
   "outputs": [
    {
     "data": {
      "text/plain": [
       "Index(['Category', 'Item', 'Serving Size', 'Calories', 'Calories from Fat',\n",
       "       'TotalFat', 'Total Fat (% Daily Value)', 'Saturated Fat',\n",
       "       'Saturated Fat (% Daily Value)', 'Trans Fat', 'Cholesterol',\n",
       "       'Cholesterol (% Daily Value)', 'Sodium', 'Sodium (% Daily Value)',\n",
       "       'Carbohydrates', 'Carbohydrates (% Daily Value)', 'Dietary Fiber',\n",
       "       'Dietary Fiber (% Daily Value)', 'Sugars', 'Protein',\n",
       "       'Vitamin A (% Daily Value)', 'Vitamin C (% Daily Value)',\n",
       "       'Calcium (% Daily Value)', 'Iron (% Daily Value)'],\n",
       "      dtype='object')"
      ]
     },
     "execution_count": 58,
     "metadata": {},
     "output_type": "execute_result"
    }
   ],
   "source": [
    "frame.columns\n",
    "# istnieje taki atrybut jak kolumns i odpowida on wlasnie za druga os wporzednevh \n",
    "# os nazwy kolumn ktore zostalo wyswietlone "
   ]
  },
  {
   "cell_type": "code",
   "execution_count": 59,
   "id": "c2a452db",
   "metadata": {},
   "outputs": [
    {
     "data": {
      "text/plain": [
       "array([ 300,  250,  370,  450,  400,  430,  460,  520,  410,  470,  430,\n",
       "        480,  510,  570,  460,  520,  410,  470,  540,  460,  400,  420,\n",
       "        550,  500,  620,  570,  670,  740,  800,  640,  690, 1090, 1150,\n",
       "        990, 1050,  350,  520,  300,  150,  460,  290,  260,  530,  520,\n",
       "        600,  610,  540,  750,  240,  290,  430,  720,  380,  440,  430,\n",
       "        430,  500,  510,  350,  670,  510,  610,  450,  750,  590,  430,\n",
       "        360,  480,  430,  360,  630,  480,  610,  450,  670,  520,  540,\n",
       "        380,  190,  280,  470,  940, 1880,  390,  140,  380,  220,  140,\n",
       "        450,  290,  340,  260,  330,  250,  360,  280,  230,  340,  510,\n",
       "        110,   20,   15,  150,  250,  160,  150,   45,  330,  340,  280,\n",
       "        140,  200,  280,  100,    0,    0,    0,    0,  140,  190,  270,\n",
       "        100,    0,    0,    0,    0,  140,  200,  280,  100,  100,  130,\n",
       "         80,  150,  190,  280,    0,    0,    0,    0,    0,  150,  180,\n",
       "        220,  110,    0,    0,    0,  170,  210,  280,  270,  340,  430,\n",
       "        270,  330,  430,  260,  330,  420,  210,  260,  330,  100,  130,\n",
       "        170,  200,  250,  310,  200,  250,  310,  190,  240,  300,  140,\n",
       "        170,  220,  340,  410,  500,  270,  330,  390,  320,  390,  480,\n",
       "        250,  310,  370,  360,  440,  540,  280,  340,  400,  140,  190,\n",
       "        270,  130,  180,  260,  130,  180,  250,  120,  170,  240,   80,\n",
       "        120,  160,  290,  350,  480,  240,  290,  390,  280,  340,  460,\n",
       "        230,  270,  370,  450,  550,  670,  450,  550,  670,  530,  630,\n",
       "        760,  220,  260,  340,  210,  250,  330,  210,  260,  340,  530,\n",
       "        660,  820,  550,  690,  850,  560,  700,  850,  660,  820,  650,\n",
       "        930,  430,  510,  690,  340,  810,  410])"
      ]
     },
     "execution_count": 59,
     "metadata": {},
     "output_type": "execute_result"
    }
   ],
   "source": [
    "series.values\n",
    "# mam doczynienie tylko z jedna kolumna wszystkie artosci mozna wyswietlic i rozdzielic ,"
   ]
  },
  {
   "cell_type": "raw",
   "id": "0e5f8a85",
   "metadata": {},
   "source": [
    "frame.values\n",
    "# mam yliste wartosci element dla tej listy jest obiekt ktory sklada sie z wiecej ilosci wlasciwosci \n",
    "# dla kazdej pozycji meni restauracji mc znajdziemy info \n",
    "# do jakiej kategorii nalezy jak sie nazywa jak jest pakowany ile jest kalorii ile jest tluszczu \n",
    "# lista list \n",
    "# 1 lista elementy \n",
    "# 2 lista opisuje jedna konkretna pozycje z meni \n",
    "# tych list jest 260"
   ]
  },
  {
   "cell_type": "code",
   "execution_count": 61,
   "id": "bf920084",
   "metadata": {},
   "outputs": [],
   "source": [
    "# series.info()\n",
    "# nie bedzie dzialac nie wystepuje w obiekcie serii"
   ]
  },
  {
   "cell_type": "code",
   "execution_count": 62,
   "id": "7eddb84d",
   "metadata": {},
   "outputs": [
    {
     "name": "stdout",
     "output_type": "stream",
     "text": [
      "<class 'pandas.core.frame.DataFrame'>\n",
      "RangeIndex: 260 entries, 0 to 259\n",
      "Data columns (total 24 columns):\n",
      " #   Column                         Non-Null Count  Dtype  \n",
      "---  ------                         --------------  -----  \n",
      " 0   Category                       260 non-null    object \n",
      " 1   Item                           260 non-null    object \n",
      " 2   Serving Size                   260 non-null    object \n",
      " 3   Calories                       260 non-null    int64  \n",
      " 4   Calories from Fat              260 non-null    int64  \n",
      " 5   TotalFat                       260 non-null    float64\n",
      " 6   Total Fat (% Daily Value)      260 non-null    int64  \n",
      " 7   Saturated Fat                  260 non-null    float64\n",
      " 8   Saturated Fat (% Daily Value)  260 non-null    int64  \n",
      " 9   Trans Fat                      260 non-null    float64\n",
      " 10  Cholesterol                    260 non-null    int64  \n",
      " 11  Cholesterol (% Daily Value)    260 non-null    int64  \n",
      " 12  Sodium                         260 non-null    int64  \n",
      " 13  Sodium (% Daily Value)         260 non-null    int64  \n",
      " 14  Carbohydrates                  260 non-null    int64  \n",
      " 15  Carbohydrates (% Daily Value)  260 non-null    int64  \n",
      " 16  Dietary Fiber                  260 non-null    int64  \n",
      " 17  Dietary Fiber (% Daily Value)  260 non-null    int64  \n",
      " 18  Sugars                         260 non-null    int64  \n",
      " 19  Protein                        260 non-null    int64  \n",
      " 20  Vitamin A (% Daily Value)      260 non-null    int64  \n",
      " 21  Vitamin C (% Daily Value)      260 non-null    int64  \n",
      " 22  Calcium (% Daily Value)        260 non-null    int64  \n",
      " 23  Iron (% Daily Value)           260 non-null    int64  \n",
      "dtypes: float64(3), int64(18), object(3)\n",
      "memory usage: 48.9+ KB\n"
     ]
    }
   ],
   "source": [
    "frame.info()\n",
    "# zobaczylismy info o indeksie RangeIndex\n",
    "# ze mamy doczenienie z 24 kolumnami \n",
    "# a potem pojawily sie wartosci ktore sa nie nulowe sa okreslone i typ tych kolumn "
   ]
  },
  {
   "cell_type": "code",
   "execution_count": 63,
   "id": "de22ac29",
   "metadata": {},
   "outputs": [],
   "source": [
    "# zajrzec do info "
   ]
  },
  {
   "cell_type": "code",
   "execution_count": 64,
   "id": "c6a4cfd2",
   "metadata": {},
   "outputs": [
    {
     "data": {
      "text/plain": [
       "0      16\n",
       "340    10\n",
       "430    10\n",
       "280     9\n",
       "250     8\n",
       "       ..\n",
       "640     1\n",
       "800     1\n",
       "740     1\n",
       "620     1\n",
       "810     1\n",
       "Name: Calories, Length: 78, dtype: int64"
      ]
     },
     "execution_count": 64,
     "metadata": {},
     "output_type": "execute_result"
    }
   ],
   "source": [
    "series.value_counts()"
   ]
  },
  {
   "cell_type": "code",
   "execution_count": 65,
   "id": "44a357b8",
   "metadata": {},
   "outputs": [
    {
     "data": {
      "text/plain": [
       "0      16\n",
       "340    10\n",
       "430    10\n",
       "280     9\n",
       "250     8\n",
       "       ..\n",
       "640     1\n",
       "800     1\n",
       "740     1\n",
       "620     1\n",
       "810     1\n",
       "Name: Calories, Length: 78, dtype: int64"
      ]
     },
     "execution_count": 65,
     "metadata": {},
     "output_type": "execute_result"
    }
   ],
   "source": [
    "# frame.value_counts() \n",
    "# nie dzila na data frame \n",
    "# ale jak frame sklada sie z pojedynczych kolumn mozemy napisac \n",
    "frame[\"Calories\"].value_counts() "
   ]
  },
  {
   "cell_type": "code",
   "execution_count": 66,
   "id": "b274fb9c",
   "metadata": {},
   "outputs": [
    {
     "data": {
      "text/plain": [
       "Coffee & Tea          95\n",
       "Breakfast             42\n",
       "Smoothies & Shakes    28\n",
       "Chicken & Fish        27\n",
       "Beverages             27\n",
       "Beef & Pork           15\n",
       "Snacks & Sides        13\n",
       "Desserts               7\n",
       "Salads                 6\n",
       "Name: Category, dtype: int64"
      ]
     },
     "execution_count": 66,
     "metadata": {},
     "output_type": "execute_result"
    }
   ],
   "source": [
    "frame[\"Category\"].value_counts()"
   ]
  },
  {
   "cell_type": "code",
   "execution_count": 67,
   "id": "c43dc798",
   "metadata": {},
   "outputs": [
    {
     "data": {
      "text/plain": [
       "Item\n",
       "Hotcakes    350\n",
       "Name: Calories, dtype: int64"
      ]
     },
     "execution_count": 67,
     "metadata": {},
     "output_type": "execute_result"
    }
   ],
   "source": [
    "series.sample()\n",
    "# przed analiza danych trzeba zobaczyc z czym na doczenienia \n",
    "# 1.czy te dane dobrej jakosci \n",
    "# 2.czy wiersze i kolumny sa pouzepelniane albo nie \n",
    "# 3. jakie rzedu sa wartosci liczbowe duze czy male \n",
    "# sample wylosuje kilka roznych wartosci i jak urochamiamia z akazdym razem jest inny wynnik \n"
   ]
  },
  {
   "cell_type": "code",
   "execution_count": 68,
   "id": "a3960724",
   "metadata": {},
   "outputs": [
    {
     "data": {
      "text/html": [
       "<div>\n",
       "<style scoped>\n",
       "    .dataframe tbody tr th:only-of-type {\n",
       "        vertical-align: middle;\n",
       "    }\n",
       "\n",
       "    .dataframe tbody tr th {\n",
       "        vertical-align: top;\n",
       "    }\n",
       "\n",
       "    .dataframe thead th {\n",
       "        text-align: right;\n",
       "    }\n",
       "</style>\n",
       "<table border=\"1\" class=\"dataframe\">\n",
       "  <thead>\n",
       "    <tr style=\"text-align: right;\">\n",
       "      <th></th>\n",
       "      <th>Category</th>\n",
       "      <th>Item</th>\n",
       "      <th>Serving Size</th>\n",
       "      <th>Calories</th>\n",
       "      <th>Calories from Fat</th>\n",
       "      <th>TotalFat</th>\n",
       "      <th>Total Fat (% Daily Value)</th>\n",
       "      <th>Saturated Fat</th>\n",
       "      <th>Saturated Fat (% Daily Value)</th>\n",
       "      <th>Trans Fat</th>\n",
       "      <th>...</th>\n",
       "      <th>Carbohydrates</th>\n",
       "      <th>Carbohydrates (% Daily Value)</th>\n",
       "      <th>Dietary Fiber</th>\n",
       "      <th>Dietary Fiber (% Daily Value)</th>\n",
       "      <th>Sugars</th>\n",
       "      <th>Protein</th>\n",
       "      <th>Vitamin A (% Daily Value)</th>\n",
       "      <th>Vitamin C (% Daily Value)</th>\n",
       "      <th>Calcium (% Daily Value)</th>\n",
       "      <th>Iron (% Daily Value)</th>\n",
       "    </tr>\n",
       "  </thead>\n",
       "  <tbody>\n",
       "    <tr>\n",
       "      <th>132</th>\n",
       "      <td>Beverages</td>\n",
       "      <td>Minute Maid 100% Apple Juice Box</td>\n",
       "      <td>6 fl oz (177 ml)</td>\n",
       "      <td>80</td>\n",
       "      <td>0</td>\n",
       "      <td>0.0</td>\n",
       "      <td>0</td>\n",
       "      <td>0.0</td>\n",
       "      <td>0</td>\n",
       "      <td>0.0</td>\n",
       "      <td>...</td>\n",
       "      <td>21</td>\n",
       "      <td>7</td>\n",
       "      <td>0</td>\n",
       "      <td>0</td>\n",
       "      <td>19</td>\n",
       "      <td>0</td>\n",
       "      <td>0</td>\n",
       "      <td>100</td>\n",
       "      <td>10</td>\n",
       "      <td>0</td>\n",
       "    </tr>\n",
       "  </tbody>\n",
       "</table>\n",
       "<p>1 rows × 24 columns</p>\n",
       "</div>"
      ],
      "text/plain": [
       "      Category                              Item      Serving Size  Calories  \\\n",
       "132  Beverages  Minute Maid 100% Apple Juice Box  6 fl oz (177 ml)        80   \n",
       "\n",
       "     Calories from Fat  TotalFat  Total Fat (% Daily Value)  Saturated Fat  \\\n",
       "132                  0       0.0                          0            0.0   \n",
       "\n",
       "     Saturated Fat (% Daily Value)  Trans Fat  ...  Carbohydrates  \\\n",
       "132                              0        0.0  ...             21   \n",
       "\n",
       "     Carbohydrates (% Daily Value)  Dietary Fiber  \\\n",
       "132                              7              0   \n",
       "\n",
       "     Dietary Fiber (% Daily Value)  Sugars  Protein  \\\n",
       "132                              0      19        0   \n",
       "\n",
       "     Vitamin A (% Daily Value)  Vitamin C (% Daily Value)  \\\n",
       "132                          0                        100   \n",
       "\n",
       "     Calcium (% Daily Value)  Iron (% Daily Value)  \n",
       "132                       10                     0  \n",
       "\n",
       "[1 rows x 24 columns]"
      ]
     },
     "execution_count": 68,
     "metadata": {},
     "output_type": "execute_result"
    }
   ],
   "source": [
    "frame.sample()\n",
    "# jest uruchomiona jedna pozycja z meni \n",
    "# losuje randomowo z wszystkiego i za kazdym razem cos innego \n"
   ]
  },
  {
   "cell_type": "code",
   "execution_count": 69,
   "id": "299efcd6",
   "metadata": {},
   "outputs": [
    {
     "data": {
      "text/html": [
       "<div>\n",
       "<style scoped>\n",
       "    .dataframe tbody tr th:only-of-type {\n",
       "        vertical-align: middle;\n",
       "    }\n",
       "\n",
       "    .dataframe tbody tr th {\n",
       "        vertical-align: top;\n",
       "    }\n",
       "\n",
       "    .dataframe thead th {\n",
       "        text-align: right;\n",
       "    }\n",
       "</style>\n",
       "<table border=\"1\" class=\"dataframe\">\n",
       "  <thead>\n",
       "    <tr style=\"text-align: right;\">\n",
       "      <th></th>\n",
       "      <th>Category</th>\n",
       "      <th>Item</th>\n",
       "      <th>Serving Size</th>\n",
       "      <th>Calories</th>\n",
       "      <th>Calories from Fat</th>\n",
       "      <th>TotalFat</th>\n",
       "      <th>Total Fat (% Daily Value)</th>\n",
       "      <th>Saturated Fat</th>\n",
       "      <th>Saturated Fat (% Daily Value)</th>\n",
       "      <th>Trans Fat</th>\n",
       "      <th>...</th>\n",
       "      <th>Carbohydrates</th>\n",
       "      <th>Carbohydrates (% Daily Value)</th>\n",
       "      <th>Dietary Fiber</th>\n",
       "      <th>Dietary Fiber (% Daily Value)</th>\n",
       "      <th>Sugars</th>\n",
       "      <th>Protein</th>\n",
       "      <th>Vitamin A (% Daily Value)</th>\n",
       "      <th>Vitamin C (% Daily Value)</th>\n",
       "      <th>Calcium (% Daily Value)</th>\n",
       "      <th>Iron (% Daily Value)</th>\n",
       "    </tr>\n",
       "  </thead>\n",
       "  <tbody>\n",
       "    <tr>\n",
       "      <th>243</th>\n",
       "      <td>Smoothies &amp; Shakes</td>\n",
       "      <td>Vanilla Shake (Large)</td>\n",
       "      <td>22 fl oz cup</td>\n",
       "      <td>820</td>\n",
       "      <td>210</td>\n",
       "      <td>23.0</td>\n",
       "      <td>35</td>\n",
       "      <td>15.0</td>\n",
       "      <td>73</td>\n",
       "      <td>1.0</td>\n",
       "      <td>...</td>\n",
       "      <td>135</td>\n",
       "      <td>45</td>\n",
       "      <td>0</td>\n",
       "      <td>0</td>\n",
       "      <td>101</td>\n",
       "      <td>18</td>\n",
       "      <td>30</td>\n",
       "      <td>0</td>\n",
       "      <td>60</td>\n",
       "      <td>0</td>\n",
       "    </tr>\n",
       "    <tr>\n",
       "      <th>25</th>\n",
       "      <td>Breakfast</td>\n",
       "      <td>Bacon, Egg &amp; Cheese Bagel with Egg Whites</td>\n",
       "      <td>7.1 oz (201 g)</td>\n",
       "      <td>570</td>\n",
       "      <td>230</td>\n",
       "      <td>25.0</td>\n",
       "      <td>39</td>\n",
       "      <td>9.0</td>\n",
       "      <td>45</td>\n",
       "      <td>0.5</td>\n",
       "      <td>...</td>\n",
       "      <td>55</td>\n",
       "      <td>18</td>\n",
       "      <td>3</td>\n",
       "      <td>12</td>\n",
       "      <td>8</td>\n",
       "      <td>30</td>\n",
       "      <td>10</td>\n",
       "      <td>15</td>\n",
       "      <td>20</td>\n",
       "      <td>15</td>\n",
       "    </tr>\n",
       "    <tr>\n",
       "      <th>200</th>\n",
       "      <td>Coffee &amp; Tea</td>\n",
       "      <td>Caramel Iced Coffee (Medium)</td>\n",
       "      <td>22 fl oz cup</td>\n",
       "      <td>180</td>\n",
       "      <td>60</td>\n",
       "      <td>7.0</td>\n",
       "      <td>11</td>\n",
       "      <td>4.5</td>\n",
       "      <td>22</td>\n",
       "      <td>0.0</td>\n",
       "      <td>...</td>\n",
       "      <td>29</td>\n",
       "      <td>10</td>\n",
       "      <td>0</td>\n",
       "      <td>0</td>\n",
       "      <td>28</td>\n",
       "      <td>1</td>\n",
       "      <td>4</td>\n",
       "      <td>0</td>\n",
       "      <td>4</td>\n",
       "      <td>0</td>\n",
       "    </tr>\n",
       "  </tbody>\n",
       "</table>\n",
       "<p>3 rows × 24 columns</p>\n",
       "</div>"
      ],
      "text/plain": [
       "               Category                                       Item  \\\n",
       "243  Smoothies & Shakes                      Vanilla Shake (Large)   \n",
       "25            Breakfast  Bacon, Egg & Cheese Bagel with Egg Whites   \n",
       "200        Coffee & Tea               Caramel Iced Coffee (Medium)   \n",
       "\n",
       "       Serving Size  Calories  Calories from Fat  TotalFat  \\\n",
       "243    22 fl oz cup       820                210      23.0   \n",
       "25   7.1 oz (201 g)       570                230      25.0   \n",
       "200    22 fl oz cup       180                 60       7.0   \n",
       "\n",
       "     Total Fat (% Daily Value)  Saturated Fat  Saturated Fat (% Daily Value)  \\\n",
       "243                         35           15.0                             73   \n",
       "25                          39            9.0                             45   \n",
       "200                         11            4.5                             22   \n",
       "\n",
       "     Trans Fat  ...  Carbohydrates  Carbohydrates (% Daily Value)  \\\n",
       "243        1.0  ...            135                             45   \n",
       "25         0.5  ...             55                             18   \n",
       "200        0.0  ...             29                             10   \n",
       "\n",
       "     Dietary Fiber  Dietary Fiber (% Daily Value)  Sugars  Protein  \\\n",
       "243              0                              0     101       18   \n",
       "25               3                             12       8       30   \n",
       "200              0                              0      28        1   \n",
       "\n",
       "     Vitamin A (% Daily Value)  Vitamin C (% Daily Value)  \\\n",
       "243                         30                          0   \n",
       "25                          10                         15   \n",
       "200                          4                          0   \n",
       "\n",
       "     Calcium (% Daily Value)  Iron (% Daily Value)  \n",
       "243                       60                     0  \n",
       "25                        20                    15  \n",
       "200                        4                     0  \n",
       "\n",
       "[3 rows x 24 columns]"
      ]
     },
     "execution_count": 69,
     "metadata": {},
     "output_type": "execute_result"
    }
   ],
   "source": [
    "frame.sample(n=3)\n",
    "# ilosc elementow ktore maja byc wylosowane 3 pozycjo "
   ]
  },
  {
   "cell_type": "code",
   "execution_count": 70,
   "id": "98923e7a",
   "metadata": {},
   "outputs": [
    {
     "data": {
      "text/html": [
       "<div>\n",
       "<style scoped>\n",
       "    .dataframe tbody tr th:only-of-type {\n",
       "        vertical-align: middle;\n",
       "    }\n",
       "\n",
       "    .dataframe tbody tr th {\n",
       "        vertical-align: top;\n",
       "    }\n",
       "\n",
       "    .dataframe thead th {\n",
       "        text-align: right;\n",
       "    }\n",
       "</style>\n",
       "<table border=\"1\" class=\"dataframe\">\n",
       "  <thead>\n",
       "    <tr style=\"text-align: right;\">\n",
       "      <th></th>\n",
       "      <th>Saturated Fat</th>\n",
       "      <th>Sodium (% Daily Value)</th>\n",
       "      <th>Vitamin A (% Daily Value)</th>\n",
       "    </tr>\n",
       "  </thead>\n",
       "  <tbody>\n",
       "    <tr>\n",
       "      <th>0</th>\n",
       "      <td>5.0</td>\n",
       "      <td>31</td>\n",
       "      <td>10</td>\n",
       "    </tr>\n",
       "    <tr>\n",
       "      <th>1</th>\n",
       "      <td>3.0</td>\n",
       "      <td>32</td>\n",
       "      <td>6</td>\n",
       "    </tr>\n",
       "    <tr>\n",
       "      <th>2</th>\n",
       "      <td>8.0</td>\n",
       "      <td>33</td>\n",
       "      <td>8</td>\n",
       "    </tr>\n",
       "    <tr>\n",
       "      <th>3</th>\n",
       "      <td>10.0</td>\n",
       "      <td>36</td>\n",
       "      <td>15</td>\n",
       "    </tr>\n",
       "    <tr>\n",
       "      <th>4</th>\n",
       "      <td>8.0</td>\n",
       "      <td>37</td>\n",
       "      <td>6</td>\n",
       "    </tr>\n",
       "    <tr>\n",
       "      <th>...</th>\n",
       "      <td>...</td>\n",
       "      <td>...</td>\n",
       "      <td>...</td>\n",
       "    </tr>\n",
       "    <tr>\n",
       "      <th>255</th>\n",
       "      <td>9.0</td>\n",
       "      <td>12</td>\n",
       "      <td>15</td>\n",
       "    </tr>\n",
       "    <tr>\n",
       "      <th>256</th>\n",
       "      <td>12.0</td>\n",
       "      <td>16</td>\n",
       "      <td>20</td>\n",
       "    </tr>\n",
       "    <tr>\n",
       "      <th>257</th>\n",
       "      <td>6.0</td>\n",
       "      <td>8</td>\n",
       "      <td>10</td>\n",
       "    </tr>\n",
       "    <tr>\n",
       "      <th>258</th>\n",
       "      <td>15.0</td>\n",
       "      <td>17</td>\n",
       "      <td>20</td>\n",
       "    </tr>\n",
       "    <tr>\n",
       "      <th>259</th>\n",
       "      <td>8.0</td>\n",
       "      <td>8</td>\n",
       "      <td>10</td>\n",
       "    </tr>\n",
       "  </tbody>\n",
       "</table>\n",
       "<p>260 rows × 3 columns</p>\n",
       "</div>"
      ],
      "text/plain": [
       "     Saturated Fat  Sodium (% Daily Value)  Vitamin A (% Daily Value)\n",
       "0              5.0                      31                         10\n",
       "1              3.0                      32                          6\n",
       "2              8.0                      33                          8\n",
       "3             10.0                      36                         15\n",
       "4              8.0                      37                          6\n",
       "..             ...                     ...                        ...\n",
       "255            9.0                      12                         15\n",
       "256           12.0                      16                         20\n",
       "257            6.0                       8                         10\n",
       "258           15.0                      17                         20\n",
       "259            8.0                       8                         10\n",
       "\n",
       "[260 rows x 3 columns]"
      ]
     },
     "execution_count": 70,
     "metadata": {},
     "output_type": "execute_result"
    }
   ],
   "source": [
    "frame.sample(n=3,axis=\"columns\")\n",
    "# mozemy losowac rowniez jezeli chodzi o kolumny "
   ]
  },
  {
   "cell_type": "code",
   "execution_count": 71,
   "id": "17f30f81",
   "metadata": {},
   "outputs": [
    {
     "data": {
      "text/html": [
       "<div>\n",
       "<style scoped>\n",
       "    .dataframe tbody tr th:only-of-type {\n",
       "        vertical-align: middle;\n",
       "    }\n",
       "\n",
       "    .dataframe tbody tr th {\n",
       "        vertical-align: top;\n",
       "    }\n",
       "\n",
       "    .dataframe thead th {\n",
       "        text-align: right;\n",
       "    }\n",
       "</style>\n",
       "<table border=\"1\" class=\"dataframe\">\n",
       "  <thead>\n",
       "    <tr style=\"text-align: right;\">\n",
       "      <th></th>\n",
       "      <th>Protein</th>\n",
       "      <th>Calcium (% Daily Value)</th>\n",
       "      <th>Calories from Fat</th>\n",
       "    </tr>\n",
       "  </thead>\n",
       "  <tbody>\n",
       "    <tr>\n",
       "      <th>0</th>\n",
       "      <td>17</td>\n",
       "      <td>25</td>\n",
       "      <td>120</td>\n",
       "    </tr>\n",
       "    <tr>\n",
       "      <th>1</th>\n",
       "      <td>18</td>\n",
       "      <td>25</td>\n",
       "      <td>70</td>\n",
       "    </tr>\n",
       "    <tr>\n",
       "      <th>2</th>\n",
       "      <td>14</td>\n",
       "      <td>25</td>\n",
       "      <td>200</td>\n",
       "    </tr>\n",
       "    <tr>\n",
       "      <th>3</th>\n",
       "      <td>21</td>\n",
       "      <td>30</td>\n",
       "      <td>250</td>\n",
       "    </tr>\n",
       "    <tr>\n",
       "      <th>4</th>\n",
       "      <td>21</td>\n",
       "      <td>25</td>\n",
       "      <td>210</td>\n",
       "    </tr>\n",
       "  </tbody>\n",
       "</table>\n",
       "</div>"
      ],
      "text/plain": [
       "   Protein  Calcium (% Daily Value)  Calories from Fat\n",
       "0       17                       25                120\n",
       "1       18                       25                 70\n",
       "2       14                       25                200\n",
       "3       21                       30                250\n",
       "4       21                       25                210"
      ]
     },
     "execution_count": 71,
     "metadata": {},
     "output_type": "execute_result"
    }
   ],
   "source": [
    "frame.sample(n=3,axis=\"columns\").head()\n",
    "# mozemy losowac rowniez jezeli chodzi o kolumny i ograniczyc do pierwszych 5 "
   ]
  },
  {
   "cell_type": "code",
   "execution_count": 72,
   "id": "c76edd3a",
   "metadata": {},
   "outputs": [
    {
     "data": {
      "text/html": [
       "<div>\n",
       "<style scoped>\n",
       "    .dataframe tbody tr th:only-of-type {\n",
       "        vertical-align: middle;\n",
       "    }\n",
       "\n",
       "    .dataframe tbody tr th {\n",
       "        vertical-align: top;\n",
       "    }\n",
       "\n",
       "    .dataframe thead th {\n",
       "        text-align: right;\n",
       "    }\n",
       "</style>\n",
       "<table border=\"1\" class=\"dataframe\">\n",
       "  <thead>\n",
       "    <tr style=\"text-align: right;\">\n",
       "      <th></th>\n",
       "      <th>Category</th>\n",
       "      <th>Item</th>\n",
       "      <th>Serving Size</th>\n",
       "      <th>Calories</th>\n",
       "      <th>Calories from Fat</th>\n",
       "      <th>TotalFat</th>\n",
       "      <th>Total Fat (% Daily Value)</th>\n",
       "      <th>Saturated Fat</th>\n",
       "      <th>Saturated Fat (% Daily Value)</th>\n",
       "      <th>Trans Fat</th>\n",
       "      <th>...</th>\n",
       "      <th>Carbohydrates</th>\n",
       "      <th>Carbohydrates (% Daily Value)</th>\n",
       "      <th>Dietary Fiber</th>\n",
       "      <th>Dietary Fiber (% Daily Value)</th>\n",
       "      <th>Sugars</th>\n",
       "      <th>Protein</th>\n",
       "      <th>Vitamin A (% Daily Value)</th>\n",
       "      <th>Vitamin C (% Daily Value)</th>\n",
       "      <th>Calcium (% Daily Value)</th>\n",
       "      <th>Iron (% Daily Value)</th>\n",
       "    </tr>\n",
       "  </thead>\n",
       "  <tbody>\n",
       "    <tr>\n",
       "      <th>149</th>\n",
       "      <td>Coffee &amp; Tea</td>\n",
       "      <td>Latte (Medium)</td>\n",
       "      <td>16 fl oz cup</td>\n",
       "      <td>210</td>\n",
       "      <td>90</td>\n",
       "      <td>10.0</td>\n",
       "      <td>16</td>\n",
       "      <td>6.0</td>\n",
       "      <td>30</td>\n",
       "      <td>0.0</td>\n",
       "      <td>...</td>\n",
       "      <td>18</td>\n",
       "      <td>6</td>\n",
       "      <td>1</td>\n",
       "      <td>4</td>\n",
       "      <td>15</td>\n",
       "      <td>11</td>\n",
       "      <td>10</td>\n",
       "      <td>0</td>\n",
       "      <td>35</td>\n",
       "      <td>0</td>\n",
       "    </tr>\n",
       "    <tr>\n",
       "      <th>38</th>\n",
       "      <td>Breakfast</td>\n",
       "      <td>Hash Brown</td>\n",
       "      <td>2 oz (56 g)</td>\n",
       "      <td>150</td>\n",
       "      <td>80</td>\n",
       "      <td>9.0</td>\n",
       "      <td>14</td>\n",
       "      <td>1.5</td>\n",
       "      <td>6</td>\n",
       "      <td>0.0</td>\n",
       "      <td>...</td>\n",
       "      <td>15</td>\n",
       "      <td>5</td>\n",
       "      <td>2</td>\n",
       "      <td>6</td>\n",
       "      <td>0</td>\n",
       "      <td>1</td>\n",
       "      <td>0</td>\n",
       "      <td>2</td>\n",
       "      <td>0</td>\n",
       "      <td>2</td>\n",
       "    </tr>\n",
       "    <tr>\n",
       "      <th>156</th>\n",
       "      <td>Coffee &amp; Tea</td>\n",
       "      <td>Hazelnut Latte (Large)</td>\n",
       "      <td>20 fl oz cup</td>\n",
       "      <td>430</td>\n",
       "      <td>120</td>\n",
       "      <td>14.0</td>\n",
       "      <td>21</td>\n",
       "      <td>8.0</td>\n",
       "      <td>39</td>\n",
       "      <td>0.0</td>\n",
       "      <td>...</td>\n",
       "      <td>62</td>\n",
       "      <td>21</td>\n",
       "      <td>1</td>\n",
       "      <td>6</td>\n",
       "      <td>58</td>\n",
       "      <td>15</td>\n",
       "      <td>15</td>\n",
       "      <td>0</td>\n",
       "      <td>50</td>\n",
       "      <td>2</td>\n",
       "    </tr>\n",
       "    <tr>\n",
       "      <th>65</th>\n",
       "      <td>Chicken &amp; Fish</td>\n",
       "      <td>Southern Style Crispy Chicken Sandwich</td>\n",
       "      <td>5.6 oz (160 g)</td>\n",
       "      <td>430</td>\n",
       "      <td>170</td>\n",
       "      <td>19.0</td>\n",
       "      <td>29</td>\n",
       "      <td>3.0</td>\n",
       "      <td>15</td>\n",
       "      <td>0.0</td>\n",
       "      <td>...</td>\n",
       "      <td>43</td>\n",
       "      <td>14</td>\n",
       "      <td>2</td>\n",
       "      <td>7</td>\n",
       "      <td>7</td>\n",
       "      <td>21</td>\n",
       "      <td>4</td>\n",
       "      <td>2</td>\n",
       "      <td>15</td>\n",
       "      <td>15</td>\n",
       "    </tr>\n",
       "    <tr>\n",
       "      <th>86</th>\n",
       "      <td>Salads</td>\n",
       "      <td>Premium Bacon Ranch Salad with Grilled Chicken</td>\n",
       "      <td>8.5 oz (241 g)</td>\n",
       "      <td>220</td>\n",
       "      <td>80</td>\n",
       "      <td>8.0</td>\n",
       "      <td>13</td>\n",
       "      <td>4.0</td>\n",
       "      <td>20</td>\n",
       "      <td>0.0</td>\n",
       "      <td>...</td>\n",
       "      <td>8</td>\n",
       "      <td>3</td>\n",
       "      <td>2</td>\n",
       "      <td>10</td>\n",
       "      <td>4</td>\n",
       "      <td>29</td>\n",
       "      <td>110</td>\n",
       "      <td>30</td>\n",
       "      <td>15</td>\n",
       "      <td>8</td>\n",
       "    </tr>\n",
       "  </tbody>\n",
       "</table>\n",
       "<p>5 rows × 24 columns</p>\n",
       "</div>"
      ],
      "text/plain": [
       "           Category                                            Item  \\\n",
       "149    Coffee & Tea                                  Latte (Medium)   \n",
       "38        Breakfast                                      Hash Brown   \n",
       "156    Coffee & Tea                          Hazelnut Latte (Large)   \n",
       "65   Chicken & Fish          Southern Style Crispy Chicken Sandwich   \n",
       "86           Salads  Premium Bacon Ranch Salad with Grilled Chicken   \n",
       "\n",
       "       Serving Size  Calories  Calories from Fat  TotalFat  \\\n",
       "149    16 fl oz cup       210                 90      10.0   \n",
       "38      2 oz (56 g)       150                 80       9.0   \n",
       "156    20 fl oz cup       430                120      14.0   \n",
       "65   5.6 oz (160 g)       430                170      19.0   \n",
       "86   8.5 oz (241 g)       220                 80       8.0   \n",
       "\n",
       "     Total Fat (% Daily Value)  Saturated Fat  Saturated Fat (% Daily Value)  \\\n",
       "149                         16            6.0                             30   \n",
       "38                          14            1.5                              6   \n",
       "156                         21            8.0                             39   \n",
       "65                          29            3.0                             15   \n",
       "86                          13            4.0                             20   \n",
       "\n",
       "     Trans Fat  ...  Carbohydrates  Carbohydrates (% Daily Value)  \\\n",
       "149        0.0  ...             18                              6   \n",
       "38         0.0  ...             15                              5   \n",
       "156        0.0  ...             62                             21   \n",
       "65         0.0  ...             43                             14   \n",
       "86         0.0  ...              8                              3   \n",
       "\n",
       "     Dietary Fiber  Dietary Fiber (% Daily Value)  Sugars  Protein  \\\n",
       "149              1                              4      15       11   \n",
       "38               2                              6       0        1   \n",
       "156              1                              6      58       15   \n",
       "65               2                              7       7       21   \n",
       "86               2                             10       4       29   \n",
       "\n",
       "     Vitamin A (% Daily Value)  Vitamin C (% Daily Value)  \\\n",
       "149                         10                          0   \n",
       "38                           0                          2   \n",
       "156                         15                          0   \n",
       "65                           4                          2   \n",
       "86                         110                         30   \n",
       "\n",
       "     Calcium (% Daily Value)  Iron (% Daily Value)  \n",
       "149                       35                     0  \n",
       "38                         0                     2  \n",
       "156                       50                     2  \n",
       "65                        15                    15  \n",
       "86                        15                     8  \n",
       "\n",
       "[5 rows x 24 columns]"
      ]
     },
     "execution_count": 72,
     "metadata": {},
     "output_type": "execute_result"
    }
   ],
   "source": [
    "frame.sample(frac=0.02)\n",
    "# fraction ile proceny danych chcial bys zobaczyc w danej chwili na ekranie \n",
    "# np 2 procent ktore wystepuja w obiekcie frame "
   ]
  },
  {
   "cell_type": "code",
   "execution_count": 73,
   "id": "50fe9ded",
   "metadata": {},
   "outputs": [],
   "source": [
    "# .count() --> wyswietliwa informacje o ilosci elementow ale w przypadku data frame zrob to oddzielnie dla kazdej kolumny \n",
    "# len() --> ilosc\n",
    "# .dtypes --> typ , dataframe dla kazdej kolumny oddzielnie\n",
    "# .get_dtype_counts() --> ile razy kazdy z typow jest uzywany w obiekcie frame \n",
    "# .shape --> opisuje krztalt danych w prz. obiektu data frame mamy doczenienie z prostokatem wiec wiadomo ile jest wierszy w tym obiekcie i ile jest kolumn \n",
    "# .axes --> pozwala uzyskac info o poszgolnych osiach wspolrzednych dla frame to \n",
    "#      .index \n",
    "#      .columns\n",
    "#      .values\n",
    "# .info --> nie jest dostepne dla obiektu serii \n",
    "# .value_counts()  --> ile razy w okreslonej kolumnie wystepuja posczegolne wartosci \n",
    "# .sample  --> wylosowanie pelnych informacji ze zbioru danych , mzna okreslac ilosc tych elementow parametrem n badz parametrem fraction \n",
    "#    mozna tez okreslic ze nie interesuje mnie analizowanie wierszy ale poszczegolnych kolumn "
   ]
  },
  {
   "cell_type": "code",
   "execution_count": null,
   "id": "b81ffe71",
   "metadata": {},
   "outputs": [],
   "source": []
  }
 ],
 "metadata": {
  "kernelspec": {
   "display_name": "Python 3 (ipykernel)",
   "language": "python",
   "name": "python3"
  },
  "language_info": {
   "codemirror_mode": {
    "name": "ipython",
    "version": 3
   },
   "file_extension": ".py",
   "mimetype": "text/x-python",
   "name": "python",
   "nbconvert_exporter": "python",
   "pygments_lexer": "ipython3",
   "version": "3.10.9"
  }
 },
 "nbformat": 4,
 "nbformat_minor": 5
}
