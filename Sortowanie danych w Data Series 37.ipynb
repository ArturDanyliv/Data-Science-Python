{
 "cells": [
  {
   "cell_type": "code",
   "execution_count": 2,
   "id": "d3d87a3e",
   "metadata": {},
   "outputs": [],
   "source": [
    "import pandas as pd\n",
    "import numpy as np \n",
    "import matplotlib.pyplot as plt\n",
    "import math as math \n",
    "\n"
   ]
  },
  {
   "cell_type": "code",
   "execution_count": 3,
   "id": "4117cc33",
   "metadata": {},
   "outputs": [],
   "source": [
    "pok = pd.read_csv(\"/Users/arturdanyliv/Downloads/course-files/pokemon.csv\",usecols=['Name']).squeeze()"
   ]
  },
  {
   "cell_type": "code",
   "execution_count": 4,
   "id": "4773a828",
   "metadata": {},
   "outputs": [
    {
     "data": {
      "text/plain": [
       "0                Bulbasaur\n",
       "1                  Ivysaur\n",
       "2                 Venusaur\n",
       "3    VenusaurMega Venusaur\n",
       "4               Charmander\n",
       "Name: Name, dtype: object"
      ]
     },
     "execution_count": 4,
     "metadata": {},
     "output_type": "execute_result"
    }
   ],
   "source": [
    "pok.head()"
   ]
  },
  {
   "cell_type": "code",
   "execution_count": 5,
   "id": "7c020555",
   "metadata": {},
   "outputs": [
    {
     "data": {
      "text/plain": [
       "510                  Abomasnow\n",
       "511    AbomasnowMega Abomasnow\n",
       "68                        Abra\n",
       "392                      Absol\n",
       "393            AbsolMega Absol\n",
       "Name: Name, dtype: object"
      ]
     },
     "execution_count": 5,
     "metadata": {},
     "output_type": "execute_result"
    }
   ],
   "source": [
    "pok.sort_values().head() # alfabetycznie"
   ]
  },
  {
   "cell_type": "code",
   "execution_count": 6,
   "id": "fdf319f7",
   "metadata": {},
   "outputs": [
    {
     "data": {
      "text/plain": [
       "794    Zygarde50% Forme\n",
       "695            Zweilous\n",
       "46                Zubat\n",
       "631               Zorua\n",
       "632             Zoroark\n",
       "Name: Name, dtype: object"
      ]
     },
     "execution_count": 6,
     "metadata": {},
     "output_type": "execute_result"
    }
   ],
   "source": [
    "pok.sort_values(ascending=False).head() # pokemony ktore nazwy zaczely sie od literki z "
   ]
  },
  {
   "cell_type": "code",
   "execution_count": 7,
   "id": "67e51394",
   "metadata": {},
   "outputs": [
    {
     "data": {
      "text/plain": [
       "0                Bulbasaur\n",
       "1                  Ivysaur\n",
       "2                 Venusaur\n",
       "3    VenusaurMega Venusaur\n",
       "4               Charmander\n",
       "Name: Name, dtype: object"
      ]
     },
     "execution_count": 7,
     "metadata": {},
     "output_type": "execute_result"
    }
   ],
   "source": [
    "pok.head()"
   ]
  },
  {
   "cell_type": "code",
   "execution_count": 8,
   "id": "cccf28cb",
   "metadata": {
    "collapsed": true
   },
   "outputs": [
    {
     "ename": "ValueError",
     "evalue": "This Series is a view of some other array, to sort in-place you must create a copy",
     "output_type": "error",
     "traceback": [
      "\u001b[0;31m---------------------------------------------------------------------------\u001b[0m",
      "\u001b[0;31mValueError\u001b[0m                                Traceback (most recent call last)",
      "Cell \u001b[0;32mIn[8], line 1\u001b[0m\n\u001b[0;32m----> 1\u001b[0m \u001b[43mpok\u001b[49m\u001b[38;5;241;43m.\u001b[39;49m\u001b[43msort_values\u001b[49m\u001b[43m(\u001b[49m\u001b[43minplace\u001b[49m\u001b[38;5;241;43m=\u001b[39;49m\u001b[38;5;28;43;01mTrue\u001b[39;49;00m\u001b[43m)\u001b[49m\n",
      "File \u001b[0;32m~/anaconda3/lib/python3.10/site-packages/pandas/util/_decorators.py:331\u001b[0m, in \u001b[0;36mdeprecate_nonkeyword_arguments.<locals>.decorate.<locals>.wrapper\u001b[0;34m(*args, **kwargs)\u001b[0m\n\u001b[1;32m    325\u001b[0m \u001b[38;5;28;01mif\u001b[39;00m \u001b[38;5;28mlen\u001b[39m(args) \u001b[38;5;241m>\u001b[39m num_allow_args:\n\u001b[1;32m    326\u001b[0m     warnings\u001b[38;5;241m.\u001b[39mwarn(\n\u001b[1;32m    327\u001b[0m         msg\u001b[38;5;241m.\u001b[39mformat(arguments\u001b[38;5;241m=\u001b[39m_format_argument_list(allow_args)),\n\u001b[1;32m    328\u001b[0m         \u001b[38;5;167;01mFutureWarning\u001b[39;00m,\n\u001b[1;32m    329\u001b[0m         stacklevel\u001b[38;5;241m=\u001b[39mfind_stack_level(),\n\u001b[1;32m    330\u001b[0m     )\n\u001b[0;32m--> 331\u001b[0m \u001b[38;5;28;01mreturn\u001b[39;00m \u001b[43mfunc\u001b[49m\u001b[43m(\u001b[49m\u001b[38;5;241;43m*\u001b[39;49m\u001b[43margs\u001b[49m\u001b[43m,\u001b[49m\u001b[43m \u001b[49m\u001b[38;5;241;43m*\u001b[39;49m\u001b[38;5;241;43m*\u001b[39;49m\u001b[43mkwargs\u001b[49m\u001b[43m)\u001b[49m\n",
      "File \u001b[0;32m~/anaconda3/lib/python3.10/site-packages/pandas/core/series.py:3748\u001b[0m, in \u001b[0;36mSeries.sort_values\u001b[0;34m(self, axis, ascending, inplace, kind, na_position, ignore_index, key)\u001b[0m\n\u001b[1;32m   3746\u001b[0m \u001b[38;5;66;03m# GH 5856/5853\u001b[39;00m\n\u001b[1;32m   3747\u001b[0m \u001b[38;5;28;01mif\u001b[39;00m inplace \u001b[38;5;129;01mand\u001b[39;00m \u001b[38;5;28mself\u001b[39m\u001b[38;5;241m.\u001b[39m_is_cached:\n\u001b[0;32m-> 3748\u001b[0m     \u001b[38;5;28;01mraise\u001b[39;00m \u001b[38;5;167;01mValueError\u001b[39;00m(\n\u001b[1;32m   3749\u001b[0m         \u001b[38;5;124m\"\u001b[39m\u001b[38;5;124mThis Series is a view of some other array, to \u001b[39m\u001b[38;5;124m\"\u001b[39m\n\u001b[1;32m   3750\u001b[0m         \u001b[38;5;124m\"\u001b[39m\u001b[38;5;124msort in-place you must create a copy\u001b[39m\u001b[38;5;124m\"\u001b[39m\n\u001b[1;32m   3751\u001b[0m     )\n\u001b[1;32m   3753\u001b[0m \u001b[38;5;28;01mif\u001b[39;00m is_list_like(ascending):\n\u001b[1;32m   3754\u001b[0m     ascending \u001b[38;5;241m=\u001b[39m cast(Sequence[Union[\u001b[38;5;28mbool\u001b[39m, \u001b[38;5;28mint\u001b[39m]], ascending)\n",
      "\u001b[0;31mValueError\u001b[0m: This Series is a view of some other array, to sort in-place you must create a copy"
     ]
    }
   ],
   "source": [
    "pok.sort_values(inplace=True) # Posortowane wartosci , indeks nie jest po kolei "
   ]
  },
  {
   "cell_type": "code",
   "execution_count": 9,
   "id": "d566ce61",
   "metadata": {},
   "outputs": [
    {
     "data": {
      "text/plain": [
       "0                Bulbasaur\n",
       "1                  Ivysaur\n",
       "2                 Venusaur\n",
       "3    VenusaurMega Venusaur\n",
       "4               Charmander\n",
       "Name: Name, dtype: object"
      ]
     },
     "execution_count": 9,
     "metadata": {},
     "output_type": "execute_result"
    }
   ],
   "source": [
    "pok.head()"
   ]
  },
  {
   "cell_type": "code",
   "execution_count": 10,
   "id": "0cc4dd4b",
   "metadata": {
    "scrolled": true
   },
   "outputs": [
    {
     "data": {
      "text/plain": [
       "0                Bulbasaur\n",
       "1                  Ivysaur\n",
       "2                 Venusaur\n",
       "3    VenusaurMega Venusaur\n",
       "4               Charmander\n",
       "Name: Name, dtype: object"
      ]
     },
     "execution_count": 10,
     "metadata": {},
     "output_type": "execute_result"
    }
   ],
   "source": [
    "pok.sort_index().head() # nie patrzymy na kolejnosc wartosci tylko na kolejnosc indeksow "
   ]
  },
  {
   "cell_type": "code",
   "execution_count": 11,
   "id": "28efbaf2",
   "metadata": {},
   "outputs": [],
   "source": [
    "pok = pok.sort_index(ascending=False) # Sortowanie w tryb malejacy "
   ]
  },
  {
   "cell_type": "code",
   "execution_count": 12,
   "id": "885c1678",
   "metadata": {},
   "outputs": [
    {
     "data": {
      "text/plain": [
       "799              Volcanion\n",
       "798     HoopaHoopa Unbound\n",
       "797    HoopaHoopa Confined\n",
       "796    DiancieMega Diancie\n",
       "795                Diancie\n",
       "Name: Name, dtype: object"
      ]
     },
     "execution_count": 12,
     "metadata": {},
     "output_type": "execute_result"
    }
   ],
   "source": [
    "pok.head()"
   ]
  },
  {
   "cell_type": "code",
   "execution_count": null,
   "id": "24df1577",
   "metadata": {},
   "outputs": [],
   "source": []
  }
 ],
 "metadata": {
  "kernelspec": {
   "display_name": "Python 3 (ipykernel)",
   "language": "python",
   "name": "python3"
  },
  "language_info": {
   "codemirror_mode": {
    "name": "ipython",
    "version": 3
   },
   "file_extension": ".py",
   "mimetype": "text/x-python",
   "name": "python",
   "nbconvert_exporter": "python",
   "pygments_lexer": "ipython3",
   "version": "3.10.9"
  }
 },
 "nbformat": 4,
 "nbformat_minor": 5
}
