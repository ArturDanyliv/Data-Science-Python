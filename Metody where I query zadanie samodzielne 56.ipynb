{
 "cells": [
  {
   "cell_type": "code",
   "execution_count": 1,
   "id": "3d63fbfd",
   "metadata": {},
   "outputs": [],
   "source": [
    "# 1. Zaimportuj moduł pandas oraz numpy i nadaj im standardowe aliasy. Do zmiennej animals wczytaj zawartość pliku sleep_time.csv. Pobierz wszystkie kolumny, a kolumnę ID wybierz jako indeks. Podczas wczytywania zamień wszystkie wartości NaN na 0. Wyświetl nagłówek zaimportowanego pliku.\n",
    "# 2. W kolumnie vore znajduje się informacja o tym czy zwierzę jest roślinożerne (herbi), mięsożerne (carni) i wszystkożerne (omni). Korzystając z metody where wybierz wiersze opisujące zwierzęta roślinożerne. Wynik zapisz w zmiennej herbi\n",
    "# 3. Ile wierszy jest w zmiennej herbi?\n",
    "# 4. Ile wierszy jest w zmiennej herbi po usunięciu wartości NaN?\n",
    "# 5. Utwórz zmienną carni i zapisz w niej wynik filtrowania obiektu animals tak, że pobrane zostaną tylko\n",
    "#wiersze zwierząt mięsożernych. Wyświetl informację o ilości wierszy w zmiennej carni oraz o ilości wierszy\n",
    "#po usunięciu wartości NaN.\n",
    "# 6. Utwórz zmienną omni i zapisz w niej wynik filtrowania obiektu animals tak, że pobrane zotaną tylko\n",
    "#wiersze zwierząt wszystkożernych. Wyświetl informację o ilości wierszy w zmiennej omni oraz o ilości\n",
    "#wierszy po usunięciu wartości NaN.\n",
    "# 7. Wyświetl średni czas snu (kolumna sleep_total) dla zwierząt roślino-, mieso- i wszystkożernych. Czy\n",
    "#można próbować postawić hipotezę, że rodzaj pokarmu wpływa na czas snu?\n",
    "# 8. Korzystając z polecenia query wybierz te wiersze, które opisują zwierzęta śpiące więcej niż 14 godzin na\n",
    "#dobę (kolumna sleep_total)\n",
    "# 9. Do warunku z poprzedniego zadania dodaj: rodzaj zwierzęcia (kolumna vore) ma być roślinożerny\n",
    "#(wartość herbi)\n",
    "# 10. Do warunku z poprzedniego zadania dodaj: waga ciała (kolumna bodywt) ma być większa niż 1\n"
   ]
  },
  {
   "cell_type": "code",
   "execution_count": 2,
   "id": "a0263be1",
   "metadata": {},
   "outputs": [
    {
     "data": {
      "text/html": [
       "<div>\n",
       "<style scoped>\n",
       "    .dataframe tbody tr th:only-of-type {\n",
       "        vertical-align: middle;\n",
       "    }\n",
       "\n",
       "    .dataframe tbody tr th {\n",
       "        vertical-align: top;\n",
       "    }\n",
       "\n",
       "    .dataframe thead th {\n",
       "        text-align: right;\n",
       "    }\n",
       "</style>\n",
       "<table border=\"1\" class=\"dataframe\">\n",
       "  <thead>\n",
       "    <tr style=\"text-align: right;\">\n",
       "      <th></th>\n",
       "      <th>name</th>\n",
       "      <th>genus</th>\n",
       "      <th>vore</th>\n",
       "      <th>order</th>\n",
       "      <th>conservation</th>\n",
       "      <th>sleep_total</th>\n",
       "      <th>sleep_rem</th>\n",
       "      <th>sleep_cycle</th>\n",
       "      <th>awake</th>\n",
       "      <th>brainwt</th>\n",
       "      <th>bodywt</th>\n",
       "    </tr>\n",
       "    <tr>\n",
       "      <th>ID</th>\n",
       "      <th></th>\n",
       "      <th></th>\n",
       "      <th></th>\n",
       "      <th></th>\n",
       "      <th></th>\n",
       "      <th></th>\n",
       "      <th></th>\n",
       "      <th></th>\n",
       "      <th></th>\n",
       "      <th></th>\n",
       "      <th></th>\n",
       "    </tr>\n",
       "  </thead>\n",
       "  <tbody>\n",
       "    <tr>\n",
       "      <th>1</th>\n",
       "      <td>Cheetah</td>\n",
       "      <td>Acinonyx</td>\n",
       "      <td>carni</td>\n",
       "      <td>Carnivora</td>\n",
       "      <td>lc</td>\n",
       "      <td>12.1</td>\n",
       "      <td>0.0</td>\n",
       "      <td>0.000000</td>\n",
       "      <td>11.9</td>\n",
       "      <td>0.00000</td>\n",
       "      <td>50.000</td>\n",
       "    </tr>\n",
       "    <tr>\n",
       "      <th>2</th>\n",
       "      <td>Owl monkey</td>\n",
       "      <td>Aotus</td>\n",
       "      <td>omni</td>\n",
       "      <td>Primates</td>\n",
       "      <td>0</td>\n",
       "      <td>17.0</td>\n",
       "      <td>1.8</td>\n",
       "      <td>0.000000</td>\n",
       "      <td>7.0</td>\n",
       "      <td>0.01550</td>\n",
       "      <td>0.480</td>\n",
       "    </tr>\n",
       "    <tr>\n",
       "      <th>3</th>\n",
       "      <td>Mountain beaver</td>\n",
       "      <td>Aplodontia</td>\n",
       "      <td>herbi</td>\n",
       "      <td>Rodentia</td>\n",
       "      <td>nt</td>\n",
       "      <td>14.4</td>\n",
       "      <td>2.4</td>\n",
       "      <td>0.000000</td>\n",
       "      <td>9.6</td>\n",
       "      <td>0.00000</td>\n",
       "      <td>1.350</td>\n",
       "    </tr>\n",
       "    <tr>\n",
       "      <th>4</th>\n",
       "      <td>Greater short-tailed shrew</td>\n",
       "      <td>Blarina</td>\n",
       "      <td>omni</td>\n",
       "      <td>Soricomorpha</td>\n",
       "      <td>lc</td>\n",
       "      <td>14.9</td>\n",
       "      <td>2.3</td>\n",
       "      <td>0.133333</td>\n",
       "      <td>9.1</td>\n",
       "      <td>0.00029</td>\n",
       "      <td>0.019</td>\n",
       "    </tr>\n",
       "    <tr>\n",
       "      <th>5</th>\n",
       "      <td>Cow</td>\n",
       "      <td>Bos</td>\n",
       "      <td>herbi</td>\n",
       "      <td>Artiodactyla</td>\n",
       "      <td>domesticated</td>\n",
       "      <td>4.0</td>\n",
       "      <td>0.7</td>\n",
       "      <td>0.666667</td>\n",
       "      <td>20.0</td>\n",
       "      <td>0.42300</td>\n",
       "      <td>600.000</td>\n",
       "    </tr>\n",
       "  </tbody>\n",
       "</table>\n",
       "</div>"
      ],
      "text/plain": [
       "                          name       genus   vore         order  conservation  \\\n",
       "ID                                                                              \n",
       "1                      Cheetah    Acinonyx  carni     Carnivora            lc   \n",
       "2                   Owl monkey       Aotus   omni      Primates             0   \n",
       "3              Mountain beaver  Aplodontia  herbi      Rodentia            nt   \n",
       "4   Greater short-tailed shrew     Blarina   omni  Soricomorpha            lc   \n",
       "5                          Cow         Bos  herbi  Artiodactyla  domesticated   \n",
       "\n",
       "    sleep_total  sleep_rem  sleep_cycle  awake  brainwt   bodywt  \n",
       "ID                                                                \n",
       "1          12.1        0.0     0.000000   11.9  0.00000   50.000  \n",
       "2          17.0        1.8     0.000000    7.0  0.01550    0.480  \n",
       "3          14.4        2.4     0.000000    9.6  0.00000    1.350  \n",
       "4          14.9        2.3     0.133333    9.1  0.00029    0.019  \n",
       "5           4.0        0.7     0.666667   20.0  0.42300  600.000  "
      ]
     },
     "execution_count": 2,
     "metadata": {},
     "output_type": "execute_result"
    }
   ],
   "source": [
    "import pandas as pd \n",
    "import numpy as np \n",
    "animals = pd.read_csv('/Users/arturdanyliv/Downloads/course-files/sleep_time.csv',index_col=\"ID\").fillna(0)\n",
    "animals.head()"
   ]
  },
  {
   "cell_type": "code",
   "execution_count": 3,
   "id": "b629b90f",
   "metadata": {},
   "outputs": [],
   "source": [
    "herbi = animals.where( animals['vore'] == 'herbi')"
   ]
  },
  {
   "cell_type": "code",
   "execution_count": 4,
   "id": "33074ba5",
   "metadata": {},
   "outputs": [
    {
     "data": {
      "text/plain": [
       "83"
      ]
     },
     "execution_count": 4,
     "metadata": {},
     "output_type": "execute_result"
    }
   ],
   "source": [
    "len(herbi)"
   ]
  },
  {
   "cell_type": "code",
   "execution_count": 5,
   "id": "cd2eaab6",
   "metadata": {},
   "outputs": [
    {
     "data": {
      "text/plain": [
       "32"
      ]
     },
     "execution_count": 5,
     "metadata": {},
     "output_type": "execute_result"
    }
   ],
   "source": [
    "len(herbi.dropna())"
   ]
  },
  {
   "cell_type": "code",
   "execution_count": 6,
   "id": "d35c2abe",
   "metadata": {},
   "outputs": [
    {
     "name": "stdout",
     "output_type": "stream",
     "text": [
      "83\n",
      "19\n"
     ]
    }
   ],
   "source": [
    "carni = animals.where( animals['vore'] == 'carni') \n",
    "print(len(carni))\n",
    "print(len(carni.dropna()))"
   ]
  },
  {
   "cell_type": "code",
   "execution_count": 7,
   "id": "6add8f88",
   "metadata": {},
   "outputs": [
    {
     "name": "stdout",
     "output_type": "stream",
     "text": [
      "83\n",
      "20\n"
     ]
    }
   ],
   "source": [
    "omni = animals.where( animals['vore'] == 'omni') \n",
    "print(len(omni))\n",
    "print(len(omni.dropna()))"
   ]
  },
  {
   "cell_type": "code",
   "execution_count": null,
   "id": "68c82d44",
   "metadata": {},
   "outputs": [],
   "source": []
  }
 ],
 "metadata": {
  "kernelspec": {
   "display_name": "Python 3 (ipykernel)",
   "language": "python",
   "name": "python3"
  },
  "language_info": {
   "codemirror_mode": {
    "name": "ipython",
    "version": 3
   },
   "file_extension": ".py",
   "mimetype": "text/x-python",
   "name": "python",
   "nbconvert_exporter": "python",
   "pygments_lexer": "ipython3",
   "version": "3.10.9"
  }
 },
 "nbformat": 4,
 "nbformat_minor": 5
}
