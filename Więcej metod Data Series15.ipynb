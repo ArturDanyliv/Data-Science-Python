{
 "cells": [
  {
   "cell_type": "code",
   "execution_count": 1,
   "id": "c4b630d1",
   "metadata": {},
   "outputs": [],
   "source": [
    "import pandas as pd\n",
    "import numpy as np \n",
    "import matplotlib.pyplot as plt\n",
    "import math as math "
   ]
  },
  {
   "cell_type": "code",
   "execution_count": 2,
   "id": "b4d5ad93",
   "metadata": {},
   "outputs": [],
   "source": [
    "pok = pd.read_csv(\"/Users/arturdanyliv/Downloads/course-files/pokemon.csv\",usecols=['Name','Attack']).squeeze()"
   ]
  },
  {
   "cell_type": "code",
   "execution_count": 3,
   "id": "b3fd4fa7",
   "metadata": {},
   "outputs": [
    {
     "data": {
      "text/html": [
       "<div>\n",
       "<style scoped>\n",
       "    .dataframe tbody tr th:only-of-type {\n",
       "        vertical-align: middle;\n",
       "    }\n",
       "\n",
       "    .dataframe tbody tr th {\n",
       "        vertical-align: top;\n",
       "    }\n",
       "\n",
       "    .dataframe thead th {\n",
       "        text-align: right;\n",
       "    }\n",
       "</style>\n",
       "<table border=\"1\" class=\"dataframe\">\n",
       "  <thead>\n",
       "    <tr style=\"text-align: right;\">\n",
       "      <th></th>\n",
       "      <th>Name</th>\n",
       "      <th>Attack</th>\n",
       "    </tr>\n",
       "  </thead>\n",
       "  <tbody>\n",
       "    <tr>\n",
       "      <th>0</th>\n",
       "      <td>Bulbasaur</td>\n",
       "      <td>49</td>\n",
       "    </tr>\n",
       "    <tr>\n",
       "      <th>1</th>\n",
       "      <td>Ivysaur</td>\n",
       "      <td>62</td>\n",
       "    </tr>\n",
       "    <tr>\n",
       "      <th>2</th>\n",
       "      <td>Venusaur</td>\n",
       "      <td>82</td>\n",
       "    </tr>\n",
       "    <tr>\n",
       "      <th>3</th>\n",
       "      <td>VenusaurMega Venusaur</td>\n",
       "      <td>100</td>\n",
       "    </tr>\n",
       "    <tr>\n",
       "      <th>4</th>\n",
       "      <td>Charmander</td>\n",
       "      <td>52</td>\n",
       "    </tr>\n",
       "  </tbody>\n",
       "</table>\n",
       "</div>"
      ],
      "text/plain": [
       "                    Name  Attack\n",
       "0              Bulbasaur      49\n",
       "1                Ivysaur      62\n",
       "2               Venusaur      82\n",
       "3  VenusaurMega Venusaur     100\n",
       "4             Charmander      52"
      ]
     },
     "execution_count": 3,
     "metadata": {},
     "output_type": "execute_result"
    }
   ],
   "source": [
    "pok.head()"
   ]
  },
  {
   "cell_type": "code",
   "execution_count": 5,
   "id": "bf2e65eb",
   "metadata": {},
   "outputs": [
    {
     "data": {
      "text/plain": [
       "Name      800\n",
       "Attack    800\n",
       "dtype: int64"
      ]
     },
     "execution_count": 5,
     "metadata": {},
     "output_type": "execute_result"
    }
   ],
   "source": [
    "pok.count()\n",
    "# ile jest elementow w zbiorze "
   ]
  },
  {
   "cell_type": "code",
   "execution_count": 11,
   "id": "c7ca51b0",
   "metadata": {},
   "outputs": [],
   "source": [
    "pokType = pd.read_csv(\"/Users/arturdanyliv/Downloads/course-files/pokemon.csv\",usecols=['Name','Type 2'],index_col='Name').squeeze()"
   ]
  },
  {
   "cell_type": "code",
   "execution_count": 15,
   "id": "c1af2027",
   "metadata": {},
   "outputs": [
    {
     "data": {
      "text/plain": [
       "Name\n",
       "Bulbasaur                Poison\n",
       "Ivysaur                  Poison\n",
       "Venusaur                 Poison\n",
       "VenusaurMega Venusaur    Poison\n",
       "Charmander                  NaN\n",
       "Name: Type 2, dtype: object"
      ]
     },
     "execution_count": 15,
     "metadata": {},
     "output_type": "execute_result"
    }
   ],
   "source": [
    "pokType.head()\n",
    "# jestesmy w sstanie podzielc na typy pokemony "
   ]
  },
  {
   "cell_type": "code",
   "execution_count": 16,
   "id": "e26b0dd0",
   "metadata": {},
   "outputs": [
    {
     "data": {
      "text/plain": [
       "Flying      97\n",
       "Ground      35\n",
       "Poison      34\n",
       "Psychic     33\n",
       "Fighting    26\n",
       "Grass       25\n",
       "Fairy       23\n",
       "Steel       22\n",
       "Dark        20\n",
       "Dragon      18\n",
       "Water       14\n",
       "Ghost       14\n",
       "Ice         14\n",
       "Rock        14\n",
       "Fire        12\n",
       "Electric     6\n",
       "Normal       4\n",
       "Bug          3\n",
       "Name: Type 2, dtype: int64"
      ]
     },
     "execution_count": 16,
     "metadata": {},
     "output_type": "execute_result"
    }
   ],
   "source": [
    "pokType.value_counts()\n",
    "# dzielenie pokemonow na typy \n",
    "# zbior danych \n",
    "# ustawiony parametr sort i assending kolejnosc malejaca "
   ]
  },
  {
   "cell_type": "code",
   "execution_count": 18,
   "id": "705f9cb4",
   "metadata": {},
   "outputs": [
    {
     "data": {
      "text/plain": [
       "Flying      97\n",
       "Ground      35\n",
       "Poison      34\n",
       "Psychic     33\n",
       "Fighting    26\n",
       "Name: Type 2, dtype: int64"
      ]
     },
     "execution_count": 18,
     "metadata": {},
     "output_type": "execute_result"
    }
   ],
   "source": [
    "pokType.value_counts().head()\n",
    "# pierwsze 5 "
   ]
  },
  {
   "cell_type": "code",
   "execution_count": 19,
   "id": "28559881",
   "metadata": {},
   "outputs": [
    {
     "data": {
      "text/plain": [
       "Name      Abomasnow\n",
       "Attack            5\n",
       "dtype: object"
      ]
     },
     "execution_count": 19,
     "metadata": {},
     "output_type": "execute_result"
    }
   ],
   "source": [
    "pok.min()"
   ]
  },
  {
   "cell_type": "code",
   "execution_count": 20,
   "id": "c22d0035",
   "metadata": {},
   "outputs": [
    {
     "data": {
      "text/plain": [
       "Name      Zygarde50% Forme\n",
       "Attack                 190\n",
       "dtype: object"
      ]
     },
     "execution_count": 20,
     "metadata": {},
     "output_type": "execute_result"
    }
   ],
   "source": [
    "pok.max()"
   ]
  },
  {
   "cell_type": "code",
   "execution_count": 23,
   "id": "2bccf8c8",
   "metadata": {},
   "outputs": [],
   "source": [
    "# pok.idxmin() w nowszej wersji tego nie ma "
   ]
  },
  {
   "cell_type": "code",
   "execution_count": null,
   "id": "bac143fb",
   "metadata": {},
   "outputs": [],
   "source": []
  }
 ],
 "metadata": {
  "kernelspec": {
   "display_name": "Python 3 (ipykernel)",
   "language": "python",
   "name": "python3"
  },
  "language_info": {
   "codemirror_mode": {
    "name": "ipython",
    "version": 3
   },
   "file_extension": ".py",
   "mimetype": "text/x-python",
   "name": "python",
   "nbconvert_exporter": "python",
   "pygments_lexer": "ipython3",
   "version": "3.10.9"
  }
 },
 "nbformat": 4,
 "nbformat_minor": 5
}
