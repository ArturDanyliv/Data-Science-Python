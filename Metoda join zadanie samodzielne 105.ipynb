{
 "cells": [
  {
   "cell_type": "code",
   "execution_count": 2,
   "id": "aca172ec",
   "metadata": {},
   "outputs": [],
   "source": [
    "# \n",
    "#1. Zaimportuj moduł pandas i numpy nadaj im standardowe aliasy\n",
    "#2. Do zmiennej customer_names zaimportuj z pliku customers.csv kolumny: CustomerID i CompanyName\n",
    "#3. Do zmiennej customer_cities zaimportuj z pliku customers.csv kolumny: CustomerID, City i Country\n",
    "#4. Wyświetl ilość elementów w obu tych zmiennych\n",
    "#5. Dodaj do obu zmiennych indeks na kolumnie CustomerID\n",
    "#6. Korzystając z polecenia join połącz dane z obu data frame. Dane mają być połączone \"po indeksie\"\n",
    "#7. Ile wierszy jest w wyniku złączenia?\n",
    "#8. Aby przećwiczyć inny rodzaj złączenia danych zresetuj indeks w customer_names\n",
    "#9. Korzystając z polecenia join połącz dane z obu data frame, ale tym razem wskaż jawnie, że do połaczenia ma\n",
    "#być wykorzystywana kolumna CustomerID z data frame customer_names\n",
    "#10. Ile jest wierszy w wyniku połączenia?"
   ]
  },
  {
   "cell_type": "code",
   "execution_count": 3,
   "id": "33359a76",
   "metadata": {},
   "outputs": [],
   "source": [
    "import pandas as pd\n",
    "import numpy as np "
   ]
  },
  {
   "cell_type": "code",
   "execution_count": 6,
   "id": "9edb847e",
   "metadata": {},
   "outputs": [],
   "source": [
    "customer_names = pd.read_csv('/Users/arturdanyliv/Downloads/course-files/northwind-mongo-master/customers.csv', usecols = ['CustomerID','CompanyName'])"
   ]
  },
  {
   "cell_type": "code",
   "execution_count": 7,
   "id": "0145a433",
   "metadata": {},
   "outputs": [],
   "source": [
    "customer_city = pd.read_csv('/Users/arturdanyliv/Downloads/course-files/northwind-mongo-master/customers.csv',usecols = ['CustomerID','City','Country'])"
   ]
  },
  {
   "cell_type": "code",
   "execution_count": 8,
   "id": "112a66ee",
   "metadata": {},
   "outputs": [
    {
     "data": {
      "text/plain": [
       "91"
      ]
     },
     "execution_count": 8,
     "metadata": {},
     "output_type": "execute_result"
    }
   ],
   "source": [
    "len(customer_names)"
   ]
  },
  {
   "cell_type": "code",
   "execution_count": 9,
   "id": "a2c4dc38",
   "metadata": {},
   "outputs": [
    {
     "data": {
      "text/plain": [
       "91"
      ]
     },
     "execution_count": 9,
     "metadata": {},
     "output_type": "execute_result"
    }
   ],
   "source": [
    "len(customer_city)"
   ]
  },
  {
   "cell_type": "code",
   "execution_count": 10,
   "id": "626ca43b",
   "metadata": {},
   "outputs": [],
   "source": [
    "customer_names.set_index('CustomerID', inplace=True)"
   ]
  },
  {
   "cell_type": "code",
   "execution_count": 12,
   "id": "c28068d7",
   "metadata": {},
   "outputs": [],
   "source": [
    "customer_city.set_index('CustomerID',inplace=True)"
   ]
  },
  {
   "cell_type": "code",
   "execution_count": null,
   "id": "2bed95c6",
   "metadata": {},
   "outputs": [],
   "source": []
  }
 ],
 "metadata": {
  "kernelspec": {
   "display_name": "Python 3 (ipykernel)",
   "language": "python",
   "name": "python3"
  },
  "language_info": {
   "codemirror_mode": {
    "name": "ipython",
    "version": 3
   },
   "file_extension": ".py",
   "mimetype": "text/x-python",
   "name": "python",
   "nbconvert_exporter": "python",
   "pygments_lexer": "ipython3",
   "version": "3.10.9"
  }
 },
 "nbformat": 4,
 "nbformat_minor": 5
}
